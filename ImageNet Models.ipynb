{
 "cells": [
  {
   "cell_type": "code",
   "execution_count": 1,
   "metadata": {},
   "outputs": [],
   "source": [
    "import numpy as np\n",
    "import pandas as pd\n",
    "import os, imageio\n",
    "\n",
    "import tensorflow.keras.metrics as tf_metrics\n",
    "from tensorflow.keras.optimizers import Adam\n",
    "from tensorflow.keras.callbacks import EarlyStopping\n",
    "from tensorflow.keras.models import Model, Sequential\n",
    "from tensorflow.keras.layers import Input, Dense, Dropout, BatchNormalization, \\\n",
    "                                    Conv2D, Flatten, TimeDistributed, LSTM, MaxPooling2D\n",
    "\n",
    "import warnings\n",
    "warnings.filterwarnings('ignore')"
   ]
  },
  {
   "cell_type": "markdown",
   "metadata": {},
   "source": [
    "## Helper Functions"
   ]
  },
  {
   "cell_type": "markdown",
   "metadata": {},
   "source": [
    "---"
   ]
  },
  {
   "cell_type": "markdown",
   "metadata": {},
   "source": [
    "The following are functions I use throughout model building "
   ]
  },
  {
   "cell_type": "code",
   "execution_count": 2,
   "metadata": {},
   "outputs": [],
   "source": [
    "# modified from https://mc.ai/train-keras-model-with-large-dataset-batch-training/\n",
    "def load_data(df, batch_n, batch_size, subset):\n",
    "    if batch_n > 0:\n",
    "        df = pd.read_csv(df, skiprows=batch_n*batch_size+1, nrows=batch_size, names=['filename', 'label'])\n",
    "    else:\n",
    "        df = pd.read_csv(df, skiprows=batch_n*batch_size, nrows=batch_size)\n",
    "    \n",
    "    frames = []\n",
    "    for dir in df['filename']:\n",
    "        try:\n",
    "            frame_path = subset + '/' + dir + '/' + os.listdir(subset + '/' + dir)[14]\n",
    "        #if 15th frame does not exist, use first frame\n",
    "        except IndexError:\n",
    "            frame_path = subset + '/' + dir + '/' + os.listdir(subset + '/' + dir)[0]\n",
    "\n",
    "        frame = imageio.imread(frame_path)\n",
    "\n",
    "        frames.append(frame)\n",
    "    \n",
    "    frames = np.array(frames)\n",
    "    x = frames.astype('float32')\n",
    "    x /= 255\n",
    "    \n",
    "    y = np.array(df['label'])\n",
    "    #print(y)\n",
    "    \n",
    "    #print(f'{batch_n} passed')\n",
    "    return (x, y)\n",
    "\n",
    "def batch_generator(df, batch_size, steps, subset):\n",
    "    batch_n = 1\n",
    "    while True: \n",
    "        yield load_data(df, batch_n-1, batch_size, subset)\n",
    "        if batch_n < steps:\n",
    "            batch_n+=1\n",
    "        else:\n",
    "            batch_n=1"
   ]
  },
  {
   "cell_type": "code",
   "execution_count": 3,
   "metadata": {},
   "outputs": [],
   "source": [
    "def build_imagenet_model(pretrained_model):\n",
    "\n",
    "    base_model_out = pretrained_model.output\n",
    "\n",
    "    # Add flatten layer\n",
    "    base_model_out = Flatten()(base_model_out)\n",
    "\n",
    "    # Add 2 dense layers with dropout and batch normalization\n",
    "    base_model_out = Dense(1024, activation='relu')(base_model_out)\n",
    "    base_model_out = Dropout(0.5)(base_model_out)\n",
    "    base_model_out = BatchNormalization()(base_model_out)\n",
    "    \n",
    "    base_model_out = Dense(512, activation='relu')(base_model_out)\n",
    "    base_model_out = Dropout(0.25)(base_model_out)\n",
    "    base_model_out = BatchNormalization()(base_model_out)\n",
    "\n",
    "    # Add final 1 neuron layer, using sigmoid activation for binary classification\n",
    "    preds = Dense(1, activation='sigmoid')(base_model_out)\n",
    "\n",
    "    # Instantiate our final model, where we specify what are the inputs and \n",
    "    # the outputs will look like\n",
    "    model = Model(inputs = pretrained_model.input, outputs = preds)\n",
    "    \n",
    "    return model"
   ]
  },
  {
   "cell_type": "code",
   "execution_count": 4,
   "metadata": {},
   "outputs": [],
   "source": [
    "metadata_train = pd.read_csv('metadata_train.csv')\n",
    "metadata_train['filename'] = metadata_train['filename'].str.replace('data_30/', '')\n",
    "\n",
    "metadata_validation = pd.read_csv('metadata_validation.csv')\n",
    "metadata_validation['filename'] = metadata_validation['filename'].str.replace('train/', '')\n",
    "\n",
    "#metadata_test = pd.read_csv('metadata_test.csv')\n",
    "#metadata_test['filename'] = metadata_test['filename'].str.replace('data_30/', '')"
   ]
  },
  {
   "cell_type": "code",
   "execution_count": 17,
   "metadata": {},
   "outputs": [],
   "source": [
    "# export csv files with clean filenames for batch generation\n",
    "# metadata_train.to_csv('train.csv', index=False)\n",
    "# metadata_validation.to_csv('validation.csv', index=False)\n",
    "#metadata_test.to_csv('test.csv', index=False)"
   ]
  },
  {
   "cell_type": "markdown",
   "metadata": {},
   "source": [
    "## Baseline CNN Performance using 1 frame per video"
   ]
  },
  {
   "cell_type": "markdown",
   "metadata": {},
   "source": [
    "---"
   ]
  },
  {
   "cell_type": "code",
   "execution_count": 5,
   "metadata": {},
   "outputs": [],
   "source": [
    "import tensorflow as tf\n",
    "from tensorflow.keras import backend as K\n",
    "\n",
    "# custom function to obtain auc metric\n",
    "# https://stackoverflow.com/questions/41032551/how-to-compute-receiving-operating-characteristic-roc-and-auc-in-keras\n",
    "def auc(y_true, y_pred):\n",
    "    auc = tf.metrics.auc(y_true, y_pred)[1]\n",
    "    K.get_session().run(tf.local_variables_initializer())\n",
    "    return auc"
   ]
  },
  {
   "cell_type": "code",
   "execution_count": 6,
   "metadata": {},
   "outputs": [],
   "source": [
    "### Hyperparameters\n",
    "EPOCHS = 30\n",
    "BATCH_SIZE = 4\n",
    "\n",
    "'''METRICS = [\n",
    "      tf_metrics.TruePositives(name='tp'),\n",
    "      tf_metrics.FalsePositives(name='fp'),\n",
    "      tf_metrics.TrueNegatives(name='tn'),\n",
    "      tf_metrics.FalseNegatives(name='fn'), \n",
    "      tf_metrics.BinaryAccuracy(name='accuracy'),\n",
    "      tf_metrics.Precision(name='precision'),\n",
    "      tf_metrics.Recall(name='recall'),\n",
    "      tf_metrics.AUC(name='auc'),\n",
    "]'''\n",
    "\n",
    "# use ADAM optimizer with a learning rate of 0.001 and decay of 0.0001\n",
    "opt = Adam(lr=0.001, decay = 0.0001)"
   ]
  },
  {
   "cell_type": "code",
   "execution_count": 7,
   "metadata": {},
   "outputs": [
    {
     "name": "stdout",
     "output_type": "stream",
     "text": [
      "{0: 4.023775216138328, 1: 0.5709466366796156}\n"
     ]
    }
   ],
   "source": [
    "# set weights for each class to reflect their imbalance\n",
    "real, fake = np.bincount(metadata_train['label'])\n",
    "total = real + fake\n",
    "\n",
    "weight_real = (1 / real)*(total)/2.0 \n",
    "weight_fake = (1 / fake)*(total)/2.0\n",
    "\n",
    "class_weight = {0: weight_real, 1: weight_fake}\n",
    "print(class_weight)"
   ]
  },
  {
   "cell_type": "code",
   "execution_count": 8,
   "metadata": {},
   "outputs": [],
   "source": [
    "# stop training early if auc stops improving at after the first 10 epochs\n",
    "early_stopping = EarlyStopping(\n",
    "    monitor='auc', \n",
    "    verbose=1,\n",
    "    patience=10,\n",
    "    mode='max')"
   ]
  },
  {
   "cell_type": "code",
   "execution_count": 9,
   "metadata": {},
   "outputs": [],
   "source": [
    "steps_train = metadata_train.shape[0]//BATCH_SIZE\n",
    "steps_validation = metadata_validation.shape[0]//BATCH_SIZE\n",
    "#steps_test = metadata_test.shape[0]//BATCH_SIZE\n",
    "\n",
    "train_generator = batch_generator(\n",
    "    'train.csv', BATCH_SIZE, steps_train, subset='train')\n",
    "\n",
    "validation_generator = batch_generator(\n",
    "    'validation.csv', BATCH_SIZE, steps_validation, subset='validation')\n",
    "\n",
    "#test_generator = batch_generator(\n",
    "#    'test.csv', BATCH_SIZE, steps_test, subset='test')"
   ]
  },
  {
   "cell_type": "markdown",
   "metadata": {},
   "source": [
    "### CNN from scratch"
   ]
  },
  {
   "cell_type": "markdown",
   "metadata": {},
   "source": [
    "---"
   ]
  },
  {
   "cell_type": "code",
   "execution_count": 22,
   "metadata": {
    "scrolled": true
   },
   "outputs": [
    {
     "name": "stdout",
     "output_type": "stream",
     "text": [
      "Epoch 1/30\n",
      "698/698 [==============================] - 42s 60ms/step - loss: 0.7278 - binary_accuracy: 0.5190 - auc: 0.5367 - val_loss: 0.4785 - val_binary_accuracy: 0.8873 - val_auc: 0.5646\n",
      "Epoch 2/30\n",
      "698/698 [==============================] - 39s 56ms/step - loss: 0.6885 - binary_accuracy: 0.5587 - auc: 0.5539 - val_loss: 0.4961 - val_binary_accuracy: 0.8851 - val_auc: 0.5616\n",
      "Epoch 3/30\n",
      "698/698 [==============================] - 39s 56ms/step - loss: 0.6881 - binary_accuracy: 0.5462 - auc: 0.5583 - val_loss: 0.5558 - val_binary_accuracy: 0.8880 - val_auc: 0.5605\n",
      "Epoch 4/30\n",
      "698/698 [==============================] - 39s 56ms/step - loss: 0.6883 - binary_accuracy: 0.5419 - auc: 0.5572 - val_loss: 0.5421 - val_binary_accuracy: 0.8873 - val_auc: 0.5579\n",
      "Epoch 5/30\n",
      "698/698 [==============================] - 39s 57ms/step - loss: 0.6850 - binary_accuracy: 0.5713 - auc: 0.5568 - val_loss: 0.5617 - val_binary_accuracy: 0.8844 - val_auc: 0.5578\n",
      "Epoch 6/30\n",
      "698/698 [==============================] - 39s 56ms/step - loss: 0.6912 - binary_accuracy: 0.4855 - auc: 0.5554 - val_loss: 0.6109 - val_binary_accuracy: 0.8779 - val_auc: 0.5545\n",
      "Epoch 7/30\n",
      "698/698 [==============================] - 40s 57ms/step - loss: 0.6900 - binary_accuracy: 0.5263 - auc: 0.5527 - val_loss: 0.6372 - val_binary_accuracy: 0.8779 - val_auc: 0.5524\n",
      "Epoch 8/30\n",
      "698/698 [==============================] - 39s 56ms/step - loss: 0.6849 - binary_accuracy: 0.5784 - auc: 0.5527 - val_loss: 0.5878 - val_binary_accuracy: 0.8829 - val_auc: 0.5535\n",
      "Epoch 9/30\n",
      "698/698 [==============================] - 39s 56ms/step - loss: 0.6888 - binary_accuracy: 0.5795 - auc: 0.5529 - val_loss: 0.6126 - val_binary_accuracy: 0.8851 - val_auc: 0.5524\n",
      "Epoch 10/30\n",
      "698/698 [==============================] - 40s 57ms/step - loss: 0.6904 - binary_accuracy: 0.5661 - auc: 0.5509 - val_loss: 0.7053 - val_binary_accuracy: 0.8685 - val_auc: 0.5511\n",
      "Epoch 11/30\n",
      "698/698 [==============================] - 39s 56ms/step - loss: 0.6891 - binary_accuracy: 0.6116 - auc: 0.5510 - val_loss: 0.6959 - val_binary_accuracy: 0.8728 - val_auc: 0.5510\n",
      "Epoch 12/30\n",
      "698/698 [==============================] - 39s 57ms/step - loss: 0.6817 - binary_accuracy: 0.6107 - auc: 0.5515 - val_loss: 0.7118 - val_binary_accuracy: 0.8540 - val_auc: 0.5530\n",
      "Epoch 13/30\n",
      "698/698 [==============================] - 39s 56ms/step - loss: 0.6852 - binary_accuracy: 0.5890 - auc: 0.5531 - val_loss: 0.6416 - val_binary_accuracy: 0.8750 - val_auc: 0.5542\n",
      "Epoch 14/30\n",
      "698/698 [==============================] - 39s 56ms/step - loss: 0.6860 - binary_accuracy: 0.6205 - auc: 0.5543 - val_loss: 0.6248 - val_binary_accuracy: 0.8779 - val_auc: 0.5545\n",
      "Epoch 15/30\n",
      "698/698 [==============================] - 39s 56ms/step - loss: 0.6872 - binary_accuracy: 0.6139 - auc: 0.5542 - val_loss: 0.6303 - val_binary_accuracy: 0.8656 - val_auc: 0.5545\n",
      "Epoch 16/30\n",
      "698/698 [==============================] - 39s 56ms/step - loss: 0.6883 - binary_accuracy: 0.6257 - auc: 0.5545 - val_loss: 0.6361 - val_binary_accuracy: 0.8736 - val_auc: 0.5546\n",
      "Epoch 17/30\n",
      "698/698 [==============================] - 39s 57ms/step - loss: 0.6879 - binary_accuracy: 0.6098 - auc: 0.5547 - val_loss: 0.7011 - val_binary_accuracy: 0.8533 - val_auc: 0.5547\n",
      "Epoch 18/30\n",
      "698/698 [==============================] - 39s 56ms/step - loss: 0.6880 - binary_accuracy: 0.6012 - auc: 0.5549 - val_loss: 0.6636 - val_binary_accuracy: 0.8728 - val_auc: 0.5548\n",
      "Epoch 19/30\n",
      "698/698 [==============================] - 39s 57ms/step - loss: 0.6901 - binary_accuracy: 0.5159 - auc: 0.5544 - val_loss: 0.6317 - val_binary_accuracy: 0.8721 - val_auc: 0.5543\n",
      "Epoch 20/30\n",
      "698/698 [==============================] - 41s 59ms/step - loss: 0.6884 - binary_accuracy: 0.6229 - auc: 0.5542 - val_loss: 0.6077 - val_binary_accuracy: 0.8627 - val_auc: 0.5542\n",
      "Epoch 21/30\n",
      "698/698 [==============================] - 39s 56ms/step - loss: 0.6896 - binary_accuracy: 0.4966 - auc: 0.5538 - val_loss: 0.6269 - val_binary_accuracy: 0.8764 - val_auc: 0.5539\n",
      "Epoch 22/30\n",
      "698/698 [==============================] - 39s 56ms/step - loss: 0.6858 - binary_accuracy: 0.6098 - auc: 0.5540 - val_loss: 0.6212 - val_binary_accuracy: 0.8512 - val_auc: 0.5542\n",
      "Epoch 23/30\n",
      "698/698 [==============================] - 39s 56ms/step - loss: 0.6886 - binary_accuracy: 0.5815 - auc: 0.5542 - val_loss: 0.5804 - val_binary_accuracy: 0.8873 - val_auc: 0.5539\n",
      "Epoch 24/30\n",
      "698/698 [==============================] - 40s 57ms/step - loss: 0.6930 - binary_accuracy: 0.4694 - auc: 0.5534 - val_loss: 0.6246 - val_binary_accuracy: 0.8663 - val_auc: 0.5530\n",
      "Epoch 25/30\n",
      "698/698 [==============================] - 40s 58ms/step - loss: 0.6924 - binary_accuracy: 0.4645 - auc: 0.5526 - val_loss: 0.6014 - val_binary_accuracy: 0.8866 - val_auc: 0.5522\n",
      "Epoch 26/30\n",
      "698/698 [==============================] - 40s 57ms/step - loss: 0.6930 - binary_accuracy: 0.4586 - auc: 0.5518 - val_loss: 0.6148 - val_binary_accuracy: 0.8866 - val_auc: 0.5513\n",
      "Epoch 27/30\n",
      "698/698 [==============================] - 40s 57ms/step - loss: 0.6925 - binary_accuracy: 0.4579 - auc: 0.5510 - val_loss: 0.6199 - val_binary_accuracy: 0.8866 - val_auc: 0.5506\n",
      "Epoch 28/30\n",
      "698/698 [==============================] - 40s 57ms/step - loss: 0.6928 - binary_accuracy: 0.4554 - auc: 0.5503 - val_loss: 0.6241 - val_binary_accuracy: 0.8866 - val_auc: 0.5498\n",
      "Epoch 29/30\n",
      "698/698 [==============================] - 40s 57ms/step - loss: 0.6928 - binary_accuracy: 0.4568 - auc: 0.5495 - val_loss: 0.6407 - val_binary_accuracy: 0.8858 - val_auc: 0.5491\n",
      "Epoch 30/30\n",
      "698/698 [==============================] - 40s 57ms/step - loss: 0.6925 - binary_accuracy: 0.4572 - auc: 0.5489 - val_loss: 0.6069 - val_binary_accuracy: 0.8873 - val_auc: 0.5484\n"
     ]
    }
   ],
   "source": [
    "# fewer convolutions can result in tensor sizes that can exceed GPU memory\n",
    "my_cnn = Sequential([\n",
    "    Conv2D(64, kernel_size=(3, 3), activation='relu', input_shape=(160, 160, 3)),\n",
    "    Conv2D(32, kernel_size=(3, 3), activation='relu'),\n",
    "    MaxPooling2D(pool_size=(2, 2)),\n",
    "    Dropout(0.5),\n",
    "    Conv2D(32, kernel_size=(3, 3), activation='relu'),\n",
    "    MaxPooling2D(pool_size=(2, 2)),\n",
    "    Dropout(0.25),\n",
    "    Flatten(),\n",
    "    Dense(128, activation='relu'),\n",
    "    Dropout(0.5),\n",
    "    BatchNormalization(),\n",
    "    Dense(1, activation='sigmoid')\n",
    "])\n",
    "\n",
    "my_cnn.compile(loss='binary_crossentropy', optimizer=opt, metrics=['binary_accuracy', auc])\n",
    "\n",
    "my_cnn_history = my_cnn.fit_generator(\n",
    "    train_generator, epochs=EPOCHS, steps_per_epoch=steps_train,\n",
    "    verbose=1, shuffle=True, \n",
    "    validation_data=validation_generator, \n",
    "    validation_steps=steps_validation,\n",
    "    class_weight=class_weight)"
   ]
  },
  {
   "cell_type": "markdown",
   "metadata": {},
   "source": [
    "Not surprisingly, the scores are terrible! And the model does not seem to be learning at all. "
   ]
  },
  {
   "cell_type": "code",
   "execution_count": 70,
   "metadata": {},
   "outputs": [],
   "source": [
    "my_cnn.save(\"models/my_cnn.h5\")"
   ]
  },
  {
   "cell_type": "code",
   "execution_count": 16,
   "metadata": {
    "scrolled": true
   },
   "outputs": [],
   "source": [
    "import matplotlib.pyplot as plt\n",
    "plt.rcParams['figure.figsize'] = (10.0, 5.0)\n",
    "\n",
    "def plot_metrics(model):\n",
    "    train_accuracies = model.history.history['binary_accuracy']\n",
    "    val_accuracies = model.history.history['val_binary_accuracy']\n",
    "    \n",
    "    train_auc = model.history.history['auc']\n",
    "    val_auc = model.history.history['val_auc']\n",
    "    \n",
    "    n_epochs = np.arange(1, len(train_accuracies) + 1)\n",
    "\n",
    "    plt.subplots(1,2)\n",
    "    \n",
    "    plt.subplot(1,2,1)\n",
    "    plt.plot(n_epochs, train_accuracies, c='darkorange', label='Train')\n",
    "    plt.plot(n_epochs, val_accuracies, c='darkblue', label='Validation')\n",
    "    plt.plot(n_epochs, [0.88]*30, c='red', linestyle=\"--\", label='Proportion of Fakes')\n",
    "    plt.ylabel('Accuracy', fontdict={'size':16})\n",
    "    plt.xlabel('Epoch', fontdict={'size':16})\n",
    "    plt.axis(ymin=0, ymax=1)\n",
    "    plt.legend()\n",
    "    \n",
    "    plt.subplot(1,2,2)\n",
    "    plt.plot(n_epochs, train_auc, c='darkorange', label='Train')\n",
    "    plt.plot(n_epochs, val_auc, c='darkblue', label='Validation')\n",
    "    plt.ylabel('AUC', fontdict={'size':16})\n",
    "    plt.xlabel('Epoch', fontdict={'size':16})\n",
    "    plt.axis(ymin=0.5, ymax=1)\n",
    "    \n",
    "    plt.tight_layout(pad=3)\n",
    "    plt.show()"
   ]
  },
  {
   "cell_type": "code",
   "execution_count": 69,
   "metadata": {},
   "outputs": [
    {
     "data": {
      "image/png": "[encoded data removed]",
      "text/plain": [
       "<Figure size 720x360 with 2 Axes>"
      ]
     },
     "metadata": {
      "needs_background": "light"
     },
     "output_type": "display_data"
    }
   ],
   "source": [
    "plot_metrics(my_cnn)"
   ]
  },
  {
   "cell_type": "code",
   "execution_count": 76,
   "metadata": {},
   "outputs": [
    {
     "name": "stdout",
     "output_type": "stream",
     "text": [
      "346/346 [==============================] - 3s 10ms/step\n"
     ]
    }
   ],
   "source": [
    "my_cnn_predictions_v = my_cnn.predict_generator(\n",
    "    validation_generator, steps=metadata_validation.shape[0]//BATCH_SIZE, verbose=1)"
   ]
  },
  {
   "cell_type": "code",
   "execution_count": 84,
   "metadata": {
    "scrolled": true
   },
   "outputs": [
    {
     "data": {
      "text/plain": [
       "array([[0.9999975],\n",
       "       [0.9999976],\n",
       "       [0.9999989],\n",
       "       ...,\n",
       "       [0.9999976],\n",
       "       [0.9999989],\n",
       "       [0.9999976]], dtype=float32)"
      ]
     },
     "execution_count": 84,
     "metadata": {},
     "output_type": "execute_result"
    }
   ],
   "source": [
    "weighted_predictions_validation"
   ]
  },
  {
   "cell_type": "markdown",
   "metadata": {},
   "source": [
    "### Pre-trained Deep ImageNet Models"
   ]
  },
  {
   "cell_type": "markdown",
   "metadata": {},
   "source": [
    "---"
   ]
  },
  {
   "cell_type": "code",
   "execution_count": 10,
   "metadata": {},
   "outputs": [],
   "source": [
    "from tensorflow.keras.applications.vgg16 import VGG16\n",
    "\n",
    "vgg = VGG16(\n",
    "    include_top=False,\n",
    "    weights='imagenet',\n",
    "    input_shape=(160, 160, 3)\n",
    ")"
   ]
  },
  {
   "cell_type": "code",
   "execution_count": 11,
   "metadata": {},
   "outputs": [
    {
     "name": "stdout",
     "output_type": "stream",
     "text": [
      "_________________________________________________________________\n",
      "Layer (type)                 Output Shape              Param #   \n",
      "=================================================================\n",
      "input_2 (InputLayer)         (None, 160, 160, 3)       0         \n",
      "_________________________________________________________________\n",
      "block1_conv1 (Conv2D)        (None, 160, 160, 64)      1792      \n",
      "_________________________________________________________________\n",
      "block1_conv2 (Conv2D)        (None, 160, 160, 64)      36928     \n",
      "_________________________________________________________________\n",
      "block1_pool (MaxPooling2D)   (None, 80, 80, 64)        0         \n",
      "_________________________________________________________________\n",
      "block2_conv1 (Conv2D)        (None, 80, 80, 128)       73856     \n",
      "_________________________________________________________________\n",
      "block2_conv2 (Conv2D)        (None, 80, 80, 128)       147584    \n",
      "_________________________________________________________________\n",
      "block2_pool (MaxPooling2D)   (None, 40, 40, 128)       0         \n",
      "_________________________________________________________________\n",
      "block3_conv1 (Conv2D)        (None, 40, 40, 256)       295168    \n",
      "_________________________________________________________________\n",
      "block3_conv2 (Conv2D)        (None, 40, 40, 256)       590080    \n",
      "_________________________________________________________________\n",
      "block3_conv3 (Conv2D)        (None, 40, 40, 256)       590080    \n",
      "_________________________________________________________________\n",
      "block3_pool (MaxPooling2D)   (None, 20, 20, 256)       0         \n",
      "_________________________________________________________________\n",
      "block4_conv1 (Conv2D)        (None, 20, 20, 512)       1180160   \n",
      "_________________________________________________________________\n",
      "block4_conv2 (Conv2D)        (None, 20, 20, 512)       2359808   \n",
      "_________________________________________________________________\n",
      "block4_conv3 (Conv2D)        (None, 20, 20, 512)       2359808   \n",
      "_________________________________________________________________\n",
      "block4_pool (MaxPooling2D)   (None, 10, 10, 512)       0         \n",
      "_________________________________________________________________\n",
      "block5_conv1 (Conv2D)        (None, 10, 10, 512)       2359808   \n",
      "_________________________________________________________________\n",
      "block5_conv2 (Conv2D)        (None, 10, 10, 512)       2359808   \n",
      "_________________________________________________________________\n",
      "block5_conv3 (Conv2D)        (None, 10, 10, 512)       2359808   \n",
      "_________________________________________________________________\n",
      "block5_pool (MaxPooling2D)   (None, 5, 5, 512)         0         \n",
      "=================================================================\n",
      "Total params: 14,714,688\n",
      "Trainable params: 14,714,688\n",
      "Non-trainable params: 0\n",
      "_________________________________________________________________\n"
     ]
    }
   ],
   "source": [
    "vgg.summary()"
   ]
  },
  {
   "cell_type": "code",
   "execution_count": 11,
   "metadata": {},
   "outputs": [],
   "source": [
    "vgg_model = build_imagenet_model(vgg)\n",
    "\n",
    "for layer in vgg_model.layers[:len(vgg.layers)]:\n",
    "    layer.trainable = False"
   ]
  },
  {
   "cell_type": "code",
   "execution_count": 25,
   "metadata": {},
   "outputs": [
    {
     "ename": "NameError",
     "evalue": "name 'vgg_model' is not defined",
     "output_type": "error",
     "traceback": [
      "\u001b[1;31m---------------------------------------------------------------------------\u001b[0m",
      "\u001b[1;31mNameError\u001b[0m                                 Traceback (most recent call last)",
      "\u001b[1;32m<ipython-input-25-a13555bca571>\u001b[0m in \u001b[0;36m<module>\u001b[1;34m\u001b[0m\n\u001b[0;32m      1\u001b[0m \u001b[0mopt\u001b[0m \u001b[1;33m=\u001b[0m \u001b[0mAdam\u001b[0m\u001b[1;33m(\u001b[0m\u001b[0mlr\u001b[0m\u001b[1;33m=\u001b[0m\u001b[1;36m0.01\u001b[0m\u001b[1;33m,\u001b[0m \u001b[0mdecay\u001b[0m \u001b[1;33m=\u001b[0m \u001b[1;36m0.001\u001b[0m\u001b[1;33m)\u001b[0m\u001b[1;33m\u001b[0m\u001b[1;33m\u001b[0m\u001b[0m\n\u001b[1;32m----> 2\u001b[1;33m \u001b[0mvgg_model\u001b[0m\u001b[1;33m.\u001b[0m\u001b[0mcompile\u001b[0m\u001b[1;33m(\u001b[0m\u001b[0mloss\u001b[0m\u001b[1;33m=\u001b[0m\u001b[1;34m'binary_crossentropy'\u001b[0m\u001b[1;33m,\u001b[0m \u001b[0moptimizer\u001b[0m\u001b[1;33m=\u001b[0m\u001b[0mopt\u001b[0m\u001b[1;33m,\u001b[0m \u001b[0mmetrics\u001b[0m\u001b[1;33m=\u001b[0m\u001b[1;33m[\u001b[0m\u001b[1;34m'binary_accuracy'\u001b[0m\u001b[1;33m,\u001b[0m \u001b[0mauc\u001b[0m\u001b[1;33m]\u001b[0m\u001b[1;33m)\u001b[0m\u001b[1;33m\u001b[0m\u001b[1;33m\u001b[0m\u001b[0m\n\u001b[0m",
      "\u001b[1;31mNameError\u001b[0m: name 'vgg_model' is not defined"
     ]
    }
   ],
   "source": [
    "vgg_model.compile(loss='binary_crossentropy', optimizer=opt, metrics=['binary_accuracy', auc])"
   ]
  },
  {
   "cell_type": "code",
   "execution_count": 13,
   "metadata": {
    "scrolled": true
   },
   "outputs": [
    {
     "name": "stdout",
     "output_type": "stream",
     "text": [
      "Epoch 1/30\n",
      "698/698 [==============================] - 184s 264ms/step - loss: 0.8362 - binary_accuracy: 0.5933 - auc: 0.5702 - val_loss: 0.5273 - val_binary_accuracy: 0.7305 - val_auc: 0.6111\n",
      "Epoch 2/30\n",
      "698/698 [==============================] - 82s 118ms/step - loss: 0.6671 - binary_accuracy: 0.6255 - auc: 0.6182 - val_loss: 1.1364 - val_binary_accuracy: 0.4603 - val_auc: 0.6259\n",
      "Epoch 3/30\n",
      "698/698 [==============================] - 83s 119ms/step - loss: 0.6663 - binary_accuracy: 0.6143 - auc: 0.6262 - val_loss: 1.1153 - val_binary_accuracy: 0.3663 - val_auc: 0.6291\n",
      "Epoch 4/30\n",
      "698/698 [==============================] - 83s 119ms/step - loss: 0.6507 - binary_accuracy: 0.6408 - auc: 0.6306 - val_loss: 1.2206 - val_binary_accuracy: 0.4053 - val_auc: 0.6350\n",
      "Epoch 5/30\n",
      "698/698 [==============================] - 83s 119ms/step - loss: 0.6570 - binary_accuracy: 0.6338 - auc: 0.6369 - val_loss: 1.0674 - val_binary_accuracy: 0.5426 - val_auc: 0.6385\n",
      "Epoch 6/30\n",
      "698/698 [==============================] - 83s 119ms/step - loss: 0.6485 - binary_accuracy: 0.6336 - auc: 0.6393 - val_loss: 0.9210 - val_binary_accuracy: 0.4444 - val_auc: 0.6425\n",
      "Epoch 7/30\n",
      "698/698 [==============================] - 83s 119ms/step - loss: 0.6298 - binary_accuracy: 0.6605 - auc: 0.6450 - val_loss: 0.9227 - val_binary_accuracy: 0.4010 - val_auc: 0.6497\n",
      "Epoch 8/30\n",
      "698/698 [==============================] - 83s 119ms/step - loss: 0.6458 - binary_accuracy: 0.6434 - auc: 0.6498 - val_loss: 1.0408 - val_binary_accuracy: 0.4111 - val_auc: 0.6521\n",
      "Epoch 9/30\n",
      "698/698 [==============================] - 83s 119ms/step - loss: 0.6375 - binary_accuracy: 0.6687 - auc: 0.6521 - val_loss: 1.2291 - val_binary_accuracy: 0.2413 - val_auc: 0.6543\n",
      "Epoch 10/30\n",
      "698/698 [==============================] - 83s 119ms/step - loss: 0.6245 - binary_accuracy: 0.6639 - auc: 0.6544 - val_loss: 1.1703 - val_binary_accuracy: 0.2377 - val_auc: 0.6570\n",
      "Epoch 11/30\n",
      "698/698 [==============================] - 83s 119ms/step - loss: 0.6269 - binary_accuracy: 0.6622 - auc: 0.6571 - val_loss: 0.8562 - val_binary_accuracy: 0.4884 - val_auc: 0.6599\n",
      "Epoch 12/30\n",
      "698/698 [==============================] - 83s 119ms/step - loss: 0.6027 - binary_accuracy: 0.6682 - auc: 0.6618 - val_loss: 0.9085 - val_binary_accuracy: 0.5000 - val_auc: 0.6657\n",
      "Epoch 13/30\n",
      "698/698 [==============================] - 83s 119ms/step - loss: 0.6126 - binary_accuracy: 0.6691 - auc: 0.6678 - val_loss: 1.1951 - val_binary_accuracy: 0.2095 - val_auc: 0.6690\n",
      "Epoch 14/30\n",
      "698/698 [==============================] - 83s 119ms/step - loss: 0.6181 - binary_accuracy: 0.6692 - auc: 0.6691 - val_loss: 1.1505 - val_binary_accuracy: 0.3743 - val_auc: 0.6710\n",
      "Epoch 15/30\n",
      "698/698 [==============================] - 83s 119ms/step - loss: 0.5983 - binary_accuracy: 0.6823 - auc: 0.6719 - val_loss: 1.2027 - val_binary_accuracy: 0.4003 - val_auc: 0.6744\n",
      "Epoch 16/30\n",
      "698/698 [==============================] - 83s 119ms/step - loss: 0.5852 - binary_accuracy: 0.6846 - auc: 0.6760 - val_loss: 1.3685 - val_binary_accuracy: 0.2168 - val_auc: 0.6783\n",
      "Epoch 17/30\n",
      "698/698 [==============================] - 83s 119ms/step - loss: 0.6245 - binary_accuracy: 0.6560 - auc: 0.6782 - val_loss: 0.9171 - val_binary_accuracy: 0.4538 - val_auc: 0.6785\n",
      "Epoch 18/30\n",
      "698/698 [==============================] - 83s 119ms/step - loss: 0.6053 - binary_accuracy: 0.6605 - auc: 0.6796 - val_loss: 1.1561 - val_binary_accuracy: 0.2442 - val_auc: 0.6808\n",
      "Epoch 19/30\n",
      "698/698 [==============================] - 83s 119ms/step - loss: 0.5934 - binary_accuracy: 0.6769 - auc: 0.6818 - val_loss: 0.9727 - val_binary_accuracy: 0.4834 - val_auc: 0.6835\n",
      "Epoch 20/30\n",
      "698/698 [==============================] - 83s 119ms/step - loss: 0.5895 - binary_accuracy: 0.6812 - auc: 0.6852 - val_loss: 0.9057 - val_binary_accuracy: 0.3367 - val_auc: 0.6868\n",
      "Epoch 21/30\n",
      "698/698 [==============================] - 82s 118ms/step - loss: 0.6009 - binary_accuracy: 0.6576 - auc: 0.6879 - val_loss: 0.7690 - val_binary_accuracy: 0.6055 - val_auc: 0.6894\n",
      "Epoch 22/30\n",
      "698/698 [==============================] - 82s 117ms/step - loss: 0.6192 - binary_accuracy: 0.6590 - auc: 0.6897 - val_loss: 1.1761 - val_binary_accuracy: 0.4451 - val_auc: 0.6906\n",
      "Epoch 23/30\n",
      "698/698 [==============================] - 82s 117ms/step - loss: 0.5921 - binary_accuracy: 0.6631 - auc: 0.6911 - val_loss: 0.8669 - val_binary_accuracy: 0.5224 - val_auc: 0.6928\n",
      "Epoch 24/30\n",
      "698/698 [==============================] - 82s 117ms/step - loss: 0.6089 - binary_accuracy: 0.6622 - auc: 0.6935 - val_loss: 0.8654 - val_binary_accuracy: 0.4964 - val_auc: 0.6944\n",
      "Epoch 25/30\n",
      "698/698 [==============================] - 82s 117ms/step - loss: 0.6273 - binary_accuracy: 0.6535 - auc: 0.6943 - val_loss: 1.2492 - val_binary_accuracy: 0.1561 - val_auc: 0.6941\n",
      "Epoch 26/30\n",
      "698/698 [==============================] - 82s 117ms/step - loss: 0.6389 - binary_accuracy: 0.6332 - auc: 0.6928 - val_loss: 0.9476 - val_binary_accuracy: 0.4964 - val_auc: 0.6927\n",
      "Epoch 27/30\n",
      "698/698 [==============================] - 82s 117ms/step - loss: 0.6363 - binary_accuracy: 0.6524 - auc: 0.6923 - val_loss: 1.3540 - val_binary_accuracy: 0.2421 - val_auc: 0.6918\n",
      "Epoch 28/30\n",
      "698/698 [==============================] - 83s 119ms/step - loss: 0.6300 - binary_accuracy: 0.6545 - auc: 0.6913 - val_loss: 1.0811 - val_binary_accuracy: 0.2471 - val_auc: 0.6913\n",
      "Epoch 29/30\n",
      "698/698 [==============================] - 83s 119ms/step - loss: 0.6281 - binary_accuracy: 0.6633 - auc: 0.6912 - val_loss: 0.6521 - val_binary_accuracy: 0.6402 - val_auc: 0.6915\n",
      "Epoch 30/30\n",
      "698/698 [==============================] - 83s 119ms/step - loss: 0.6139 - binary_accuracy: 0.6381 - auc: 0.6920 - val_loss: 0.7432 - val_binary_accuracy: 0.6113 - val_auc: 0.6927\n"
     ]
    }
   ],
   "source": [
    "vgg_history = vgg_model.fit_generator(\n",
    "    train_generator, epochs=EPOCHS, steps_per_epoch=steps_train,\n",
    "    verbose=1, shuffle=True, \n",
    "    validation_data=validation_generator, \n",
    "    validation_steps=steps_validation,\n",
    "    class_weight=class_weight)"
   ]
  },
  {
   "cell_type": "code",
   "execution_count": 42,
   "metadata": {},
   "outputs": [
    {
     "name": "stdout",
     "output_type": "stream",
     "text": [
      "699/699 [==============================] - 63s 90ms/step\n"
     ]
    },
    {
     "data": {
      "text/plain": [
       "array([[0.99998784],\n",
       "       [0.99999225],\n",
       "       [0.99998736],\n",
       "       ...,\n",
       "       [0.9999951 ],\n",
       "       [0.9999894 ],\n",
       "       [0.9999851 ]], dtype=float32)"
      ]
     },
     "execution_count": 42,
     "metadata": {},
     "output_type": "execute_result"
    }
   ],
   "source": [
    "model.predict_generator(validation_generator, steps=steps_per_epoch, verbose=1)"
   ]
  },
  {
   "cell_type": "code",
   "execution_count": 17,
   "metadata": {},
   "outputs": [
    {
     "data": {
      "image/png": "[encoded data removed]",
      "text/plain": [
       "<Figure size 720x360 with 2 Axes>"
      ]
     },
     "metadata": {
      "needs_background": "light"
     },
     "output_type": "display_data"
    }
   ],
   "source": [
    "plot_metrics(vgg_model)"
   ]
  },
  {
   "cell_type": "code",
   "execution_count": 43,
   "metadata": {},
   "outputs": [
    {
     "name": "stdout",
     "output_type": "stream",
     "text": [
      "699/699 [==============================] - 59s 85ms/step\n"
     ]
    }
   ],
   "source": [
    "loss, acc = model.evaluate_generator(validation_generator, steps=steps_per_epoch, verbose=1)"
   ]
  },
  {
   "cell_type": "code",
   "execution_count": 14,
   "metadata": {},
   "outputs": [],
   "source": [
    "vgg_model.save(\"models/vgg16.h5\")"
   ]
  },
  {
   "cell_type": "code",
   "execution_count": 15,
   "metadata": {},
   "outputs": [
    {
     "data": {
      "text/plain": [
       "'for layer in xception_model.layers[:len(xception.layers)]:\\n    layer.trainable = False'"
      ]
     },
     "execution_count": 15,
     "metadata": {},
     "output_type": "execute_result"
    }
   ],
   "source": [
    "from tensorflow.keras.applications.xception import Xception\n",
    "\n",
    "xception = Xception(\n",
    "    include_top=False,\n",
    "    weights='imagenet',\n",
    "    input_shape=(160, 160, 3)\n",
    ")\n",
    "\n",
    "xception_model = build_imagenet_model(xception)\n",
    "\n",
    "for layer in xception_model.layers[:]:\n",
    "    layer.trainable = False\n",
    "\n",
    "'''for layer in xception_model.layers[:len(xception.layers)]:\n",
    "    layer.trainable = False'''"
   ]
  },
  {
   "cell_type": "code",
   "execution_count": 16,
   "metadata": {},
   "outputs": [
    {
     "ename": "ResourceExhaustedError",
     "evalue": "OOM when allocating tensor with shape[51200,1024] and type float on /job:localhost/replica:0/task:0/device:GPU:0 by allocator GPU_0_bfc\n\t [[Node: dense_3/kernel/Assign = AssignVariableOp[_grappler_relax_allocator_constraints=true, dtype=DT_FLOAT, _device=\"/job:localhost/replica:0/task:0/device:GPU:0\"](dense_3/kernel, dense_3/kernel/Initializer/random_uniform)]]\nHint: If you want to see a list of allocated tensors when OOM happens, add report_tensor_allocations_upon_oom to RunOptions for current allocation info.\n\n\nCaused by op 'dense_3/kernel/Assign', defined at:\n  File \"C:\\Users\\Steph\\Anaconda3\\envs\\neuralnetworks\\lib\\runpy.py\", line 193, in _run_module_as_main\n    \"__main__\", mod_spec)\n  File \"C:\\Users\\Steph\\Anaconda3\\envs\\neuralnetworks\\lib\\runpy.py\", line 85, in _run_code\n    exec(code, run_globals)\n  File \"C:\\Users\\Steph\\Anaconda3\\envs\\neuralnetworks\\lib\\site-packages\\ipykernel_launcher.py\", line 16, in <module>\n    app.launch_new_instance()\n  File \"C:\\Users\\Steph\\Anaconda3\\envs\\neuralnetworks\\lib\\site-packages\\traitlets\\config\\application.py\", line 664, in launch_instance\n    app.start()\n  File \"C:\\Users\\Steph\\Anaconda3\\envs\\neuralnetworks\\lib\\site-packages\\ipykernel\\kernelapp.py\", line 583, in start\n    self.io_loop.start()\n  File \"C:\\Users\\Steph\\Anaconda3\\envs\\neuralnetworks\\lib\\site-packages\\tornado\\platform\\asyncio.py\", line 149, in start\n    self.asyncio_loop.run_forever()\n  File \"C:\\Users\\Steph\\Anaconda3\\envs\\neuralnetworks\\lib\\asyncio\\base_events.py\", line 442, in run_forever\n    self._run_once()\n  File \"C:\\Users\\Steph\\Anaconda3\\envs\\neuralnetworks\\lib\\asyncio\\base_events.py\", line 1462, in _run_once\n    handle._run()\n  File \"C:\\Users\\Steph\\Anaconda3\\envs\\neuralnetworks\\lib\\asyncio\\events.py\", line 145, in _run\n    self._callback(*self._args)\n  File \"C:\\Users\\Steph\\Anaconda3\\envs\\neuralnetworks\\lib\\site-packages\\tornado\\ioloop.py\", line 690, in <lambda>\n    lambda f: self._run_callback(functools.partial(callback, future))\n  File \"C:\\Users\\Steph\\Anaconda3\\envs\\neuralnetworks\\lib\\site-packages\\tornado\\ioloop.py\", line 743, in _run_callback\n    ret = callback()\n  File \"C:\\Users\\Steph\\Anaconda3\\envs\\neuralnetworks\\lib\\site-packages\\tornado\\gen.py\", line 787, in inner\n    self.run()\n  File \"C:\\Users\\Steph\\Anaconda3\\envs\\neuralnetworks\\lib\\site-packages\\tornado\\gen.py\", line 748, in run\n    yielded = self.gen.send(value)\n  File \"C:\\Users\\Steph\\Anaconda3\\envs\\neuralnetworks\\lib\\site-packages\\ipykernel\\kernelbase.py\", line 361, in process_one\n    yield gen.maybe_future(dispatch(*args))\n  File \"C:\\Users\\Steph\\Anaconda3\\envs\\neuralnetworks\\lib\\site-packages\\tornado\\gen.py\", line 209, in wrapper\n    yielded = next(result)\n  File \"C:\\Users\\Steph\\Anaconda3\\envs\\neuralnetworks\\lib\\site-packages\\ipykernel\\kernelbase.py\", line 268, in dispatch_shell\n    yield gen.maybe_future(handler(stream, idents, msg))\n  File \"C:\\Users\\Steph\\Anaconda3\\envs\\neuralnetworks\\lib\\site-packages\\tornado\\gen.py\", line 209, in wrapper\n    yielded = next(result)\n  File \"C:\\Users\\Steph\\Anaconda3\\envs\\neuralnetworks\\lib\\site-packages\\ipykernel\\kernelbase.py\", line 541, in execute_request\n    user_expressions, allow_stdin,\n  File \"C:\\Users\\Steph\\Anaconda3\\envs\\neuralnetworks\\lib\\site-packages\\tornado\\gen.py\", line 209, in wrapper\n    yielded = next(result)\n  File \"C:\\Users\\Steph\\Anaconda3\\envs\\neuralnetworks\\lib\\site-packages\\ipykernel\\ipkernel.py\", line 300, in do_execute\n    res = shell.run_cell(code, store_history=store_history, silent=silent)\n  File \"C:\\Users\\Steph\\Anaconda3\\envs\\neuralnetworks\\lib\\site-packages\\ipykernel\\zmqshell.py\", line 536, in run_cell\n    return super(ZMQInteractiveShell, self).run_cell(*args, **kwargs)\n  File \"C:\\Users\\Steph\\Anaconda3\\envs\\neuralnetworks\\lib\\site-packages\\IPython\\core\\interactiveshell.py\", line 2858, in run_cell\n    raw_cell, store_history, silent, shell_futures)\n  File \"C:\\Users\\Steph\\Anaconda3\\envs\\neuralnetworks\\lib\\site-packages\\IPython\\core\\interactiveshell.py\", line 2886, in _run_cell\n    return runner(coro)\n  File \"C:\\Users\\Steph\\Anaconda3\\envs\\neuralnetworks\\lib\\site-packages\\IPython\\core\\async_helpers.py\", line 68, in _pseudo_sync_runner\n    coro.send(None)\n  File \"C:\\Users\\Steph\\Anaconda3\\envs\\neuralnetworks\\lib\\site-packages\\IPython\\core\\interactiveshell.py\", line 3063, in run_cell_async\n    interactivity=interactivity, compiler=compiler, result=result)\n  File \"C:\\Users\\Steph\\Anaconda3\\envs\\neuralnetworks\\lib\\site-packages\\IPython\\core\\interactiveshell.py\", line 3254, in run_ast_nodes\n    if (await self.run_code(code, result,  async_=asy)):\n  File \"C:\\Users\\Steph\\Anaconda3\\envs\\neuralnetworks\\lib\\site-packages\\IPython\\core\\interactiveshell.py\", line 3331, in run_code\n    exec(code_obj, self.user_global_ns, self.user_ns)\n  File \"<ipython-input-15-f8980de1000f>\", line 9, in <module>\n    xception_model = build_imagenet_model(xception)\n  File \"<ipython-input-3-01b3b18119df>\", line 9, in build_imagenet_model\n    base_model_out = Dense(1024, activation='relu')(base_model_out)\n  File \"C:\\Users\\Steph\\Anaconda3\\envs\\neuralnetworks\\lib\\site-packages\\tensorflow\\python\\keras\\engine\\base_layer.py\", line 696, in __call__\n    self.build(input_shapes)\n  File \"C:\\Users\\Steph\\Anaconda3\\envs\\neuralnetworks\\lib\\site-packages\\tensorflow\\python\\keras\\layers\\core.py\", line 891, in build\n    trainable=True)\n  File \"C:\\Users\\Steph\\Anaconda3\\envs\\neuralnetworks\\lib\\site-packages\\tensorflow\\python\\keras\\engine\\base_layer.py\", line 460, in add_variable\n    return self.add_weight(*args, **kwargs)\n  File \"C:\\Users\\Steph\\Anaconda3\\envs\\neuralnetworks\\lib\\site-packages\\tensorflow\\python\\keras\\engine\\base_layer.py\", line 534, in add_weight\n    use_resource=use_resource)\n  File \"C:\\Users\\Steph\\Anaconda3\\envs\\neuralnetworks\\lib\\site-packages\\tensorflow\\python\\training\\checkpointable\\base.py\", line 497, in _add_variable_with_custom_getter\n    **kwargs_for_getter)\n  File \"C:\\Users\\Steph\\Anaconda3\\envs\\neuralnetworks\\lib\\site-packages\\tensorflow\\python\\keras\\engine\\base_layer.py\", line 1873, in make_variable\n    use_resource=use_resource)\n  File \"C:\\Users\\Steph\\Anaconda3\\envs\\neuralnetworks\\lib\\site-packages\\tensorflow\\python\\ops\\variable_scope.py\", line 2234, in variable\n    use_resource=use_resource)\n  File \"C:\\Users\\Steph\\Anaconda3\\envs\\neuralnetworks\\lib\\site-packages\\tensorflow\\python\\ops\\variable_scope.py\", line 2224, in <lambda>\n    previous_getter = lambda **kwargs: default_variable_creator(None, **kwargs)\n  File \"C:\\Users\\Steph\\Anaconda3\\envs\\neuralnetworks\\lib\\site-packages\\tensorflow\\python\\ops\\variable_scope.py\", line 2196, in default_variable_creator\n    constraint=constraint)\n  File \"C:\\Users\\Steph\\Anaconda3\\envs\\neuralnetworks\\lib\\site-packages\\tensorflow\\python\\ops\\resource_variable_ops.py\", line 312, in __init__\n    constraint=constraint)\n  File \"C:\\Users\\Steph\\Anaconda3\\envs\\neuralnetworks\\lib\\site-packages\\tensorflow\\python\\ops\\resource_variable_ops.py\", line 478, in _init_from_args\n    name=n))\n  File \"C:\\Users\\Steph\\Anaconda3\\envs\\neuralnetworks\\lib\\site-packages\\tensorflow\\python\\ops\\gen_resource_variable_ops.py\", line 156, in assign_variable_op\n    \"AssignVariableOp\", resource=resource, value=value, name=name)\n  File \"C:\\Users\\Steph\\Anaconda3\\envs\\neuralnetworks\\lib\\site-packages\\tensorflow\\python\\framework\\op_def_library.py\", line 787, in _apply_op_helper\n    op_def=op_def)\n  File \"C:\\Users\\Steph\\Anaconda3\\envs\\neuralnetworks\\lib\\site-packages\\tensorflow\\python\\framework\\ops.py\", line 3414, in create_op\n    op_def=op_def)\n  File \"C:\\Users\\Steph\\Anaconda3\\envs\\neuralnetworks\\lib\\site-packages\\tensorflow\\python\\framework\\ops.py\", line 1740, in __init__\n    self._traceback = self._graph._extract_stack()  # pylint: disable=protected-access\n\nResourceExhaustedError (see above for traceback): OOM when allocating tensor with shape[51200,1024] and type float on /job:localhost/replica:0/task:0/device:GPU:0 by allocator GPU_0_bfc\n\t [[Node: dense_3/kernel/Assign = AssignVariableOp[_grappler_relax_allocator_constraints=true, dtype=DT_FLOAT, _device=\"/job:localhost/replica:0/task:0/device:GPU:0\"](dense_3/kernel, dense_3/kernel/Initializer/random_uniform)]]\nHint: If you want to see a list of allocated tensors when OOM happens, add report_tensor_allocations_upon_oom to RunOptions for current allocation info.\n\n",
     "output_type": "error",
     "traceback": [
      "\u001b[1;31m---------------------------------------------------------------------------\u001b[0m",
      "\u001b[1;31mResourceExhaustedError\u001b[0m                    Traceback (most recent call last)",
      "\u001b[1;32m~\\Anaconda3\\envs\\neuralnetworks\\lib\\site-packages\\tensorflow\\python\\client\\session.py\u001b[0m in \u001b[0;36m_do_call\u001b[1;34m(self, fn, *args)\u001b[0m\n\u001b[0;32m   1321\u001b[0m     \u001b[1;32mtry\u001b[0m\u001b[1;33m:\u001b[0m\u001b[1;33m\u001b[0m\u001b[1;33m\u001b[0m\u001b[0m\n\u001b[1;32m-> 1322\u001b[1;33m       \u001b[1;32mreturn\u001b[0m \u001b[0mfn\u001b[0m\u001b[1;33m(\u001b[0m\u001b[1;33m*\u001b[0m\u001b[0margs\u001b[0m\u001b[1;33m)\u001b[0m\u001b[1;33m\u001b[0m\u001b[1;33m\u001b[0m\u001b[0m\n\u001b[0m\u001b[0;32m   1323\u001b[0m     \u001b[1;32mexcept\u001b[0m \u001b[0merrors\u001b[0m\u001b[1;33m.\u001b[0m\u001b[0mOpError\u001b[0m \u001b[1;32mas\u001b[0m \u001b[0me\u001b[0m\u001b[1;33m:\u001b[0m\u001b[1;33m\u001b[0m\u001b[1;33m\u001b[0m\u001b[0m\n",
      "\u001b[1;32m~\\Anaconda3\\envs\\neuralnetworks\\lib\\site-packages\\tensorflow\\python\\client\\session.py\u001b[0m in \u001b[0;36m_run_fn\u001b[1;34m(feed_dict, fetch_list, target_list, options, run_metadata)\u001b[0m\n\u001b[0;32m   1306\u001b[0m       return self._call_tf_sessionrun(\n\u001b[1;32m-> 1307\u001b[1;33m           options, feed_dict, fetch_list, target_list, run_metadata)\n\u001b[0m\u001b[0;32m   1308\u001b[0m \u001b[1;33m\u001b[0m\u001b[0m\n",
      "\u001b[1;32m~\\Anaconda3\\envs\\neuralnetworks\\lib\\site-packages\\tensorflow\\python\\client\\session.py\u001b[0m in \u001b[0;36m_call_tf_sessionrun\u001b[1;34m(self, options, feed_dict, fetch_list, target_list, run_metadata)\u001b[0m\n\u001b[0;32m   1408\u001b[0m           \u001b[0mself\u001b[0m\u001b[1;33m.\u001b[0m\u001b[0m_session\u001b[0m\u001b[1;33m,\u001b[0m \u001b[0moptions\u001b[0m\u001b[1;33m,\u001b[0m \u001b[0mfeed_dict\u001b[0m\u001b[1;33m,\u001b[0m \u001b[0mfetch_list\u001b[0m\u001b[1;33m,\u001b[0m \u001b[0mtarget_list\u001b[0m\u001b[1;33m,\u001b[0m\u001b[1;33m\u001b[0m\u001b[1;33m\u001b[0m\u001b[0m\n\u001b[1;32m-> 1409\u001b[1;33m           run_metadata)\n\u001b[0m\u001b[0;32m   1410\u001b[0m     \u001b[1;32melse\u001b[0m\u001b[1;33m:\u001b[0m\u001b[1;33m\u001b[0m\u001b[1;33m\u001b[0m\u001b[0m\n",
      "\u001b[1;31mResourceExhaustedError\u001b[0m: OOM when allocating tensor with shape[51200,1024] and type float on /job:localhost/replica:0/task:0/device:GPU:0 by allocator GPU_0_bfc\n\t [[Node: dense_3/kernel/Assign = AssignVariableOp[_grappler_relax_allocator_constraints=true, dtype=DT_FLOAT, _device=\"/job:localhost/replica:0/task:0/device:GPU:0\"](dense_3/kernel, dense_3/kernel/Initializer/random_uniform)]]\nHint: If you want to see a list of allocated tensors when OOM happens, add report_tensor_allocations_upon_oom to RunOptions for current allocation info.\n",
      "\nDuring handling of the above exception, another exception occurred:\n",
      "\u001b[1;31mResourceExhaustedError\u001b[0m                    Traceback (most recent call last)",
      "\u001b[1;32m<ipython-input-16-20d94557739f>\u001b[0m in \u001b[0;36m<module>\u001b[1;34m\u001b[0m\n\u001b[0;32m      1\u001b[0m \u001b[1;31m#opt = Adam(lr=0.01, decay = 0.001)\u001b[0m\u001b[1;33m\u001b[0m\u001b[1;33m\u001b[0m\u001b[1;33m\u001b[0m\u001b[0m\n\u001b[1;32m----> 2\u001b[1;33m \u001b[0mxception_model\u001b[0m\u001b[1;33m.\u001b[0m\u001b[0mcompile\u001b[0m\u001b[1;33m(\u001b[0m\u001b[0mloss\u001b[0m\u001b[1;33m=\u001b[0m\u001b[1;34m'binary_crossentropy'\u001b[0m\u001b[1;33m,\u001b[0m \u001b[0moptimizer\u001b[0m\u001b[1;33m=\u001b[0m\u001b[0mopt\u001b[0m\u001b[1;33m,\u001b[0m \u001b[0mmetrics\u001b[0m\u001b[1;33m=\u001b[0m\u001b[1;33m[\u001b[0m\u001b[1;34m'binary_accuracy'\u001b[0m\u001b[1;33m,\u001b[0m \u001b[0mauc\u001b[0m\u001b[1;33m]\u001b[0m\u001b[1;33m)\u001b[0m\u001b[1;33m\u001b[0m\u001b[1;33m\u001b[0m\u001b[0m\n\u001b[0m",
      "\u001b[1;32m~\\Anaconda3\\envs\\neuralnetworks\\lib\\site-packages\\tensorflow\\python\\keras\\engine\\training.py\u001b[0m in \u001b[0;36mcompile\u001b[1;34m(self, optimizer, loss, metrics, loss_weights, sample_weight_mode, weighted_metrics, target_tensors, **kwargs)\u001b[0m\n\u001b[0;32m    528\u001b[0m               \u001b[0mself\u001b[0m\u001b[1;33m.\u001b[0m\u001b[0mmetrics_updates\u001b[0m \u001b[1;33m+=\u001b[0m \u001b[0mmetric_fn\u001b[0m\u001b[1;33m.\u001b[0m\u001b[0mupdates\u001b[0m\u001b[1;33m\u001b[0m\u001b[1;33m\u001b[0m\u001b[0m\n\u001b[0;32m    529\u001b[0m \u001b[1;33m\u001b[0m\u001b[0m\n\u001b[1;32m--> 530\u001b[1;33m         \u001b[0mhandle_metrics\u001b[0m\u001b[1;33m(\u001b[0m\u001b[0moutput_metrics\u001b[0m\u001b[1;33m)\u001b[0m\u001b[1;33m\u001b[0m\u001b[1;33m\u001b[0m\u001b[0m\n\u001b[0m\u001b[0;32m    531\u001b[0m         \u001b[0mhandle_metrics\u001b[0m\u001b[1;33m(\u001b[0m\u001b[0moutput_weighted_metrics\u001b[0m\u001b[1;33m,\u001b[0m \u001b[0mweights\u001b[0m\u001b[1;33m=\u001b[0m\u001b[0mweights\u001b[0m\u001b[1;33m)\u001b[0m\u001b[1;33m\u001b[0m\u001b[1;33m\u001b[0m\u001b[0m\n\u001b[0;32m    532\u001b[0m \u001b[1;33m\u001b[0m\u001b[0m\n",
      "\u001b[1;32m~\\Anaconda3\\envs\\neuralnetworks\\lib\\site-packages\\tensorflow\\python\\keras\\engine\\training.py\u001b[0m in \u001b[0;36mhandle_metrics\u001b[1;34m(metrics, weights)\u001b[0m\n\u001b[0;32m    516\u001b[0m             \u001b[1;32mwith\u001b[0m \u001b[0mK\u001b[0m\u001b[1;33m.\u001b[0m\u001b[0mname_scope\u001b[0m\u001b[1;33m(\u001b[0m\u001b[0mmetric_name\u001b[0m\u001b[1;33m)\u001b[0m\u001b[1;33m:\u001b[0m\u001b[1;33m\u001b[0m\u001b[1;33m\u001b[0m\u001b[0m\n\u001b[0;32m    517\u001b[0m               metric_result = weighted_metric_fn(\n\u001b[1;32m--> 518\u001b[1;33m                   y_true, y_pred, weights=weights, mask=masks[i])\n\u001b[0m\u001b[0;32m    519\u001b[0m \u001b[1;33m\u001b[0m\u001b[0m\n\u001b[0;32m    520\u001b[0m             \u001b[0mtraining_utils\u001b[0m\u001b[1;33m.\u001b[0m\u001b[0madd_metric_name\u001b[0m\u001b[1;33m(\u001b[0m\u001b[0mself\u001b[0m\u001b[1;33m,\u001b[0m \u001b[0mmetric_name\u001b[0m\u001b[1;33m,\u001b[0m \u001b[0mi\u001b[0m\u001b[1;33m)\u001b[0m\u001b[1;33m\u001b[0m\u001b[1;33m\u001b[0m\u001b[0m\n",
      "\u001b[1;32m~\\Anaconda3\\envs\\neuralnetworks\\lib\\site-packages\\tensorflow\\python\\keras\\engine\\training_utils.py\u001b[0m in \u001b[0;36mweighted\u001b[1;34m(y_true, y_pred, weights, mask)\u001b[0m\n\u001b[0;32m    435\u001b[0m     \"\"\"\n\u001b[0;32m    436\u001b[0m     \u001b[1;31m# score_array has ndim >= 2\u001b[0m\u001b[1;33m\u001b[0m\u001b[1;33m\u001b[0m\u001b[1;33m\u001b[0m\u001b[0m\n\u001b[1;32m--> 437\u001b[1;33m     \u001b[0mscore_array\u001b[0m \u001b[1;33m=\u001b[0m \u001b[0mfn\u001b[0m\u001b[1;33m(\u001b[0m\u001b[0my_true\u001b[0m\u001b[1;33m,\u001b[0m \u001b[0my_pred\u001b[0m\u001b[1;33m)\u001b[0m\u001b[1;33m\u001b[0m\u001b[1;33m\u001b[0m\u001b[0m\n\u001b[0m\u001b[0;32m    438\u001b[0m     \u001b[1;32mif\u001b[0m \u001b[0mmask\u001b[0m \u001b[1;32mis\u001b[0m \u001b[1;32mnot\u001b[0m \u001b[1;32mNone\u001b[0m\u001b[1;33m:\u001b[0m\u001b[1;33m\u001b[0m\u001b[1;33m\u001b[0m\u001b[0m\n\u001b[0;32m    439\u001b[0m       \u001b[1;31m# Cast the mask to floatX to avoid float64 upcasting in theano\u001b[0m\u001b[1;33m\u001b[0m\u001b[1;33m\u001b[0m\u001b[1;33m\u001b[0m\u001b[0m\n",
      "\u001b[1;32m<ipython-input-5-a6f4811eeec6>\u001b[0m in \u001b[0;36mauc\u001b[1;34m(y_true, y_pred)\u001b[0m\n\u001b[0;32m      6\u001b[0m \u001b[1;32mdef\u001b[0m \u001b[0mauc\u001b[0m\u001b[1;33m(\u001b[0m\u001b[0my_true\u001b[0m\u001b[1;33m,\u001b[0m \u001b[0my_pred\u001b[0m\u001b[1;33m)\u001b[0m\u001b[1;33m:\u001b[0m\u001b[1;33m\u001b[0m\u001b[1;33m\u001b[0m\u001b[0m\n\u001b[0;32m      7\u001b[0m     \u001b[0mauc\u001b[0m \u001b[1;33m=\u001b[0m \u001b[0mtf\u001b[0m\u001b[1;33m.\u001b[0m\u001b[0mmetrics\u001b[0m\u001b[1;33m.\u001b[0m\u001b[0mauc\u001b[0m\u001b[1;33m(\u001b[0m\u001b[0my_true\u001b[0m\u001b[1;33m,\u001b[0m \u001b[0my_pred\u001b[0m\u001b[1;33m)\u001b[0m\u001b[1;33m[\u001b[0m\u001b[1;36m1\u001b[0m\u001b[1;33m]\u001b[0m\u001b[1;33m\u001b[0m\u001b[1;33m\u001b[0m\u001b[0m\n\u001b[1;32m----> 8\u001b[1;33m     \u001b[0mK\u001b[0m\u001b[1;33m.\u001b[0m\u001b[0mget_session\u001b[0m\u001b[1;33m(\u001b[0m\u001b[1;33m)\u001b[0m\u001b[1;33m.\u001b[0m\u001b[0mrun\u001b[0m\u001b[1;33m(\u001b[0m\u001b[0mtf\u001b[0m\u001b[1;33m.\u001b[0m\u001b[0mlocal_variables_initializer\u001b[0m\u001b[1;33m(\u001b[0m\u001b[1;33m)\u001b[0m\u001b[1;33m)\u001b[0m\u001b[1;33m\u001b[0m\u001b[1;33m\u001b[0m\u001b[0m\n\u001b[0m\u001b[0;32m      9\u001b[0m     \u001b[1;32mreturn\u001b[0m \u001b[0mauc\u001b[0m\u001b[1;33m\u001b[0m\u001b[1;33m\u001b[0m\u001b[0m\n",
      "\u001b[1;32m~\\Anaconda3\\envs\\neuralnetworks\\lib\\site-packages\\tensorflow\\python\\keras\\backend.py\u001b[0m in \u001b[0;36mget_session\u001b[1;34m()\u001b[0m\n\u001b[0;32m    441\u001b[0m   \u001b[1;32mif\u001b[0m \u001b[1;32mnot\u001b[0m \u001b[0m_MANUAL_VAR_INIT\u001b[0m\u001b[1;33m:\u001b[0m\u001b[1;33m\u001b[0m\u001b[1;33m\u001b[0m\u001b[0m\n\u001b[0;32m    442\u001b[0m     \u001b[1;32mwith\u001b[0m \u001b[0msession\u001b[0m\u001b[1;33m.\u001b[0m\u001b[0mgraph\u001b[0m\u001b[1;33m.\u001b[0m\u001b[0mas_default\u001b[0m\u001b[1;33m(\u001b[0m\u001b[1;33m)\u001b[0m\u001b[1;33m:\u001b[0m\u001b[1;33m\u001b[0m\u001b[1;33m\u001b[0m\u001b[0m\n\u001b[1;32m--> 443\u001b[1;33m       \u001b[0m_initialize_variables\u001b[0m\u001b[1;33m(\u001b[0m\u001b[0msession\u001b[0m\u001b[1;33m)\u001b[0m\u001b[1;33m\u001b[0m\u001b[1;33m\u001b[0m\u001b[0m\n\u001b[0m\u001b[0;32m    444\u001b[0m   \u001b[1;32mreturn\u001b[0m \u001b[0msession\u001b[0m\u001b[1;33m\u001b[0m\u001b[1;33m\u001b[0m\u001b[0m\n\u001b[0;32m    445\u001b[0m \u001b[1;33m\u001b[0m\u001b[0m\n",
      "\u001b[1;32m~\\Anaconda3\\envs\\neuralnetworks\\lib\\site-packages\\tensorflow\\python\\keras\\backend.py\u001b[0m in \u001b[0;36m_initialize_variables\u001b[1;34m(session)\u001b[0m\n\u001b[0;32m    672\u001b[0m       \u001b[0mv\u001b[0m\u001b[1;33m.\u001b[0m\u001b[0m_keras_initialized\u001b[0m \u001b[1;33m=\u001b[0m \u001b[1;32mTrue\u001b[0m\u001b[1;33m\u001b[0m\u001b[1;33m\u001b[0m\u001b[0m\n\u001b[0;32m    673\u001b[0m     \u001b[1;32mif\u001b[0m \u001b[0muninitialized_vars\u001b[0m\u001b[1;33m:\u001b[0m\u001b[1;33m\u001b[0m\u001b[1;33m\u001b[0m\u001b[0m\n\u001b[1;32m--> 674\u001b[1;33m       \u001b[0msession\u001b[0m\u001b[1;33m.\u001b[0m\u001b[0mrun\u001b[0m\u001b[1;33m(\u001b[0m\u001b[0mvariables_module\u001b[0m\u001b[1;33m.\u001b[0m\u001b[0mvariables_initializer\u001b[0m\u001b[1;33m(\u001b[0m\u001b[0muninitialized_vars\u001b[0m\u001b[1;33m)\u001b[0m\u001b[1;33m)\u001b[0m\u001b[1;33m\u001b[0m\u001b[1;33m\u001b[0m\u001b[0m\n\u001b[0m\u001b[0;32m    675\u001b[0m \u001b[1;33m\u001b[0m\u001b[0m\n\u001b[0;32m    676\u001b[0m \u001b[1;33m\u001b[0m\u001b[0m\n",
      "\u001b[1;32m~\\Anaconda3\\envs\\neuralnetworks\\lib\\site-packages\\tensorflow\\python\\client\\session.py\u001b[0m in \u001b[0;36mrun\u001b[1;34m(self, fetches, feed_dict, options, run_metadata)\u001b[0m\n\u001b[0;32m    898\u001b[0m     \u001b[1;32mtry\u001b[0m\u001b[1;33m:\u001b[0m\u001b[1;33m\u001b[0m\u001b[1;33m\u001b[0m\u001b[0m\n\u001b[0;32m    899\u001b[0m       result = self._run(None, fetches, feed_dict, options_ptr,\n\u001b[1;32m--> 900\u001b[1;33m                          run_metadata_ptr)\n\u001b[0m\u001b[0;32m    901\u001b[0m       \u001b[1;32mif\u001b[0m \u001b[0mrun_metadata\u001b[0m\u001b[1;33m:\u001b[0m\u001b[1;33m\u001b[0m\u001b[1;33m\u001b[0m\u001b[0m\n\u001b[0;32m    902\u001b[0m         \u001b[0mproto_data\u001b[0m \u001b[1;33m=\u001b[0m \u001b[0mtf_session\u001b[0m\u001b[1;33m.\u001b[0m\u001b[0mTF_GetBuffer\u001b[0m\u001b[1;33m(\u001b[0m\u001b[0mrun_metadata_ptr\u001b[0m\u001b[1;33m)\u001b[0m\u001b[1;33m\u001b[0m\u001b[1;33m\u001b[0m\u001b[0m\n",
      "\u001b[1;32m~\\Anaconda3\\envs\\neuralnetworks\\lib\\site-packages\\tensorflow\\python\\client\\session.py\u001b[0m in \u001b[0;36m_run\u001b[1;34m(self, handle, fetches, feed_dict, options, run_metadata)\u001b[0m\n\u001b[0;32m   1133\u001b[0m     \u001b[1;32mif\u001b[0m \u001b[0mfinal_fetches\u001b[0m \u001b[1;32mor\u001b[0m \u001b[0mfinal_targets\u001b[0m \u001b[1;32mor\u001b[0m \u001b[1;33m(\u001b[0m\u001b[0mhandle\u001b[0m \u001b[1;32mand\u001b[0m \u001b[0mfeed_dict_tensor\u001b[0m\u001b[1;33m)\u001b[0m\u001b[1;33m:\u001b[0m\u001b[1;33m\u001b[0m\u001b[1;33m\u001b[0m\u001b[0m\n\u001b[0;32m   1134\u001b[0m       results = self._do_run(handle, final_targets, final_fetches,\n\u001b[1;32m-> 1135\u001b[1;33m                              feed_dict_tensor, options, run_metadata)\n\u001b[0m\u001b[0;32m   1136\u001b[0m     \u001b[1;32melse\u001b[0m\u001b[1;33m:\u001b[0m\u001b[1;33m\u001b[0m\u001b[1;33m\u001b[0m\u001b[0m\n\u001b[0;32m   1137\u001b[0m       \u001b[0mresults\u001b[0m \u001b[1;33m=\u001b[0m \u001b[1;33m[\u001b[0m\u001b[1;33m]\u001b[0m\u001b[1;33m\u001b[0m\u001b[1;33m\u001b[0m\u001b[0m\n",
      "\u001b[1;32m~\\Anaconda3\\envs\\neuralnetworks\\lib\\site-packages\\tensorflow\\python\\client\\session.py\u001b[0m in \u001b[0;36m_do_run\u001b[1;34m(self, handle, target_list, fetch_list, feed_dict, options, run_metadata)\u001b[0m\n\u001b[0;32m   1314\u001b[0m     \u001b[1;32mif\u001b[0m \u001b[0mhandle\u001b[0m \u001b[1;32mis\u001b[0m \u001b[1;32mNone\u001b[0m\u001b[1;33m:\u001b[0m\u001b[1;33m\u001b[0m\u001b[1;33m\u001b[0m\u001b[0m\n\u001b[0;32m   1315\u001b[0m       return self._do_call(_run_fn, feeds, fetches, targets, options,\n\u001b[1;32m-> 1316\u001b[1;33m                            run_metadata)\n\u001b[0m\u001b[0;32m   1317\u001b[0m     \u001b[1;32melse\u001b[0m\u001b[1;33m:\u001b[0m\u001b[1;33m\u001b[0m\u001b[1;33m\u001b[0m\u001b[0m\n\u001b[0;32m   1318\u001b[0m       \u001b[1;32mreturn\u001b[0m \u001b[0mself\u001b[0m\u001b[1;33m.\u001b[0m\u001b[0m_do_call\u001b[0m\u001b[1;33m(\u001b[0m\u001b[0m_prun_fn\u001b[0m\u001b[1;33m,\u001b[0m \u001b[0mhandle\u001b[0m\u001b[1;33m,\u001b[0m \u001b[0mfeeds\u001b[0m\u001b[1;33m,\u001b[0m \u001b[0mfetches\u001b[0m\u001b[1;33m)\u001b[0m\u001b[1;33m\u001b[0m\u001b[1;33m\u001b[0m\u001b[0m\n",
      "\u001b[1;32m~\\Anaconda3\\envs\\neuralnetworks\\lib\\site-packages\\tensorflow\\python\\client\\session.py\u001b[0m in \u001b[0;36m_do_call\u001b[1;34m(self, fn, *args)\u001b[0m\n\u001b[0;32m   1333\u001b[0m         \u001b[1;32mexcept\u001b[0m \u001b[0mKeyError\u001b[0m\u001b[1;33m:\u001b[0m\u001b[1;33m\u001b[0m\u001b[1;33m\u001b[0m\u001b[0m\n\u001b[0;32m   1334\u001b[0m           \u001b[1;32mpass\u001b[0m\u001b[1;33m\u001b[0m\u001b[1;33m\u001b[0m\u001b[0m\n\u001b[1;32m-> 1335\u001b[1;33m       \u001b[1;32mraise\u001b[0m \u001b[0mtype\u001b[0m\u001b[1;33m(\u001b[0m\u001b[0me\u001b[0m\u001b[1;33m)\u001b[0m\u001b[1;33m(\u001b[0m\u001b[0mnode_def\u001b[0m\u001b[1;33m,\u001b[0m \u001b[0mop\u001b[0m\u001b[1;33m,\u001b[0m \u001b[0mmessage\u001b[0m\u001b[1;33m)\u001b[0m\u001b[1;33m\u001b[0m\u001b[1;33m\u001b[0m\u001b[0m\n\u001b[0m\u001b[0;32m   1336\u001b[0m \u001b[1;33m\u001b[0m\u001b[0m\n\u001b[0;32m   1337\u001b[0m   \u001b[1;32mdef\u001b[0m \u001b[0m_extend_graph\u001b[0m\u001b[1;33m(\u001b[0m\u001b[0mself\u001b[0m\u001b[1;33m)\u001b[0m\u001b[1;33m:\u001b[0m\u001b[1;33m\u001b[0m\u001b[1;33m\u001b[0m\u001b[0m\n",
      "\u001b[1;31mResourceExhaustedError\u001b[0m: OOM when allocating tensor with shape[51200,1024] and type float on /job:localhost/replica:0/task:0/device:GPU:0 by allocator GPU_0_bfc\n\t [[Node: dense_3/kernel/Assign = AssignVariableOp[_grappler_relax_allocator_constraints=true, dtype=DT_FLOAT, _device=\"/job:localhost/replica:0/task:0/device:GPU:0\"](dense_3/kernel, dense_3/kernel/Initializer/random_uniform)]]\nHint: If you want to see a list of allocated tensors when OOM happens, add report_tensor_allocations_upon_oom to RunOptions for current allocation info.\n\n\nCaused by op 'dense_3/kernel/Assign', defined at:\n  File \"C:\\Users\\Steph\\Anaconda3\\envs\\neuralnetworks\\lib\\runpy.py\", line 193, in _run_module_as_main\n    \"__main__\", mod_spec)\n  File \"C:\\Users\\Steph\\Anaconda3\\envs\\neuralnetworks\\lib\\runpy.py\", line 85, in _run_code\n    exec(code, run_globals)\n  File \"C:\\Users\\Steph\\Anaconda3\\envs\\neuralnetworks\\lib\\site-packages\\ipykernel_launcher.py\", line 16, in <module>\n    app.launch_new_instance()\n  File \"C:\\Users\\Steph\\Anaconda3\\envs\\neuralnetworks\\lib\\site-packages\\traitlets\\config\\application.py\", line 664, in launch_instance\n    app.start()\n  File \"C:\\Users\\Steph\\Anaconda3\\envs\\neuralnetworks\\lib\\site-packages\\ipykernel\\kernelapp.py\", line 583, in start\n    self.io_loop.start()\n  File \"C:\\Users\\Steph\\Anaconda3\\envs\\neuralnetworks\\lib\\site-packages\\tornado\\platform\\asyncio.py\", line 149, in start\n    self.asyncio_loop.run_forever()\n  File \"C:\\Users\\Steph\\Anaconda3\\envs\\neuralnetworks\\lib\\asyncio\\base_events.py\", line 442, in run_forever\n    self._run_once()\n  File \"C:\\Users\\Steph\\Anaconda3\\envs\\neuralnetworks\\lib\\asyncio\\base_events.py\", line 1462, in _run_once\n    handle._run()\n  File \"C:\\Users\\Steph\\Anaconda3\\envs\\neuralnetworks\\lib\\asyncio\\events.py\", line 145, in _run\n    self._callback(*self._args)\n  File \"C:\\Users\\Steph\\Anaconda3\\envs\\neuralnetworks\\lib\\site-packages\\tornado\\ioloop.py\", line 690, in <lambda>\n    lambda f: self._run_callback(functools.partial(callback, future))\n  File \"C:\\Users\\Steph\\Anaconda3\\envs\\neuralnetworks\\lib\\site-packages\\tornado\\ioloop.py\", line 743, in _run_callback\n    ret = callback()\n  File \"C:\\Users\\Steph\\Anaconda3\\envs\\neuralnetworks\\lib\\site-packages\\tornado\\gen.py\", line 787, in inner\n    self.run()\n  File \"C:\\Users\\Steph\\Anaconda3\\envs\\neuralnetworks\\lib\\site-packages\\tornado\\gen.py\", line 748, in run\n    yielded = self.gen.send(value)\n  File \"C:\\Users\\Steph\\Anaconda3\\envs\\neuralnetworks\\lib\\site-packages\\ipykernel\\kernelbase.py\", line 361, in process_one\n    yield gen.maybe_future(dispatch(*args))\n  File \"C:\\Users\\Steph\\Anaconda3\\envs\\neuralnetworks\\lib\\site-packages\\tornado\\gen.py\", line 209, in wrapper\n    yielded = next(result)\n  File \"C:\\Users\\Steph\\Anaconda3\\envs\\neuralnetworks\\lib\\site-packages\\ipykernel\\kernelbase.py\", line 268, in dispatch_shell\n    yield gen.maybe_future(handler(stream, idents, msg))\n  File \"C:\\Users\\Steph\\Anaconda3\\envs\\neuralnetworks\\lib\\site-packages\\tornado\\gen.py\", line 209, in wrapper\n    yielded = next(result)\n  File \"C:\\Users\\Steph\\Anaconda3\\envs\\neuralnetworks\\lib\\site-packages\\ipykernel\\kernelbase.py\", line 541, in execute_request\n    user_expressions, allow_stdin,\n  File \"C:\\Users\\Steph\\Anaconda3\\envs\\neuralnetworks\\lib\\site-packages\\tornado\\gen.py\", line 209, in wrapper\n    yielded = next(result)\n  File \"C:\\Users\\Steph\\Anaconda3\\envs\\neuralnetworks\\lib\\site-packages\\ipykernel\\ipkernel.py\", line 300, in do_execute\n    res = shell.run_cell(code, store_history=store_history, silent=silent)\n  File \"C:\\Users\\Steph\\Anaconda3\\envs\\neuralnetworks\\lib\\site-packages\\ipykernel\\zmqshell.py\", line 536, in run_cell\n    return super(ZMQInteractiveShell, self).run_cell(*args, **kwargs)\n  File \"C:\\Users\\Steph\\Anaconda3\\envs\\neuralnetworks\\lib\\site-packages\\IPython\\core\\interactiveshell.py\", line 2858, in run_cell\n    raw_cell, store_history, silent, shell_futures)\n  File \"C:\\Users\\Steph\\Anaconda3\\envs\\neuralnetworks\\lib\\site-packages\\IPython\\core\\interactiveshell.py\", line 2886, in _run_cell\n    return runner(coro)\n  File \"C:\\Users\\Steph\\Anaconda3\\envs\\neuralnetworks\\lib\\site-packages\\IPython\\core\\async_helpers.py\", line 68, in _pseudo_sync_runner\n    coro.send(None)\n  File \"C:\\Users\\Steph\\Anaconda3\\envs\\neuralnetworks\\lib\\site-packages\\IPython\\core\\interactiveshell.py\", line 3063, in run_cell_async\n    interactivity=interactivity, compiler=compiler, result=result)\n  File \"C:\\Users\\Steph\\Anaconda3\\envs\\neuralnetworks\\lib\\site-packages\\IPython\\core\\interactiveshell.py\", line 3254, in run_ast_nodes\n    if (await self.run_code(code, result,  async_=asy)):\n  File \"C:\\Users\\Steph\\Anaconda3\\envs\\neuralnetworks\\lib\\site-packages\\IPython\\core\\interactiveshell.py\", line 3331, in run_code\n    exec(code_obj, self.user_global_ns, self.user_ns)\n  File \"<ipython-input-15-f8980de1000f>\", line 9, in <module>\n    xception_model = build_imagenet_model(xception)\n  File \"<ipython-input-3-01b3b18119df>\", line 9, in build_imagenet_model\n    base_model_out = Dense(1024, activation='relu')(base_model_out)\n  File \"C:\\Users\\Steph\\Anaconda3\\envs\\neuralnetworks\\lib\\site-packages\\tensorflow\\python\\keras\\engine\\base_layer.py\", line 696, in __call__\n    self.build(input_shapes)\n  File \"C:\\Users\\Steph\\Anaconda3\\envs\\neuralnetworks\\lib\\site-packages\\tensorflow\\python\\keras\\layers\\core.py\", line 891, in build\n    trainable=True)\n  File \"C:\\Users\\Steph\\Anaconda3\\envs\\neuralnetworks\\lib\\site-packages\\tensorflow\\python\\keras\\engine\\base_layer.py\", line 460, in add_variable\n    return self.add_weight(*args, **kwargs)\n  File \"C:\\Users\\Steph\\Anaconda3\\envs\\neuralnetworks\\lib\\site-packages\\tensorflow\\python\\keras\\engine\\base_layer.py\", line 534, in add_weight\n    use_resource=use_resource)\n  File \"C:\\Users\\Steph\\Anaconda3\\envs\\neuralnetworks\\lib\\site-packages\\tensorflow\\python\\training\\checkpointable\\base.py\", line 497, in _add_variable_with_custom_getter\n    **kwargs_for_getter)\n  File \"C:\\Users\\Steph\\Anaconda3\\envs\\neuralnetworks\\lib\\site-packages\\tensorflow\\python\\keras\\engine\\base_layer.py\", line 1873, in make_variable\n    use_resource=use_resource)\n  File \"C:\\Users\\Steph\\Anaconda3\\envs\\neuralnetworks\\lib\\site-packages\\tensorflow\\python\\ops\\variable_scope.py\", line 2234, in variable\n    use_resource=use_resource)\n  File \"C:\\Users\\Steph\\Anaconda3\\envs\\neuralnetworks\\lib\\site-packages\\tensorflow\\python\\ops\\variable_scope.py\", line 2224, in <lambda>\n    previous_getter = lambda **kwargs: default_variable_creator(None, **kwargs)\n  File \"C:\\Users\\Steph\\Anaconda3\\envs\\neuralnetworks\\lib\\site-packages\\tensorflow\\python\\ops\\variable_scope.py\", line 2196, in default_variable_creator\n    constraint=constraint)\n  File \"C:\\Users\\Steph\\Anaconda3\\envs\\neuralnetworks\\lib\\site-packages\\tensorflow\\python\\ops\\resource_variable_ops.py\", line 312, in __init__\n    constraint=constraint)\n  File \"C:\\Users\\Steph\\Anaconda3\\envs\\neuralnetworks\\lib\\site-packages\\tensorflow\\python\\ops\\resource_variable_ops.py\", line 478, in _init_from_args\n    name=n))\n  File \"C:\\Users\\Steph\\Anaconda3\\envs\\neuralnetworks\\lib\\site-packages\\tensorflow\\python\\ops\\gen_resource_variable_ops.py\", line 156, in assign_variable_op\n    \"AssignVariableOp\", resource=resource, value=value, name=name)\n  File \"C:\\Users\\Steph\\Anaconda3\\envs\\neuralnetworks\\lib\\site-packages\\tensorflow\\python\\framework\\op_def_library.py\", line 787, in _apply_op_helper\n    op_def=op_def)\n  File \"C:\\Users\\Steph\\Anaconda3\\envs\\neuralnetworks\\lib\\site-packages\\tensorflow\\python\\framework\\ops.py\", line 3414, in create_op\n    op_def=op_def)\n  File \"C:\\Users\\Steph\\Anaconda3\\envs\\neuralnetworks\\lib\\site-packages\\tensorflow\\python\\framework\\ops.py\", line 1740, in __init__\n    self._traceback = self._graph._extract_stack()  # pylint: disable=protected-access\n\nResourceExhaustedError (see above for traceback): OOM when allocating tensor with shape[51200,1024] and type float on /job:localhost/replica:0/task:0/device:GPU:0 by allocator GPU_0_bfc\n\t [[Node: dense_3/kernel/Assign = AssignVariableOp[_grappler_relax_allocator_constraints=true, dtype=DT_FLOAT, _device=\"/job:localhost/replica:0/task:0/device:GPU:0\"](dense_3/kernel, dense_3/kernel/Initializer/random_uniform)]]\nHint: If you want to see a list of allocated tensors when OOM happens, add report_tensor_allocations_upon_oom to RunOptions for current allocation info.\n\n"
     ]
    }
   ],
   "source": [
    "#opt = Adam(lr=0.01, decay = 0.001)\n",
    "xception_model.compile(loss='binary_crossentropy', optimizer=opt, metrics=['binary_accuracy', auc])"
   ]
  },
  {
   "cell_type": "code",
   "execution_count": 13,
   "metadata": {},
   "outputs": [
    {
     "name": "stdout",
     "output_type": "stream",
     "text": [
      "__________________________________________________________________________________________________\n",
      "Layer (type)                    Output Shape         Param #     Connected to                     \n",
      "==================================================================================================\n",
      "input_1 (InputLayer)            (None, 160, 160, 3)  0                                            \n",
      "__________________________________________________________________________________________________\n",
      "block1_conv1 (Conv2D)           (None, 79, 79, 32)   864         input_1[0][0]                    \n",
      "__________________________________________________________________________________________________\n",
      "block1_conv1_bn (BatchNormaliza (None, 79, 79, 32)   128         block1_conv1[0][0]               \n",
      "__________________________________________________________________________________________________\n",
      "block1_conv1_act (Activation)   (None, 79, 79, 32)   0           block1_conv1_bn[0][0]            \n",
      "__________________________________________________________________________________________________\n",
      "block1_conv2 (Conv2D)           (None, 77, 77, 64)   18432       block1_conv1_act[0][0]           \n",
      "__________________________________________________________________________________________________\n",
      "block1_conv2_bn (BatchNormaliza (None, 77, 77, 64)   256         block1_conv2[0][0]               \n",
      "__________________________________________________________________________________________________\n",
      "block1_conv2_act (Activation)   (None, 77, 77, 64)   0           block1_conv2_bn[0][0]            \n",
      "__________________________________________________________________________________________________\n",
      "block2_sepconv1 (SeparableConv2 (None, 77, 77, 128)  8768        block1_conv2_act[0][0]           \n",
      "__________________________________________________________________________________________________\n",
      "block2_sepconv1_bn (BatchNormal (None, 77, 77, 128)  512         block2_sepconv1[0][0]            \n",
      "__________________________________________________________________________________________________\n",
      "block2_sepconv2_act (Activation (None, 77, 77, 128)  0           block2_sepconv1_bn[0][0]         \n",
      "__________________________________________________________________________________________________\n",
      "block2_sepconv2 (SeparableConv2 (None, 77, 77, 128)  17536       block2_sepconv2_act[0][0]        \n",
      "__________________________________________________________________________________________________\n",
      "block2_sepconv2_bn (BatchNormal (None, 77, 77, 128)  512         block2_sepconv2[0][0]            \n",
      "__________________________________________________________________________________________________\n",
      "conv2d (Conv2D)                 (None, 39, 39, 128)  8192        block1_conv2_act[0][0]           \n",
      "__________________________________________________________________________________________________\n",
      "block2_pool (MaxPooling2D)      (None, 39, 39, 128)  0           block2_sepconv2_bn[0][0]         \n",
      "__________________________________________________________________________________________________\n",
      "batch_normalization (BatchNorma (None, 39, 39, 128)  512         conv2d[0][0]                     \n",
      "__________________________________________________________________________________________________\n",
      "add (Add)                       (None, 39, 39, 128)  0           block2_pool[0][0]                \n",
      "                                                                 batch_normalization[0][0]        \n",
      "__________________________________________________________________________________________________\n",
      "block3_sepconv1_act (Activation (None, 39, 39, 128)  0           add[0][0]                        \n",
      "__________________________________________________________________________________________________\n",
      "block3_sepconv1 (SeparableConv2 (None, 39, 39, 256)  33920       block3_sepconv1_act[0][0]        \n",
      "__________________________________________________________________________________________________\n",
      "block3_sepconv1_bn (BatchNormal (None, 39, 39, 256)  1024        block3_sepconv1[0][0]            \n",
      "__________________________________________________________________________________________________\n",
      "block3_sepconv2_act (Activation (None, 39, 39, 256)  0           block3_sepconv1_bn[0][0]         \n",
      "__________________________________________________________________________________________________\n",
      "block3_sepconv2 (SeparableConv2 (None, 39, 39, 256)  67840       block3_sepconv2_act[0][0]        \n",
      "__________________________________________________________________________________________________\n",
      "block3_sepconv2_bn (BatchNormal (None, 39, 39, 256)  1024        block3_sepconv2[0][0]            \n",
      "__________________________________________________________________________________________________\n",
      "conv2d_1 (Conv2D)               (None, 20, 20, 256)  32768       add[0][0]                        \n",
      "__________________________________________________________________________________________________\n",
      "block3_pool (MaxPooling2D)      (None, 20, 20, 256)  0           block3_sepconv2_bn[0][0]         \n",
      "__________________________________________________________________________________________________\n",
      "batch_normalization_1 (BatchNor (None, 20, 20, 256)  1024        conv2d_1[0][0]                   \n",
      "__________________________________________________________________________________________________\n",
      "add_1 (Add)                     (None, 20, 20, 256)  0           block3_pool[0][0]                \n",
      "                                                                 batch_normalization_1[0][0]      \n",
      "__________________________________________________________________________________________________\n",
      "block4_sepconv1_act (Activation (None, 20, 20, 256)  0           add_1[0][0]                      \n",
      "__________________________________________________________________________________________________\n",
      "block4_sepconv1 (SeparableConv2 (None, 20, 20, 728)  188672      block4_sepconv1_act[0][0]        \n",
      "__________________________________________________________________________________________________\n",
      "block4_sepconv1_bn (BatchNormal (None, 20, 20, 728)  2912        block4_sepconv1[0][0]            \n",
      "__________________________________________________________________________________________________\n",
      "block4_sepconv2_act (Activation (None, 20, 20, 728)  0           block4_sepconv1_bn[0][0]         \n",
      "__________________________________________________________________________________________________\n",
      "block4_sepconv2 (SeparableConv2 (None, 20, 20, 728)  536536      block4_sepconv2_act[0][0]        \n",
      "__________________________________________________________________________________________________\n",
      "block4_sepconv2_bn (BatchNormal (None, 20, 20, 728)  2912        block4_sepconv2[0][0]            \n",
      "__________________________________________________________________________________________________\n",
      "conv2d_2 (Conv2D)               (None, 10, 10, 728)  186368      add_1[0][0]                      \n",
      "__________________________________________________________________________________________________\n",
      "block4_pool (MaxPooling2D)      (None, 10, 10, 728)  0           block4_sepconv2_bn[0][0]         \n",
      "__________________________________________________________________________________________________\n",
      "batch_normalization_2 (BatchNor (None, 10, 10, 728)  2912        conv2d_2[0][0]                   \n",
      "__________________________________________________________________________________________________\n",
      "add_2 (Add)                     (None, 10, 10, 728)  0           block4_pool[0][0]                \n",
      "                                                                 batch_normalization_2[0][0]      \n",
      "__________________________________________________________________________________________________\n",
      "block5_sepconv1_act (Activation (None, 10, 10, 728)  0           add_2[0][0]                      \n",
      "__________________________________________________________________________________________________\n",
      "block5_sepconv1 (SeparableConv2 (None, 10, 10, 728)  536536      block5_sepconv1_act[0][0]        \n",
      "__________________________________________________________________________________________________\n",
      "block5_sepconv1_bn (BatchNormal (None, 10, 10, 728)  2912        block5_sepconv1[0][0]            \n",
      "__________________________________________________________________________________________________\n",
      "block5_sepconv2_act (Activation (None, 10, 10, 728)  0           block5_sepconv1_bn[0][0]         \n",
      "__________________________________________________________________________________________________\n",
      "block5_sepconv2 (SeparableConv2 (None, 10, 10, 728)  536536      block5_sepconv2_act[0][0]        \n",
      "__________________________________________________________________________________________________\n",
      "block5_sepconv2_bn (BatchNormal (None, 10, 10, 728)  2912        block5_sepconv2[0][0]            \n",
      "__________________________________________________________________________________________________\n",
      "block5_sepconv3_act (Activation (None, 10, 10, 728)  0           block5_sepconv2_bn[0][0]         \n",
      "__________________________________________________________________________________________________\n",
      "block5_sepconv3 (SeparableConv2 (None, 10, 10, 728)  536536      block5_sepconv3_act[0][0]        \n",
      "__________________________________________________________________________________________________\n",
      "block5_sepconv3_bn (BatchNormal (None, 10, 10, 728)  2912        block5_sepconv3[0][0]            \n",
      "__________________________________________________________________________________________________\n",
      "add_3 (Add)                     (None, 10, 10, 728)  0           block5_sepconv3_bn[0][0]         \n",
      "                                                                 add_2[0][0]                      \n",
      "__________________________________________________________________________________________________\n",
      "block6_sepconv1_act (Activation (None, 10, 10, 728)  0           add_3[0][0]                      \n",
      "__________________________________________________________________________________________________\n",
      "block6_sepconv1 (SeparableConv2 (None, 10, 10, 728)  536536      block6_sepconv1_act[0][0]        \n",
      "__________________________________________________________________________________________________\n",
      "block6_sepconv1_bn (BatchNormal (None, 10, 10, 728)  2912        block6_sepconv1[0][0]            \n",
      "__________________________________________________________________________________________________\n",
      "block6_sepconv2_act (Activation (None, 10, 10, 728)  0           block6_sepconv1_bn[0][0]         \n",
      "__________________________________________________________________________________________________\n",
      "block6_sepconv2 (SeparableConv2 (None, 10, 10, 728)  536536      block6_sepconv2_act[0][0]        \n",
      "__________________________________________________________________________________________________\n",
      "block6_sepconv2_bn (BatchNormal (None, 10, 10, 728)  2912        block6_sepconv2[0][0]            \n",
      "__________________________________________________________________________________________________\n",
      "block6_sepconv3_act (Activation (None, 10, 10, 728)  0           block6_sepconv2_bn[0][0]         \n",
      "__________________________________________________________________________________________________\n",
      "block6_sepconv3 (SeparableConv2 (None, 10, 10, 728)  536536      block6_sepconv3_act[0][0]        \n",
      "__________________________________________________________________________________________________\n",
      "block6_sepconv3_bn (BatchNormal (None, 10, 10, 728)  2912        block6_sepconv3[0][0]            \n",
      "__________________________________________________________________________________________________\n",
      "add_4 (Add)                     (None, 10, 10, 728)  0           block6_sepconv3_bn[0][0]         \n",
      "                                                                 add_3[0][0]                      \n",
      "__________________________________________________________________________________________________\n",
      "block7_sepconv1_act (Activation (None, 10, 10, 728)  0           add_4[0][0]                      \n",
      "__________________________________________________________________________________________________\n",
      "block7_sepconv1 (SeparableConv2 (None, 10, 10, 728)  536536      block7_sepconv1_act[0][0]        \n",
      "__________________________________________________________________________________________________\n",
      "block7_sepconv1_bn (BatchNormal (None, 10, 10, 728)  2912        block7_sepconv1[0][0]            \n",
      "__________________________________________________________________________________________________\n",
      "block7_sepconv2_act (Activation (None, 10, 10, 728)  0           block7_sepconv1_bn[0][0]         \n",
      "__________________________________________________________________________________________________\n",
      "block7_sepconv2 (SeparableConv2 (None, 10, 10, 728)  536536      block7_sepconv2_act[0][0]        \n",
      "__________________________________________________________________________________________________\n",
      "block7_sepconv2_bn (BatchNormal (None, 10, 10, 728)  2912        block7_sepconv2[0][0]            \n",
      "__________________________________________________________________________________________________\n",
      "block7_sepconv3_act (Activation (None, 10, 10, 728)  0           block7_sepconv2_bn[0][0]         \n",
      "__________________________________________________________________________________________________\n",
      "block7_sepconv3 (SeparableConv2 (None, 10, 10, 728)  536536      block7_sepconv3_act[0][0]        \n",
      "__________________________________________________________________________________________________\n",
      "block7_sepconv3_bn (BatchNormal (None, 10, 10, 728)  2912        block7_sepconv3[0][0]            \n",
      "__________________________________________________________________________________________________\n",
      "add_5 (Add)                     (None, 10, 10, 728)  0           block7_sepconv3_bn[0][0]         \n",
      "                                                                 add_4[0][0]                      \n",
      "__________________________________________________________________________________________________\n",
      "block8_sepconv1_act (Activation (None, 10, 10, 728)  0           add_5[0][0]                      \n",
      "__________________________________________________________________________________________________\n",
      "block8_sepconv1 (SeparableConv2 (None, 10, 10, 728)  536536      block8_sepconv1_act[0][0]        \n",
      "__________________________________________________________________________________________________\n",
      "block8_sepconv1_bn (BatchNormal (None, 10, 10, 728)  2912        block8_sepconv1[0][0]            \n",
      "__________________________________________________________________________________________________\n",
      "block8_sepconv2_act (Activation (None, 10, 10, 728)  0           block8_sepconv1_bn[0][0]         \n",
      "__________________________________________________________________________________________________\n",
      "block8_sepconv2 (SeparableConv2 (None, 10, 10, 728)  536536      block8_sepconv2_act[0][0]        \n",
      "__________________________________________________________________________________________________\n",
      "block8_sepconv2_bn (BatchNormal (None, 10, 10, 728)  2912        block8_sepconv2[0][0]            \n",
      "__________________________________________________________________________________________________\n",
      "block8_sepconv3_act (Activation (None, 10, 10, 728)  0           block8_sepconv2_bn[0][0]         \n",
      "__________________________________________________________________________________________________\n",
      "block8_sepconv3 (SeparableConv2 (None, 10, 10, 728)  536536      block8_sepconv3_act[0][0]        \n",
      "__________________________________________________________________________________________________\n",
      "block8_sepconv3_bn (BatchNormal (None, 10, 10, 728)  2912        block8_sepconv3[0][0]            \n",
      "__________________________________________________________________________________________________\n",
      "add_6 (Add)                     (None, 10, 10, 728)  0           block8_sepconv3_bn[0][0]         \n",
      "                                                                 add_5[0][0]                      \n",
      "__________________________________________________________________________________________________\n",
      "block9_sepconv1_act (Activation (None, 10, 10, 728)  0           add_6[0][0]                      \n",
      "__________________________________________________________________________________________________\n",
      "block9_sepconv1 (SeparableConv2 (None, 10, 10, 728)  536536      block9_sepconv1_act[0][0]        \n",
      "__________________________________________________________________________________________________\n",
      "block9_sepconv1_bn (BatchNormal (None, 10, 10, 728)  2912        block9_sepconv1[0][0]            \n",
      "__________________________________________________________________________________________________\n",
      "block9_sepconv2_act (Activation (None, 10, 10, 728)  0           block9_sepconv1_bn[0][0]         \n",
      "__________________________________________________________________________________________________\n",
      "block9_sepconv2 (SeparableConv2 (None, 10, 10, 728)  536536      block9_sepconv2_act[0][0]        \n",
      "__________________________________________________________________________________________________\n",
      "block9_sepconv2_bn (BatchNormal (None, 10, 10, 728)  2912        block9_sepconv2[0][0]            \n",
      "__________________________________________________________________________________________________\n",
      "block9_sepconv3_act (Activation (None, 10, 10, 728)  0           block9_sepconv2_bn[0][0]         \n",
      "__________________________________________________________________________________________________\n",
      "block9_sepconv3 (SeparableConv2 (None, 10, 10, 728)  536536      block9_sepconv3_act[0][0]        \n",
      "__________________________________________________________________________________________________\n",
      "block9_sepconv3_bn (BatchNormal (None, 10, 10, 728)  2912        block9_sepconv3[0][0]            \n",
      "__________________________________________________________________________________________________\n",
      "add_7 (Add)                     (None, 10, 10, 728)  0           block9_sepconv3_bn[0][0]         \n",
      "                                                                 add_6[0][0]                      \n",
      "__________________________________________________________________________________________________\n",
      "block10_sepconv1_act (Activatio (None, 10, 10, 728)  0           add_7[0][0]                      \n",
      "__________________________________________________________________________________________________\n",
      "block10_sepconv1 (SeparableConv (None, 10, 10, 728)  536536      block10_sepconv1_act[0][0]       \n",
      "__________________________________________________________________________________________________\n",
      "block10_sepconv1_bn (BatchNorma (None, 10, 10, 728)  2912        block10_sepconv1[0][0]           \n",
      "__________________________________________________________________________________________________\n",
      "block10_sepconv2_act (Activatio (None, 10, 10, 728)  0           block10_sepconv1_bn[0][0]        \n",
      "__________________________________________________________________________________________________\n",
      "block10_sepconv2 (SeparableConv (None, 10, 10, 728)  536536      block10_sepconv2_act[0][0]       \n",
      "__________________________________________________________________________________________________\n",
      "block10_sepconv2_bn (BatchNorma (None, 10, 10, 728)  2912        block10_sepconv2[0][0]           \n",
      "__________________________________________________________________________________________________\n",
      "block10_sepconv3_act (Activatio (None, 10, 10, 728)  0           block10_sepconv2_bn[0][0]        \n",
      "__________________________________________________________________________________________________\n",
      "block10_sepconv3 (SeparableConv (None, 10, 10, 728)  536536      block10_sepconv3_act[0][0]       \n",
      "__________________________________________________________________________________________________\n",
      "block10_sepconv3_bn (BatchNorma (None, 10, 10, 728)  2912        block10_sepconv3[0][0]           \n",
      "__________________________________________________________________________________________________\n",
      "add_8 (Add)                     (None, 10, 10, 728)  0           block10_sepconv3_bn[0][0]        \n",
      "                                                                 add_7[0][0]                      \n",
      "__________________________________________________________________________________________________\n",
      "block11_sepconv1_act (Activatio (None, 10, 10, 728)  0           add_8[0][0]                      \n",
      "__________________________________________________________________________________________________\n",
      "block11_sepconv1 (SeparableConv (None, 10, 10, 728)  536536      block11_sepconv1_act[0][0]       \n",
      "__________________________________________________________________________________________________\n",
      "block11_sepconv1_bn (BatchNorma (None, 10, 10, 728)  2912        block11_sepconv1[0][0]           \n",
      "__________________________________________________________________________________________________\n",
      "block11_sepconv2_act (Activatio (None, 10, 10, 728)  0           block11_sepconv1_bn[0][0]        \n",
      "__________________________________________________________________________________________________\n",
      "block11_sepconv2 (SeparableConv (None, 10, 10, 728)  536536      block11_sepconv2_act[0][0]       \n",
      "__________________________________________________________________________________________________\n",
      "block11_sepconv2_bn (BatchNorma (None, 10, 10, 728)  2912        block11_sepconv2[0][0]           \n",
      "__________________________________________________________________________________________________\n",
      "block11_sepconv3_act (Activatio (None, 10, 10, 728)  0           block11_sepconv2_bn[0][0]        \n",
      "__________________________________________________________________________________________________\n",
      "block11_sepconv3 (SeparableConv (None, 10, 10, 728)  536536      block11_sepconv3_act[0][0]       \n",
      "__________________________________________________________________________________________________\n",
      "block11_sepconv3_bn (BatchNorma (None, 10, 10, 728)  2912        block11_sepconv3[0][0]           \n",
      "__________________________________________________________________________________________________\n",
      "add_9 (Add)                     (None, 10, 10, 728)  0           block11_sepconv3_bn[0][0]        \n",
      "                                                                 add_8[0][0]                      \n",
      "__________________________________________________________________________________________________\n",
      "block12_sepconv1_act (Activatio (None, 10, 10, 728)  0           add_9[0][0]                      \n",
      "__________________________________________________________________________________________________\n",
      "block12_sepconv1 (SeparableConv (None, 10, 10, 728)  536536      block12_sepconv1_act[0][0]       \n",
      "__________________________________________________________________________________________________\n",
      "block12_sepconv1_bn (BatchNorma (None, 10, 10, 728)  2912        block12_sepconv1[0][0]           \n",
      "__________________________________________________________________________________________________\n",
      "block12_sepconv2_act (Activatio (None, 10, 10, 728)  0           block12_sepconv1_bn[0][0]        \n",
      "__________________________________________________________________________________________________\n",
      "block12_sepconv2 (SeparableConv (None, 10, 10, 728)  536536      block12_sepconv2_act[0][0]       \n",
      "__________________________________________________________________________________________________\n",
      "block12_sepconv2_bn (BatchNorma (None, 10, 10, 728)  2912        block12_sepconv2[0][0]           \n",
      "__________________________________________________________________________________________________\n",
      "block12_sepconv3_act (Activatio (None, 10, 10, 728)  0           block12_sepconv2_bn[0][0]        \n",
      "__________________________________________________________________________________________________\n",
      "block12_sepconv3 (SeparableConv (None, 10, 10, 728)  536536      block12_sepconv3_act[0][0]       \n",
      "__________________________________________________________________________________________________\n",
      "block12_sepconv3_bn (BatchNorma (None, 10, 10, 728)  2912        block12_sepconv3[0][0]           \n",
      "__________________________________________________________________________________________________\n",
      "add_10 (Add)                    (None, 10, 10, 728)  0           block12_sepconv3_bn[0][0]        \n",
      "                                                                 add_9[0][0]                      \n",
      "__________________________________________________________________________________________________\n",
      "block13_sepconv1_act (Activatio (None, 10, 10, 728)  0           add_10[0][0]                     \n",
      "__________________________________________________________________________________________________\n",
      "block13_sepconv1 (SeparableConv (None, 10, 10, 728)  536536      block13_sepconv1_act[0][0]       \n",
      "__________________________________________________________________________________________________\n",
      "block13_sepconv1_bn (BatchNorma (None, 10, 10, 728)  2912        block13_sepconv1[0][0]           \n",
      "__________________________________________________________________________________________________\n",
      "block13_sepconv2_act (Activatio (None, 10, 10, 728)  0           block13_sepconv1_bn[0][0]        \n",
      "__________________________________________________________________________________________________\n",
      "block13_sepconv2 (SeparableConv (None, 10, 10, 1024) 752024      block13_sepconv2_act[0][0]       \n",
      "__________________________________________________________________________________________________\n",
      "block13_sepconv2_bn (BatchNorma (None, 10, 10, 1024) 4096        block13_sepconv2[0][0]           \n",
      "__________________________________________________________________________________________________\n",
      "conv2d_3 (Conv2D)               (None, 5, 5, 1024)   745472      add_10[0][0]                     \n",
      "__________________________________________________________________________________________________\n",
      "block13_pool (MaxPooling2D)     (None, 5, 5, 1024)   0           block13_sepconv2_bn[0][0]        \n",
      "__________________________________________________________________________________________________\n",
      "batch_normalization_3 (BatchNor (None, 5, 5, 1024)   4096        conv2d_3[0][0]                   \n",
      "__________________________________________________________________________________________________\n",
      "add_11 (Add)                    (None, 5, 5, 1024)   0           block13_pool[0][0]               \n",
      "                                                                 batch_normalization_3[0][0]      \n",
      "__________________________________________________________________________________________________\n",
      "block14_sepconv1 (SeparableConv (None, 5, 5, 1536)   1582080     add_11[0][0]                     \n",
      "__________________________________________________________________________________________________\n",
      "block14_sepconv1_bn (BatchNorma (None, 5, 5, 1536)   6144        block14_sepconv1[0][0]           \n",
      "__________________________________________________________________________________________________\n",
      "block14_sepconv1_act (Activatio (None, 5, 5, 1536)   0           block14_sepconv1_bn[0][0]        \n",
      "__________________________________________________________________________________________________\n",
      "block14_sepconv2 (SeparableConv (None, 5, 5, 2048)   3159552     block14_sepconv1_act[0][0]       \n",
      "__________________________________________________________________________________________________\n",
      "block14_sepconv2_bn (BatchNorma (None, 5, 5, 2048)   8192        block14_sepconv2[0][0]           \n",
      "__________________________________________________________________________________________________\n",
      "block14_sepconv2_act (Activatio (None, 5, 5, 2048)   0           block14_sepconv2_bn[0][0]        \n",
      "__________________________________________________________________________________________________\n",
      "flatten (Flatten)               (None, 51200)        0           block14_sepconv2_act[0][0]       \n",
      "__________________________________________________________________________________________________\n",
      "dense (Dense)                   (None, 1024)         52429824    flatten[0][0]                    \n",
      "__________________________________________________________________________________________________\n",
      "dropout (Dropout)               (None, 1024)         0           dense[0][0]                      \n",
      "__________________________________________________________________________________________________\n",
      "batch_normalization_4 (BatchNor (None, 1024)         4096        dropout[0][0]                    \n",
      "__________________________________________________________________________________________________\n",
      "dense_1 (Dense)                 (None, 512)          524800      batch_normalization_4[0][0]      \n",
      "__________________________________________________________________________________________________\n",
      "dropout_1 (Dropout)             (None, 512)          0           dense_1[0][0]                    \n",
      "__________________________________________________________________________________________________\n",
      "batch_normalization_5 (BatchNor (None, 512)          2048        dropout_1[0][0]                  \n",
      "__________________________________________________________________________________________________\n",
      "dense_2 (Dense)                 (None, 1)            513         batch_normalization_5[0][0]      \n",
      "==================================================================================================\n",
      "Total params: 73,822,761\n",
      "Trainable params: 52,958,209\n",
      "Non-trainable params: 20,864,552\n",
      "__________________________________________________________________________________________________\n"
     ]
    }
   ],
   "source": [
    "xception_model.summary()"
   ]
  },
  {
   "cell_type": "code",
   "execution_count": 14,
   "metadata": {},
   "outputs": [
    {
     "name": "stdout",
     "output_type": "stream",
     "text": [
      "Epoch 1/30\n"
     ]
    },
    {
     "ename": "ResourceExhaustedError",
     "evalue": "OOM when allocating tensor with shape[4,64,77,77] and type float on /job:localhost/replica:0/task:0/device:GPU:0 by allocator GPU_0_bfc\n\t [[Node: block1_conv2/Conv2D = Conv2D[T=DT_FLOAT, _class=[\"loc:@block1_conv2_bn/cond/FusedBatchNorm_1/Switch\"], data_format=\"NCHW\", dilations=[1, 1, 1, 1], padding=\"VALID\", strides=[1, 1, 1, 1], use_cudnn_on_gpu=true, _device=\"/job:localhost/replica:0/task:0/device:GPU:0\"](block1_conv1_act/Relu, block1_conv2/Conv2D/ReadVariableOp)]]\nHint: If you want to see a list of allocated tensors when OOM happens, add report_tensor_allocations_upon_oom to RunOptions for current allocation info.\n\n\t [[Node: metrics/auc/Mean/_1801 = _Recv[client_terminated=false, recv_device=\"/job:localhost/replica:0/task:0/device:CPU:0\", send_device=\"/job:localhost/replica:0/task:0/device:GPU:0\", send_device_incarnation=1, tensor_name=\"edge_3180_metrics/auc/Mean\", tensor_type=DT_FLOAT, _device=\"/job:localhost/replica:0/task:0/device:CPU:0\"]()]]\nHint: If you want to see a list of allocated tensors when OOM happens, add report_tensor_allocations_upon_oom to RunOptions for current allocation info.\n",
     "output_type": "error",
     "traceback": [
      "\u001b[1;31m---------------------------------------------------------------------------\u001b[0m",
      "\u001b[1;31mResourceExhaustedError\u001b[0m                    Traceback (most recent call last)",
      "\u001b[1;32m<ipython-input-14-8e969b28180a>\u001b[0m in \u001b[0;36m<module>\u001b[1;34m\u001b[0m\n\u001b[0;32m      4\u001b[0m     \u001b[0mvalidation_data\u001b[0m\u001b[1;33m=\u001b[0m\u001b[0mvalidation_generator\u001b[0m\u001b[1;33m,\u001b[0m\u001b[1;33m\u001b[0m\u001b[1;33m\u001b[0m\u001b[0m\n\u001b[0;32m      5\u001b[0m     \u001b[0mvalidation_steps\u001b[0m\u001b[1;33m=\u001b[0m\u001b[0msteps_validation\u001b[0m\u001b[1;33m,\u001b[0m\u001b[1;33m\u001b[0m\u001b[1;33m\u001b[0m\u001b[0m\n\u001b[1;32m----> 6\u001b[1;33m     class_weight=class_weight)\n\u001b[0m",
      "\u001b[1;32m~\\Anaconda3\\envs\\neuralnetworks\\lib\\site-packages\\tensorflow\\python\\keras\\engine\\training.py\u001b[0m in \u001b[0;36mfit_generator\u001b[1;34m(self, generator, steps_per_epoch, epochs, verbose, callbacks, validation_data, validation_steps, class_weight, max_queue_size, workers, use_multiprocessing, shuffle, initial_epoch)\u001b[0m\n\u001b[0;32m   1759\u001b[0m         \u001b[0muse_multiprocessing\u001b[0m\u001b[1;33m=\u001b[0m\u001b[0muse_multiprocessing\u001b[0m\u001b[1;33m,\u001b[0m\u001b[1;33m\u001b[0m\u001b[1;33m\u001b[0m\u001b[0m\n\u001b[0;32m   1760\u001b[0m         \u001b[0mshuffle\u001b[0m\u001b[1;33m=\u001b[0m\u001b[0mshuffle\u001b[0m\u001b[1;33m,\u001b[0m\u001b[1;33m\u001b[0m\u001b[1;33m\u001b[0m\u001b[0m\n\u001b[1;32m-> 1761\u001b[1;33m         initial_epoch=initial_epoch)\n\u001b[0m\u001b[0;32m   1762\u001b[0m \u001b[1;33m\u001b[0m\u001b[0m\n\u001b[0;32m   1763\u001b[0m   def evaluate_generator(self,\n",
      "\u001b[1;32m~\\Anaconda3\\envs\\neuralnetworks\\lib\\site-packages\\tensorflow\\python\\keras\\engine\\training_generator.py\u001b[0m in \u001b[0;36mfit_generator\u001b[1;34m(model, generator, steps_per_epoch, epochs, verbose, callbacks, validation_data, validation_steps, class_weight, max_queue_size, workers, use_multiprocessing, shuffle, initial_epoch)\u001b[0m\n\u001b[0;32m    188\u001b[0m \u001b[1;33m\u001b[0m\u001b[0m\n\u001b[0;32m    189\u001b[0m         outs = model.train_on_batch(\n\u001b[1;32m--> 190\u001b[1;33m             x, y, sample_weight=sample_weight, class_weight=class_weight)\n\u001b[0m\u001b[0;32m    191\u001b[0m \u001b[1;33m\u001b[0m\u001b[0m\n\u001b[0;32m    192\u001b[0m         \u001b[1;32mif\u001b[0m \u001b[1;32mnot\u001b[0m \u001b[0misinstance\u001b[0m\u001b[1;33m(\u001b[0m\u001b[0mouts\u001b[0m\u001b[1;33m,\u001b[0m \u001b[0mlist\u001b[0m\u001b[1;33m)\u001b[0m\u001b[1;33m:\u001b[0m\u001b[1;33m\u001b[0m\u001b[1;33m\u001b[0m\u001b[0m\n",
      "\u001b[1;32m~\\Anaconda3\\envs\\neuralnetworks\\lib\\site-packages\\tensorflow\\python\\keras\\engine\\training.py\u001b[0m in \u001b[0;36mtrain_on_batch\u001b[1;34m(self, x, y, sample_weight, class_weight)\u001b[0m\n\u001b[0;32m   1535\u001b[0m \u001b[1;33m\u001b[0m\u001b[0m\n\u001b[0;32m   1536\u001b[0m       \u001b[0mself\u001b[0m\u001b[1;33m.\u001b[0m\u001b[0m_make_train_function\u001b[0m\u001b[1;33m(\u001b[0m\u001b[1;33m)\u001b[0m\u001b[1;33m\u001b[0m\u001b[1;33m\u001b[0m\u001b[0m\n\u001b[1;32m-> 1537\u001b[1;33m       \u001b[0moutputs\u001b[0m \u001b[1;33m=\u001b[0m \u001b[0mself\u001b[0m\u001b[1;33m.\u001b[0m\u001b[0mtrain_function\u001b[0m\u001b[1;33m(\u001b[0m\u001b[0mins\u001b[0m\u001b[1;33m)\u001b[0m\u001b[1;33m\u001b[0m\u001b[1;33m\u001b[0m\u001b[0m\n\u001b[0m\u001b[0;32m   1538\u001b[0m \u001b[1;33m\u001b[0m\u001b[0m\n\u001b[0;32m   1539\u001b[0m     \u001b[1;32mif\u001b[0m \u001b[0mlen\u001b[0m\u001b[1;33m(\u001b[0m\u001b[0moutputs\u001b[0m\u001b[1;33m)\u001b[0m \u001b[1;33m==\u001b[0m \u001b[1;36m1\u001b[0m\u001b[1;33m:\u001b[0m\u001b[1;33m\u001b[0m\u001b[1;33m\u001b[0m\u001b[0m\n",
      "\u001b[1;32m~\\Anaconda3\\envs\\neuralnetworks\\lib\\site-packages\\tensorflow\\python\\keras\\backend.py\u001b[0m in \u001b[0;36m__call__\u001b[1;34m(self, inputs)\u001b[0m\n\u001b[0;32m   2895\u001b[0m       \u001b[0mself\u001b[0m\u001b[1;33m.\u001b[0m\u001b[0m_make_callable\u001b[0m\u001b[1;33m(\u001b[0m\u001b[0mfeed_arrays\u001b[0m\u001b[1;33m,\u001b[0m \u001b[0mfeed_symbols\u001b[0m\u001b[1;33m,\u001b[0m \u001b[0msymbol_vals\u001b[0m\u001b[1;33m,\u001b[0m \u001b[0msession\u001b[0m\u001b[1;33m)\u001b[0m\u001b[1;33m\u001b[0m\u001b[1;33m\u001b[0m\u001b[0m\n\u001b[0;32m   2896\u001b[0m \u001b[1;33m\u001b[0m\u001b[0m\n\u001b[1;32m-> 2897\u001b[1;33m     \u001b[0mfetched\u001b[0m \u001b[1;33m=\u001b[0m \u001b[0mself\u001b[0m\u001b[1;33m.\u001b[0m\u001b[0m_callable_fn\u001b[0m\u001b[1;33m(\u001b[0m\u001b[1;33m*\u001b[0m\u001b[0marray_vals\u001b[0m\u001b[1;33m)\u001b[0m\u001b[1;33m\u001b[0m\u001b[1;33m\u001b[0m\u001b[0m\n\u001b[0m\u001b[0;32m   2898\u001b[0m     \u001b[1;32mreturn\u001b[0m \u001b[0mfetched\u001b[0m\u001b[1;33m[\u001b[0m\u001b[1;33m:\u001b[0m\u001b[0mlen\u001b[0m\u001b[1;33m(\u001b[0m\u001b[0mself\u001b[0m\u001b[1;33m.\u001b[0m\u001b[0moutputs\u001b[0m\u001b[1;33m)\u001b[0m\u001b[1;33m]\u001b[0m\u001b[1;33m\u001b[0m\u001b[1;33m\u001b[0m\u001b[0m\n\u001b[0;32m   2899\u001b[0m \u001b[1;33m\u001b[0m\u001b[0m\n",
      "\u001b[1;32m~\\Anaconda3\\envs\\neuralnetworks\\lib\\site-packages\\tensorflow\\python\\client\\session.py\u001b[0m in \u001b[0;36m__call__\u001b[1;34m(self, *args)\u001b[0m\n\u001b[0;32m   1452\u001b[0m         \u001b[1;32melse\u001b[0m\u001b[1;33m:\u001b[0m\u001b[1;33m\u001b[0m\u001b[1;33m\u001b[0m\u001b[0m\n\u001b[0;32m   1453\u001b[0m           return tf_session.TF_DeprecatedSessionRunCallable(\n\u001b[1;32m-> 1454\u001b[1;33m               self._session._session, self._handle, args, status, None)\n\u001b[0m\u001b[0;32m   1455\u001b[0m \u001b[1;33m\u001b[0m\u001b[0m\n\u001b[0;32m   1456\u001b[0m     \u001b[1;32mdef\u001b[0m \u001b[0m__del__\u001b[0m\u001b[1;33m(\u001b[0m\u001b[0mself\u001b[0m\u001b[1;33m)\u001b[0m\u001b[1;33m:\u001b[0m\u001b[1;33m\u001b[0m\u001b[1;33m\u001b[0m\u001b[0m\n",
      "\u001b[1;32m~\\Anaconda3\\envs\\neuralnetworks\\lib\\site-packages\\tensorflow\\python\\framework\\errors_impl.py\u001b[0m in \u001b[0;36m__exit__\u001b[1;34m(self, type_arg, value_arg, traceback_arg)\u001b[0m\n\u001b[0;32m    517\u001b[0m             \u001b[1;32mNone\u001b[0m\u001b[1;33m,\u001b[0m \u001b[1;32mNone\u001b[0m\u001b[1;33m,\u001b[0m\u001b[1;33m\u001b[0m\u001b[1;33m\u001b[0m\u001b[0m\n\u001b[0;32m    518\u001b[0m             \u001b[0mcompat\u001b[0m\u001b[1;33m.\u001b[0m\u001b[0mas_text\u001b[0m\u001b[1;33m(\u001b[0m\u001b[0mc_api\u001b[0m\u001b[1;33m.\u001b[0m\u001b[0mTF_Message\u001b[0m\u001b[1;33m(\u001b[0m\u001b[0mself\u001b[0m\u001b[1;33m.\u001b[0m\u001b[0mstatus\u001b[0m\u001b[1;33m.\u001b[0m\u001b[0mstatus\u001b[0m\u001b[1;33m)\u001b[0m\u001b[1;33m)\u001b[0m\u001b[1;33m,\u001b[0m\u001b[1;33m\u001b[0m\u001b[1;33m\u001b[0m\u001b[0m\n\u001b[1;32m--> 519\u001b[1;33m             c_api.TF_GetCode(self.status.status))\n\u001b[0m\u001b[0;32m    520\u001b[0m     \u001b[1;31m# Delete the underlying status object from memory otherwise it stays alive\u001b[0m\u001b[1;33m\u001b[0m\u001b[1;33m\u001b[0m\u001b[1;33m\u001b[0m\u001b[0m\n\u001b[0;32m    521\u001b[0m     \u001b[1;31m# as there is a reference to status from this from the traceback due to\u001b[0m\u001b[1;33m\u001b[0m\u001b[1;33m\u001b[0m\u001b[1;33m\u001b[0m\u001b[0m\n",
      "\u001b[1;31mResourceExhaustedError\u001b[0m: OOM when allocating tensor with shape[4,64,77,77] and type float on /job:localhost/replica:0/task:0/device:GPU:0 by allocator GPU_0_bfc\n\t [[Node: block1_conv2/Conv2D = Conv2D[T=DT_FLOAT, _class=[\"loc:@block1_conv2_bn/cond/FusedBatchNorm_1/Switch\"], data_format=\"NCHW\", dilations=[1, 1, 1, 1], padding=\"VALID\", strides=[1, 1, 1, 1], use_cudnn_on_gpu=true, _device=\"/job:localhost/replica:0/task:0/device:GPU:0\"](block1_conv1_act/Relu, block1_conv2/Conv2D/ReadVariableOp)]]\nHint: If you want to see a list of allocated tensors when OOM happens, add report_tensor_allocations_upon_oom to RunOptions for current allocation info.\n\n\t [[Node: metrics/auc/Mean/_1801 = _Recv[client_terminated=false, recv_device=\"/job:localhost/replica:0/task:0/device:CPU:0\", send_device=\"/job:localhost/replica:0/task:0/device:GPU:0\", send_device_incarnation=1, tensor_name=\"edge_3180_metrics/auc/Mean\", tensor_type=DT_FLOAT, _device=\"/job:localhost/replica:0/task:0/device:CPU:0\"]()]]\nHint: If you want to see a list of allocated tensors when OOM happens, add report_tensor_allocations_upon_oom to RunOptions for current allocation info.\n"
     ]
    }
   ],
   "source": [
    "xception_history = xception_model.fit_generator(\n",
    "    train_generator, epochs=EPOCHS, steps_per_epoch=steps_train,\n",
    "    verbose=1, shuffle=True, \n",
    "    validation_data=validation_generator, \n",
    "    validation_steps=steps_validation,\n",
    "    class_weight=class_weight)"
   ]
  },
  {
   "cell_type": "code",
   "execution_count": 24,
   "metadata": {},
   "outputs": [
    {
     "data": {
      "text/plain": [
       "[name: \"/device:CPU:0\"\n",
       " device_type: \"CPU\"\n",
       " memory_limit: 268435456\n",
       " locality {\n",
       " }\n",
       " incarnation: 15043024127113459527,\n",
       " name: \"/device:GPU:0\"\n",
       " device_type: \"GPU\"\n",
       " memory_limit: 1431348428\n",
       " locality {\n",
       "   bus_id: 1\n",
       "   links {\n",
       "   }\n",
       " }\n",
       " incarnation: 390588914503056102\n",
       " physical_device_desc: \"device: 0, name: GeForce GTX 1050, pci bus id: 0000:01:00.0, compute capability: 6.1\"]"
      ]
     },
     "execution_count": 24,
     "metadata": {},
     "output_type": "execute_result"
    }
   ],
   "source": [
    "from tensorflow.python.client import device_lib\n",
    "\n",
    "device_lib.list_local_devices()"
   ]
  },
  {
   "cell_type": "code",
   "execution_count": 29,
   "metadata": {},
   "outputs": [],
   "source": [
    "xception_model.save(\"models/xception.h5\") # rerun"
   ]
  },
  {
   "cell_type": "code",
   "execution_count": 36,
   "metadata": {},
   "outputs": [],
   "source": [
    "from tensorflow.keras.applications.inception_v3 import InceptionV3\n",
    "\n",
    "inception = InceptionV3(\n",
    "    include_top=False,\n",
    "    weights='imagenet',\n",
    "    input_shape=(160, 160, 3)\n",
    ")\n",
    "\n",
    "inception_model = build_imagenet_model(inception)\n",
    "\n",
    "for layer in inception_model.layers[:len(inception.layers)]:\n",
    "    layer.trainable = False"
   ]
  },
  {
   "cell_type": "code",
   "execution_count": 37,
   "metadata": {},
   "outputs": [],
   "source": [
    "inception_model.compile(loss='binary_crossentropy', optimizer=opt, metrics=['binary_accuracy', auc])"
   ]
  },
  {
   "cell_type": "code",
   "execution_count": 38,
   "metadata": {},
   "outputs": [
    {
     "name": "stdout",
     "output_type": "stream",
     "text": [
      "Epoch 1/30\n"
     ]
    },
    {
     "ename": "ResourceExhaustedError",
     "evalue": "OOM when allocating tensor with shape[18432,1024] and type float on /job:localhost/replica:0/task:0/device:GPU:0 by allocator GPU_0_bfc\n\t [[Node: training_4/Adam/Variable_10/Assign = AssignVariableOp[_grappler_relax_allocator_constraints=true, dtype=DT_FLOAT, _device=\"/job:localhost/replica:0/task:0/device:GPU:0\"](training_4/Adam/Variable_10, training_4/Adam/zeros)]]\nHint: If you want to see a list of allocated tensors when OOM happens, add report_tensor_allocations_upon_oom to RunOptions for current allocation info.\n\n\nCaused by op 'training_4/Adam/Variable_10/Assign', defined at:\n  File \"C:\\Users\\Steph\\Anaconda3\\envs\\neuralnetworks\\lib\\runpy.py\", line 193, in _run_module_as_main\n    \"__main__\", mod_spec)\n  File \"C:\\Users\\Steph\\Anaconda3\\envs\\neuralnetworks\\lib\\runpy.py\", line 85, in _run_code\n    exec(code, run_globals)\n  File \"C:\\Users\\Steph\\Anaconda3\\envs\\neuralnetworks\\lib\\site-packages\\ipykernel_launcher.py\", line 16, in <module>\n    app.launch_new_instance()\n  File \"C:\\Users\\Steph\\Anaconda3\\envs\\neuralnetworks\\lib\\site-packages\\traitlets\\config\\application.py\", line 664, in launch_instance\n    app.start()\n  File \"C:\\Users\\Steph\\Anaconda3\\envs\\neuralnetworks\\lib\\site-packages\\ipykernel\\kernelapp.py\", line 583, in start\n    self.io_loop.start()\n  File \"C:\\Users\\Steph\\Anaconda3\\envs\\neuralnetworks\\lib\\site-packages\\tornado\\platform\\asyncio.py\", line 149, in start\n    self.asyncio_loop.run_forever()\n  File \"C:\\Users\\Steph\\Anaconda3\\envs\\neuralnetworks\\lib\\asyncio\\base_events.py\", line 442, in run_forever\n    self._run_once()\n  File \"C:\\Users\\Steph\\Anaconda3\\envs\\neuralnetworks\\lib\\asyncio\\base_events.py\", line 1462, in _run_once\n    handle._run()\n  File \"C:\\Users\\Steph\\Anaconda3\\envs\\neuralnetworks\\lib\\asyncio\\events.py\", line 145, in _run\n    self._callback(*self._args)\n  File \"C:\\Users\\Steph\\Anaconda3\\envs\\neuralnetworks\\lib\\site-packages\\tornado\\ioloop.py\", line 690, in <lambda>\n    lambda f: self._run_callback(functools.partial(callback, future))\n  File \"C:\\Users\\Steph\\Anaconda3\\envs\\neuralnetworks\\lib\\site-packages\\tornado\\ioloop.py\", line 743, in _run_callback\n    ret = callback()\n  File \"C:\\Users\\Steph\\Anaconda3\\envs\\neuralnetworks\\lib\\site-packages\\tornado\\gen.py\", line 787, in inner\n    self.run()\n  File \"C:\\Users\\Steph\\Anaconda3\\envs\\neuralnetworks\\lib\\site-packages\\tornado\\gen.py\", line 748, in run\n    yielded = self.gen.send(value)\n  File \"C:\\Users\\Steph\\Anaconda3\\envs\\neuralnetworks\\lib\\site-packages\\ipykernel\\kernelbase.py\", line 361, in process_one\n    yield gen.maybe_future(dispatch(*args))\n  File \"C:\\Users\\Steph\\Anaconda3\\envs\\neuralnetworks\\lib\\site-packages\\tornado\\gen.py\", line 209, in wrapper\n    yielded = next(result)\n  File \"C:\\Users\\Steph\\Anaconda3\\envs\\neuralnetworks\\lib\\site-packages\\ipykernel\\kernelbase.py\", line 268, in dispatch_shell\n    yield gen.maybe_future(handler(stream, idents, msg))\n  File \"C:\\Users\\Steph\\Anaconda3\\envs\\neuralnetworks\\lib\\site-packages\\tornado\\gen.py\", line 209, in wrapper\n    yielded = next(result)\n  File \"C:\\Users\\Steph\\Anaconda3\\envs\\neuralnetworks\\lib\\site-packages\\ipykernel\\kernelbase.py\", line 541, in execute_request\n    user_expressions, allow_stdin,\n  File \"C:\\Users\\Steph\\Anaconda3\\envs\\neuralnetworks\\lib\\site-packages\\tornado\\gen.py\", line 209, in wrapper\n    yielded = next(result)\n  File \"C:\\Users\\Steph\\Anaconda3\\envs\\neuralnetworks\\lib\\site-packages\\ipykernel\\ipkernel.py\", line 300, in do_execute\n    res = shell.run_cell(code, store_history=store_history, silent=silent)\n  File \"C:\\Users\\Steph\\Anaconda3\\envs\\neuralnetworks\\lib\\site-packages\\ipykernel\\zmqshell.py\", line 536, in run_cell\n    return super(ZMQInteractiveShell, self).run_cell(*args, **kwargs)\n  File \"C:\\Users\\Steph\\Anaconda3\\envs\\neuralnetworks\\lib\\site-packages\\IPython\\core\\interactiveshell.py\", line 2858, in run_cell\n    raw_cell, store_history, silent, shell_futures)\n  File \"C:\\Users\\Steph\\Anaconda3\\envs\\neuralnetworks\\lib\\site-packages\\IPython\\core\\interactiveshell.py\", line 2886, in _run_cell\n    return runner(coro)\n  File \"C:\\Users\\Steph\\Anaconda3\\envs\\neuralnetworks\\lib\\site-packages\\IPython\\core\\async_helpers.py\", line 68, in _pseudo_sync_runner\n    coro.send(None)\n  File \"C:\\Users\\Steph\\Anaconda3\\envs\\neuralnetworks\\lib\\site-packages\\IPython\\core\\interactiveshell.py\", line 3063, in run_cell_async\n    interactivity=interactivity, compiler=compiler, result=result)\n  File \"C:\\Users\\Steph\\Anaconda3\\envs\\neuralnetworks\\lib\\site-packages\\IPython\\core\\interactiveshell.py\", line 3254, in run_ast_nodes\n    if (await self.run_code(code, result,  async_=asy)):\n  File \"C:\\Users\\Steph\\Anaconda3\\envs\\neuralnetworks\\lib\\site-packages\\IPython\\core\\interactiveshell.py\", line 3331, in run_code\n    exec(code_obj, self.user_global_ns, self.user_ns)\n  File \"<ipython-input-38-8428a35c6ae8>\", line 6, in <module>\n    class_weight=class_weight)\n  File \"C:\\Users\\Steph\\Anaconda3\\envs\\neuralnetworks\\lib\\site-packages\\tensorflow\\python\\keras\\engine\\training.py\", line 1761, in fit_generator\n    initial_epoch=initial_epoch)\n  File \"C:\\Users\\Steph\\Anaconda3\\envs\\neuralnetworks\\lib\\site-packages\\tensorflow\\python\\keras\\engine\\training_generator.py\", line 190, in fit_generator\n    x, y, sample_weight=sample_weight, class_weight=class_weight)\n  File \"C:\\Users\\Steph\\Anaconda3\\envs\\neuralnetworks\\lib\\site-packages\\tensorflow\\python\\keras\\engine\\training.py\", line 1536, in train_on_batch\n    self._make_train_function()\n  File \"C:\\Users\\Steph\\Anaconda3\\envs\\neuralnetworks\\lib\\site-packages\\tensorflow\\python\\keras\\engine\\training.py\", line 588, in _make_train_function\n    params=self._collected_trainable_weights, loss=self.total_loss)\n  File \"C:\\Users\\Steph\\Anaconda3\\envs\\neuralnetworks\\lib\\site-packages\\tensorflow\\python\\keras\\optimizers.py\", line 503, in get_updates\n    vs = [K.zeros(K.int_shape(p), dtype=K.dtype(p)) for p in params]\n  File \"C:\\Users\\Steph\\Anaconda3\\envs\\neuralnetworks\\lib\\site-packages\\tensorflow\\python\\keras\\optimizers.py\", line 503, in <listcomp>\n    vs = [K.zeros(K.int_shape(p), dtype=K.dtype(p)) for p in params]\n  File \"C:\\Users\\Steph\\Anaconda3\\envs\\neuralnetworks\\lib\\site-packages\\tensorflow\\python\\keras\\backend.py\", line 970, in zeros\n    return variable(v, dtype=dtype, name=name)\n  File \"C:\\Users\\Steph\\Anaconda3\\envs\\neuralnetworks\\lib\\site-packages\\tensorflow\\python\\keras\\backend.py\", line 647, in variable\n    constraint=constraint)\n  File \"C:\\Users\\Steph\\Anaconda3\\envs\\neuralnetworks\\lib\\site-packages\\tensorflow\\python\\ops\\resource_variable_ops.py\", line 312, in __init__\n    constraint=constraint)\n  File \"C:\\Users\\Steph\\Anaconda3\\envs\\neuralnetworks\\lib\\site-packages\\tensorflow\\python\\ops\\resource_variable_ops.py\", line 478, in _init_from_args\n    name=n))\n  File \"C:\\Users\\Steph\\Anaconda3\\envs\\neuralnetworks\\lib\\site-packages\\tensorflow\\python\\ops\\gen_resource_variable_ops.py\", line 156, in assign_variable_op\n    \"AssignVariableOp\", resource=resource, value=value, name=name)\n  File \"C:\\Users\\Steph\\Anaconda3\\envs\\neuralnetworks\\lib\\site-packages\\tensorflow\\python\\framework\\op_def_library.py\", line 787, in _apply_op_helper\n    op_def=op_def)\n  File \"C:\\Users\\Steph\\Anaconda3\\envs\\neuralnetworks\\lib\\site-packages\\tensorflow\\python\\framework\\ops.py\", line 3414, in create_op\n    op_def=op_def)\n  File \"C:\\Users\\Steph\\Anaconda3\\envs\\neuralnetworks\\lib\\site-packages\\tensorflow\\python\\framework\\ops.py\", line 1740, in __init__\n    self._traceback = self._graph._extract_stack()  # pylint: disable=protected-access\n\nResourceExhaustedError (see above for traceback): OOM when allocating tensor with shape[18432,1024] and type float on /job:localhost/replica:0/task:0/device:GPU:0 by allocator GPU_0_bfc\n\t [[Node: training_4/Adam/Variable_10/Assign = AssignVariableOp[_grappler_relax_allocator_constraints=true, dtype=DT_FLOAT, _device=\"/job:localhost/replica:0/task:0/device:GPU:0\"](training_4/Adam/Variable_10, training_4/Adam/zeros)]]\nHint: If you want to see a list of allocated tensors when OOM happens, add report_tensor_allocations_upon_oom to RunOptions for current allocation info.\n\n",
     "output_type": "error",
     "traceback": [
      "\u001b[1;31m---------------------------------------------------------------------------\u001b[0m",
      "\u001b[1;31mResourceExhaustedError\u001b[0m                    Traceback (most recent call last)",
      "\u001b[1;32m~\\Anaconda3\\envs\\neuralnetworks\\lib\\site-packages\\tensorflow\\python\\client\\session.py\u001b[0m in \u001b[0;36m_do_call\u001b[1;34m(self, fn, *args)\u001b[0m\n\u001b[0;32m   1321\u001b[0m     \u001b[1;32mtry\u001b[0m\u001b[1;33m:\u001b[0m\u001b[1;33m\u001b[0m\u001b[1;33m\u001b[0m\u001b[0m\n\u001b[1;32m-> 1322\u001b[1;33m       \u001b[1;32mreturn\u001b[0m \u001b[0mfn\u001b[0m\u001b[1;33m(\u001b[0m\u001b[1;33m*\u001b[0m\u001b[0margs\u001b[0m\u001b[1;33m)\u001b[0m\u001b[1;33m\u001b[0m\u001b[1;33m\u001b[0m\u001b[0m\n\u001b[0m\u001b[0;32m   1323\u001b[0m     \u001b[1;32mexcept\u001b[0m \u001b[0merrors\u001b[0m\u001b[1;33m.\u001b[0m\u001b[0mOpError\u001b[0m \u001b[1;32mas\u001b[0m \u001b[0me\u001b[0m\u001b[1;33m:\u001b[0m\u001b[1;33m\u001b[0m\u001b[1;33m\u001b[0m\u001b[0m\n",
      "\u001b[1;32m~\\Anaconda3\\envs\\neuralnetworks\\lib\\site-packages\\tensorflow\\python\\client\\session.py\u001b[0m in \u001b[0;36m_run_fn\u001b[1;34m(feed_dict, fetch_list, target_list, options, run_metadata)\u001b[0m\n\u001b[0;32m   1306\u001b[0m       return self._call_tf_sessionrun(\n\u001b[1;32m-> 1307\u001b[1;33m           options, feed_dict, fetch_list, target_list, run_metadata)\n\u001b[0m\u001b[0;32m   1308\u001b[0m \u001b[1;33m\u001b[0m\u001b[0m\n",
      "\u001b[1;32m~\\Anaconda3\\envs\\neuralnetworks\\lib\\site-packages\\tensorflow\\python\\client\\session.py\u001b[0m in \u001b[0;36m_call_tf_sessionrun\u001b[1;34m(self, options, feed_dict, fetch_list, target_list, run_metadata)\u001b[0m\n\u001b[0;32m   1408\u001b[0m           \u001b[0mself\u001b[0m\u001b[1;33m.\u001b[0m\u001b[0m_session\u001b[0m\u001b[1;33m,\u001b[0m \u001b[0moptions\u001b[0m\u001b[1;33m,\u001b[0m \u001b[0mfeed_dict\u001b[0m\u001b[1;33m,\u001b[0m \u001b[0mfetch_list\u001b[0m\u001b[1;33m,\u001b[0m \u001b[0mtarget_list\u001b[0m\u001b[1;33m,\u001b[0m\u001b[1;33m\u001b[0m\u001b[1;33m\u001b[0m\u001b[0m\n\u001b[1;32m-> 1409\u001b[1;33m           run_metadata)\n\u001b[0m\u001b[0;32m   1410\u001b[0m     \u001b[1;32melse\u001b[0m\u001b[1;33m:\u001b[0m\u001b[1;33m\u001b[0m\u001b[1;33m\u001b[0m\u001b[0m\n",
      "\u001b[1;31mResourceExhaustedError\u001b[0m: OOM when allocating tensor with shape[18432,1024] and type float on /job:localhost/replica:0/task:0/device:GPU:0 by allocator GPU_0_bfc\n\t [[Node: training_4/Adam/Variable_10/Assign = AssignVariableOp[_grappler_relax_allocator_constraints=true, dtype=DT_FLOAT, _device=\"/job:localhost/replica:0/task:0/device:GPU:0\"](training_4/Adam/Variable_10, training_4/Adam/zeros)]]\nHint: If you want to see a list of allocated tensors when OOM happens, add report_tensor_allocations_upon_oom to RunOptions for current allocation info.\n",
      "\nDuring handling of the above exception, another exception occurred:\n",
      "\u001b[1;31mResourceExhaustedError\u001b[0m                    Traceback (most recent call last)",
      "\u001b[1;32m<ipython-input-38-8428a35c6ae8>\u001b[0m in \u001b[0;36m<module>\u001b[1;34m\u001b[0m\n\u001b[0;32m      4\u001b[0m     \u001b[0mvalidation_data\u001b[0m\u001b[1;33m=\u001b[0m\u001b[0mvalidation_generator\u001b[0m\u001b[1;33m,\u001b[0m\u001b[1;33m\u001b[0m\u001b[1;33m\u001b[0m\u001b[0m\n\u001b[0;32m      5\u001b[0m     \u001b[0mvalidation_steps\u001b[0m\u001b[1;33m=\u001b[0m\u001b[0msteps_validation\u001b[0m\u001b[1;33m,\u001b[0m\u001b[1;33m\u001b[0m\u001b[1;33m\u001b[0m\u001b[0m\n\u001b[1;32m----> 6\u001b[1;33m     class_weight=class_weight)\n\u001b[0m",
      "\u001b[1;32m~\\Anaconda3\\envs\\neuralnetworks\\lib\\site-packages\\tensorflow\\python\\keras\\engine\\training.py\u001b[0m in \u001b[0;36mfit_generator\u001b[1;34m(self, generator, steps_per_epoch, epochs, verbose, callbacks, validation_data, validation_steps, class_weight, max_queue_size, workers, use_multiprocessing, shuffle, initial_epoch)\u001b[0m\n\u001b[0;32m   1759\u001b[0m         \u001b[0muse_multiprocessing\u001b[0m\u001b[1;33m=\u001b[0m\u001b[0muse_multiprocessing\u001b[0m\u001b[1;33m,\u001b[0m\u001b[1;33m\u001b[0m\u001b[1;33m\u001b[0m\u001b[0m\n\u001b[0;32m   1760\u001b[0m         \u001b[0mshuffle\u001b[0m\u001b[1;33m=\u001b[0m\u001b[0mshuffle\u001b[0m\u001b[1;33m,\u001b[0m\u001b[1;33m\u001b[0m\u001b[1;33m\u001b[0m\u001b[0m\n\u001b[1;32m-> 1761\u001b[1;33m         initial_epoch=initial_epoch)\n\u001b[0m\u001b[0;32m   1762\u001b[0m \u001b[1;33m\u001b[0m\u001b[0m\n\u001b[0;32m   1763\u001b[0m   def evaluate_generator(self,\n",
      "\u001b[1;32m~\\Anaconda3\\envs\\neuralnetworks\\lib\\site-packages\\tensorflow\\python\\keras\\engine\\training_generator.py\u001b[0m in \u001b[0;36mfit_generator\u001b[1;34m(model, generator, steps_per_epoch, epochs, verbose, callbacks, validation_data, validation_steps, class_weight, max_queue_size, workers, use_multiprocessing, shuffle, initial_epoch)\u001b[0m\n\u001b[0;32m    188\u001b[0m \u001b[1;33m\u001b[0m\u001b[0m\n\u001b[0;32m    189\u001b[0m         outs = model.train_on_batch(\n\u001b[1;32m--> 190\u001b[1;33m             x, y, sample_weight=sample_weight, class_weight=class_weight)\n\u001b[0m\u001b[0;32m    191\u001b[0m \u001b[1;33m\u001b[0m\u001b[0m\n\u001b[0;32m    192\u001b[0m         \u001b[1;32mif\u001b[0m \u001b[1;32mnot\u001b[0m \u001b[0misinstance\u001b[0m\u001b[1;33m(\u001b[0m\u001b[0mouts\u001b[0m\u001b[1;33m,\u001b[0m \u001b[0mlist\u001b[0m\u001b[1;33m)\u001b[0m\u001b[1;33m:\u001b[0m\u001b[1;33m\u001b[0m\u001b[1;33m\u001b[0m\u001b[0m\n",
      "\u001b[1;32m~\\Anaconda3\\envs\\neuralnetworks\\lib\\site-packages\\tensorflow\\python\\keras\\engine\\training.py\u001b[0m in \u001b[0;36mtrain_on_batch\u001b[1;34m(self, x, y, sample_weight, class_weight)\u001b[0m\n\u001b[0;32m   1535\u001b[0m \u001b[1;33m\u001b[0m\u001b[0m\n\u001b[0;32m   1536\u001b[0m       \u001b[0mself\u001b[0m\u001b[1;33m.\u001b[0m\u001b[0m_make_train_function\u001b[0m\u001b[1;33m(\u001b[0m\u001b[1;33m)\u001b[0m\u001b[1;33m\u001b[0m\u001b[1;33m\u001b[0m\u001b[0m\n\u001b[1;32m-> 1537\u001b[1;33m       \u001b[0moutputs\u001b[0m \u001b[1;33m=\u001b[0m \u001b[0mself\u001b[0m\u001b[1;33m.\u001b[0m\u001b[0mtrain_function\u001b[0m\u001b[1;33m(\u001b[0m\u001b[0mins\u001b[0m\u001b[1;33m)\u001b[0m\u001b[1;33m\u001b[0m\u001b[1;33m\u001b[0m\u001b[0m\n\u001b[0m\u001b[0;32m   1538\u001b[0m \u001b[1;33m\u001b[0m\u001b[0m\n\u001b[0;32m   1539\u001b[0m     \u001b[1;32mif\u001b[0m \u001b[0mlen\u001b[0m\u001b[1;33m(\u001b[0m\u001b[0moutputs\u001b[0m\u001b[1;33m)\u001b[0m \u001b[1;33m==\u001b[0m \u001b[1;36m1\u001b[0m\u001b[1;33m:\u001b[0m\u001b[1;33m\u001b[0m\u001b[1;33m\u001b[0m\u001b[0m\n",
      "\u001b[1;32m~\\Anaconda3\\envs\\neuralnetworks\\lib\\site-packages\\tensorflow\\python\\keras\\backend.py\u001b[0m in \u001b[0;36m__call__\u001b[1;34m(self, inputs)\u001b[0m\n\u001b[0;32m   2859\u001b[0m       \u001b[1;32mraise\u001b[0m \u001b[0mTypeError\u001b[0m\u001b[1;33m(\u001b[0m\u001b[1;34m'`inputs` should be a list or tuple.'\u001b[0m\u001b[1;33m)\u001b[0m\u001b[1;33m\u001b[0m\u001b[1;33m\u001b[0m\u001b[0m\n\u001b[0;32m   2860\u001b[0m \u001b[1;33m\u001b[0m\u001b[0m\n\u001b[1;32m-> 2861\u001b[1;33m     \u001b[0msession\u001b[0m \u001b[1;33m=\u001b[0m \u001b[0mget_session\u001b[0m\u001b[1;33m(\u001b[0m\u001b[1;33m)\u001b[0m\u001b[1;33m\u001b[0m\u001b[1;33m\u001b[0m\u001b[0m\n\u001b[0m\u001b[0;32m   2862\u001b[0m     \u001b[0mfeed_arrays\u001b[0m \u001b[1;33m=\u001b[0m \u001b[1;33m[\u001b[0m\u001b[1;33m]\u001b[0m\u001b[1;33m\u001b[0m\u001b[1;33m\u001b[0m\u001b[0m\n\u001b[0;32m   2863\u001b[0m     \u001b[0marray_vals\u001b[0m \u001b[1;33m=\u001b[0m \u001b[1;33m[\u001b[0m\u001b[1;33m]\u001b[0m\u001b[1;33m\u001b[0m\u001b[1;33m\u001b[0m\u001b[0m\n",
      "\u001b[1;32m~\\Anaconda3\\envs\\neuralnetworks\\lib\\site-packages\\tensorflow\\python\\keras\\backend.py\u001b[0m in \u001b[0;36mget_session\u001b[1;34m()\u001b[0m\n\u001b[0;32m    441\u001b[0m   \u001b[1;32mif\u001b[0m \u001b[1;32mnot\u001b[0m \u001b[0m_MANUAL_VAR_INIT\u001b[0m\u001b[1;33m:\u001b[0m\u001b[1;33m\u001b[0m\u001b[1;33m\u001b[0m\u001b[0m\n\u001b[0;32m    442\u001b[0m     \u001b[1;32mwith\u001b[0m \u001b[0msession\u001b[0m\u001b[1;33m.\u001b[0m\u001b[0mgraph\u001b[0m\u001b[1;33m.\u001b[0m\u001b[0mas_default\u001b[0m\u001b[1;33m(\u001b[0m\u001b[1;33m)\u001b[0m\u001b[1;33m:\u001b[0m\u001b[1;33m\u001b[0m\u001b[1;33m\u001b[0m\u001b[0m\n\u001b[1;32m--> 443\u001b[1;33m       \u001b[0m_initialize_variables\u001b[0m\u001b[1;33m(\u001b[0m\u001b[0msession\u001b[0m\u001b[1;33m)\u001b[0m\u001b[1;33m\u001b[0m\u001b[1;33m\u001b[0m\u001b[0m\n\u001b[0m\u001b[0;32m    444\u001b[0m   \u001b[1;32mreturn\u001b[0m \u001b[0msession\u001b[0m\u001b[1;33m\u001b[0m\u001b[1;33m\u001b[0m\u001b[0m\n\u001b[0;32m    445\u001b[0m \u001b[1;33m\u001b[0m\u001b[0m\n",
      "\u001b[1;32m~\\Anaconda3\\envs\\neuralnetworks\\lib\\site-packages\\tensorflow\\python\\keras\\backend.py\u001b[0m in \u001b[0;36m_initialize_variables\u001b[1;34m(session)\u001b[0m\n\u001b[0;32m    672\u001b[0m       \u001b[0mv\u001b[0m\u001b[1;33m.\u001b[0m\u001b[0m_keras_initialized\u001b[0m \u001b[1;33m=\u001b[0m \u001b[1;32mTrue\u001b[0m\u001b[1;33m\u001b[0m\u001b[1;33m\u001b[0m\u001b[0m\n\u001b[0;32m    673\u001b[0m     \u001b[1;32mif\u001b[0m \u001b[0muninitialized_vars\u001b[0m\u001b[1;33m:\u001b[0m\u001b[1;33m\u001b[0m\u001b[1;33m\u001b[0m\u001b[0m\n\u001b[1;32m--> 674\u001b[1;33m       \u001b[0msession\u001b[0m\u001b[1;33m.\u001b[0m\u001b[0mrun\u001b[0m\u001b[1;33m(\u001b[0m\u001b[0mvariables_module\u001b[0m\u001b[1;33m.\u001b[0m\u001b[0mvariables_initializer\u001b[0m\u001b[1;33m(\u001b[0m\u001b[0muninitialized_vars\u001b[0m\u001b[1;33m)\u001b[0m\u001b[1;33m)\u001b[0m\u001b[1;33m\u001b[0m\u001b[1;33m\u001b[0m\u001b[0m\n\u001b[0m\u001b[0;32m    675\u001b[0m \u001b[1;33m\u001b[0m\u001b[0m\n\u001b[0;32m    676\u001b[0m \u001b[1;33m\u001b[0m\u001b[0m\n",
      "\u001b[1;32m~\\Anaconda3\\envs\\neuralnetworks\\lib\\site-packages\\tensorflow\\python\\client\\session.py\u001b[0m in \u001b[0;36mrun\u001b[1;34m(self, fetches, feed_dict, options, run_metadata)\u001b[0m\n\u001b[0;32m    898\u001b[0m     \u001b[1;32mtry\u001b[0m\u001b[1;33m:\u001b[0m\u001b[1;33m\u001b[0m\u001b[1;33m\u001b[0m\u001b[0m\n\u001b[0;32m    899\u001b[0m       result = self._run(None, fetches, feed_dict, options_ptr,\n\u001b[1;32m--> 900\u001b[1;33m                          run_metadata_ptr)\n\u001b[0m\u001b[0;32m    901\u001b[0m       \u001b[1;32mif\u001b[0m \u001b[0mrun_metadata\u001b[0m\u001b[1;33m:\u001b[0m\u001b[1;33m\u001b[0m\u001b[1;33m\u001b[0m\u001b[0m\n\u001b[0;32m    902\u001b[0m         \u001b[0mproto_data\u001b[0m \u001b[1;33m=\u001b[0m \u001b[0mtf_session\u001b[0m\u001b[1;33m.\u001b[0m\u001b[0mTF_GetBuffer\u001b[0m\u001b[1;33m(\u001b[0m\u001b[0mrun_metadata_ptr\u001b[0m\u001b[1;33m)\u001b[0m\u001b[1;33m\u001b[0m\u001b[1;33m\u001b[0m\u001b[0m\n",
      "\u001b[1;32m~\\Anaconda3\\envs\\neuralnetworks\\lib\\site-packages\\tensorflow\\python\\client\\session.py\u001b[0m in \u001b[0;36m_run\u001b[1;34m(self, handle, fetches, feed_dict, options, run_metadata)\u001b[0m\n\u001b[0;32m   1133\u001b[0m     \u001b[1;32mif\u001b[0m \u001b[0mfinal_fetches\u001b[0m \u001b[1;32mor\u001b[0m \u001b[0mfinal_targets\u001b[0m \u001b[1;32mor\u001b[0m \u001b[1;33m(\u001b[0m\u001b[0mhandle\u001b[0m \u001b[1;32mand\u001b[0m \u001b[0mfeed_dict_tensor\u001b[0m\u001b[1;33m)\u001b[0m\u001b[1;33m:\u001b[0m\u001b[1;33m\u001b[0m\u001b[1;33m\u001b[0m\u001b[0m\n\u001b[0;32m   1134\u001b[0m       results = self._do_run(handle, final_targets, final_fetches,\n\u001b[1;32m-> 1135\u001b[1;33m                              feed_dict_tensor, options, run_metadata)\n\u001b[0m\u001b[0;32m   1136\u001b[0m     \u001b[1;32melse\u001b[0m\u001b[1;33m:\u001b[0m\u001b[1;33m\u001b[0m\u001b[1;33m\u001b[0m\u001b[0m\n\u001b[0;32m   1137\u001b[0m       \u001b[0mresults\u001b[0m \u001b[1;33m=\u001b[0m \u001b[1;33m[\u001b[0m\u001b[1;33m]\u001b[0m\u001b[1;33m\u001b[0m\u001b[1;33m\u001b[0m\u001b[0m\n",
      "\u001b[1;32m~\\Anaconda3\\envs\\neuralnetworks\\lib\\site-packages\\tensorflow\\python\\client\\session.py\u001b[0m in \u001b[0;36m_do_run\u001b[1;34m(self, handle, target_list, fetch_list, feed_dict, options, run_metadata)\u001b[0m\n\u001b[0;32m   1314\u001b[0m     \u001b[1;32mif\u001b[0m \u001b[0mhandle\u001b[0m \u001b[1;32mis\u001b[0m \u001b[1;32mNone\u001b[0m\u001b[1;33m:\u001b[0m\u001b[1;33m\u001b[0m\u001b[1;33m\u001b[0m\u001b[0m\n\u001b[0;32m   1315\u001b[0m       return self._do_call(_run_fn, feeds, fetches, targets, options,\n\u001b[1;32m-> 1316\u001b[1;33m                            run_metadata)\n\u001b[0m\u001b[0;32m   1317\u001b[0m     \u001b[1;32melse\u001b[0m\u001b[1;33m:\u001b[0m\u001b[1;33m\u001b[0m\u001b[1;33m\u001b[0m\u001b[0m\n\u001b[0;32m   1318\u001b[0m       \u001b[1;32mreturn\u001b[0m \u001b[0mself\u001b[0m\u001b[1;33m.\u001b[0m\u001b[0m_do_call\u001b[0m\u001b[1;33m(\u001b[0m\u001b[0m_prun_fn\u001b[0m\u001b[1;33m,\u001b[0m \u001b[0mhandle\u001b[0m\u001b[1;33m,\u001b[0m \u001b[0mfeeds\u001b[0m\u001b[1;33m,\u001b[0m \u001b[0mfetches\u001b[0m\u001b[1;33m)\u001b[0m\u001b[1;33m\u001b[0m\u001b[1;33m\u001b[0m\u001b[0m\n",
      "\u001b[1;32m~\\Anaconda3\\envs\\neuralnetworks\\lib\\site-packages\\tensorflow\\python\\client\\session.py\u001b[0m in \u001b[0;36m_do_call\u001b[1;34m(self, fn, *args)\u001b[0m\n\u001b[0;32m   1333\u001b[0m         \u001b[1;32mexcept\u001b[0m \u001b[0mKeyError\u001b[0m\u001b[1;33m:\u001b[0m\u001b[1;33m\u001b[0m\u001b[1;33m\u001b[0m\u001b[0m\n\u001b[0;32m   1334\u001b[0m           \u001b[1;32mpass\u001b[0m\u001b[1;33m\u001b[0m\u001b[1;33m\u001b[0m\u001b[0m\n\u001b[1;32m-> 1335\u001b[1;33m       \u001b[1;32mraise\u001b[0m \u001b[0mtype\u001b[0m\u001b[1;33m(\u001b[0m\u001b[0me\u001b[0m\u001b[1;33m)\u001b[0m\u001b[1;33m(\u001b[0m\u001b[0mnode_def\u001b[0m\u001b[1;33m,\u001b[0m \u001b[0mop\u001b[0m\u001b[1;33m,\u001b[0m \u001b[0mmessage\u001b[0m\u001b[1;33m)\u001b[0m\u001b[1;33m\u001b[0m\u001b[1;33m\u001b[0m\u001b[0m\n\u001b[0m\u001b[0;32m   1336\u001b[0m \u001b[1;33m\u001b[0m\u001b[0m\n\u001b[0;32m   1337\u001b[0m   \u001b[1;32mdef\u001b[0m \u001b[0m_extend_graph\u001b[0m\u001b[1;33m(\u001b[0m\u001b[0mself\u001b[0m\u001b[1;33m)\u001b[0m\u001b[1;33m:\u001b[0m\u001b[1;33m\u001b[0m\u001b[1;33m\u001b[0m\u001b[0m\n",
      "\u001b[1;31mResourceExhaustedError\u001b[0m: OOM when allocating tensor with shape[18432,1024] and type float on /job:localhost/replica:0/task:0/device:GPU:0 by allocator GPU_0_bfc\n\t [[Node: training_4/Adam/Variable_10/Assign = AssignVariableOp[_grappler_relax_allocator_constraints=true, dtype=DT_FLOAT, _device=\"/job:localhost/replica:0/task:0/device:GPU:0\"](training_4/Adam/Variable_10, training_4/Adam/zeros)]]\nHint: If you want to see a list of allocated tensors when OOM happens, add report_tensor_allocations_upon_oom to RunOptions for current allocation info.\n\n\nCaused by op 'training_4/Adam/Variable_10/Assign', defined at:\n  File \"C:\\Users\\Steph\\Anaconda3\\envs\\neuralnetworks\\lib\\runpy.py\", line 193, in _run_module_as_main\n    \"__main__\", mod_spec)\n  File \"C:\\Users\\Steph\\Anaconda3\\envs\\neuralnetworks\\lib\\runpy.py\", line 85, in _run_code\n    exec(code, run_globals)\n  File \"C:\\Users\\Steph\\Anaconda3\\envs\\neuralnetworks\\lib\\site-packages\\ipykernel_launcher.py\", line 16, in <module>\n    app.launch_new_instance()\n  File \"C:\\Users\\Steph\\Anaconda3\\envs\\neuralnetworks\\lib\\site-packages\\traitlets\\config\\application.py\", line 664, in launch_instance\n    app.start()\n  File \"C:\\Users\\Steph\\Anaconda3\\envs\\neuralnetworks\\lib\\site-packages\\ipykernel\\kernelapp.py\", line 583, in start\n    self.io_loop.start()\n  File \"C:\\Users\\Steph\\Anaconda3\\envs\\neuralnetworks\\lib\\site-packages\\tornado\\platform\\asyncio.py\", line 149, in start\n    self.asyncio_loop.run_forever()\n  File \"C:\\Users\\Steph\\Anaconda3\\envs\\neuralnetworks\\lib\\asyncio\\base_events.py\", line 442, in run_forever\n    self._run_once()\n  File \"C:\\Users\\Steph\\Anaconda3\\envs\\neuralnetworks\\lib\\asyncio\\base_events.py\", line 1462, in _run_once\n    handle._run()\n  File \"C:\\Users\\Steph\\Anaconda3\\envs\\neuralnetworks\\lib\\asyncio\\events.py\", line 145, in _run\n    self._callback(*self._args)\n  File \"C:\\Users\\Steph\\Anaconda3\\envs\\neuralnetworks\\lib\\site-packages\\tornado\\ioloop.py\", line 690, in <lambda>\n    lambda f: self._run_callback(functools.partial(callback, future))\n  File \"C:\\Users\\Steph\\Anaconda3\\envs\\neuralnetworks\\lib\\site-packages\\tornado\\ioloop.py\", line 743, in _run_callback\n    ret = callback()\n  File \"C:\\Users\\Steph\\Anaconda3\\envs\\neuralnetworks\\lib\\site-packages\\tornado\\gen.py\", line 787, in inner\n    self.run()\n  File \"C:\\Users\\Steph\\Anaconda3\\envs\\neuralnetworks\\lib\\site-packages\\tornado\\gen.py\", line 748, in run\n    yielded = self.gen.send(value)\n  File \"C:\\Users\\Steph\\Anaconda3\\envs\\neuralnetworks\\lib\\site-packages\\ipykernel\\kernelbase.py\", line 361, in process_one\n    yield gen.maybe_future(dispatch(*args))\n  File \"C:\\Users\\Steph\\Anaconda3\\envs\\neuralnetworks\\lib\\site-packages\\tornado\\gen.py\", line 209, in wrapper\n    yielded = next(result)\n  File \"C:\\Users\\Steph\\Anaconda3\\envs\\neuralnetworks\\lib\\site-packages\\ipykernel\\kernelbase.py\", line 268, in dispatch_shell\n    yield gen.maybe_future(handler(stream, idents, msg))\n  File \"C:\\Users\\Steph\\Anaconda3\\envs\\neuralnetworks\\lib\\site-packages\\tornado\\gen.py\", line 209, in wrapper\n    yielded = next(result)\n  File \"C:\\Users\\Steph\\Anaconda3\\envs\\neuralnetworks\\lib\\site-packages\\ipykernel\\kernelbase.py\", line 541, in execute_request\n    user_expressions, allow_stdin,\n  File \"C:\\Users\\Steph\\Anaconda3\\envs\\neuralnetworks\\lib\\site-packages\\tornado\\gen.py\", line 209, in wrapper\n    yielded = next(result)\n  File \"C:\\Users\\Steph\\Anaconda3\\envs\\neuralnetworks\\lib\\site-packages\\ipykernel\\ipkernel.py\", line 300, in do_execute\n    res = shell.run_cell(code, store_history=store_history, silent=silent)\n  File \"C:\\Users\\Steph\\Anaconda3\\envs\\neuralnetworks\\lib\\site-packages\\ipykernel\\zmqshell.py\", line 536, in run_cell\n    return super(ZMQInteractiveShell, self).run_cell(*args, **kwargs)\n  File \"C:\\Users\\Steph\\Anaconda3\\envs\\neuralnetworks\\lib\\site-packages\\IPython\\core\\interactiveshell.py\", line 2858, in run_cell\n    raw_cell, store_history, silent, shell_futures)\n  File \"C:\\Users\\Steph\\Anaconda3\\envs\\neuralnetworks\\lib\\site-packages\\IPython\\core\\interactiveshell.py\", line 2886, in _run_cell\n    return runner(coro)\n  File \"C:\\Users\\Steph\\Anaconda3\\envs\\neuralnetworks\\lib\\site-packages\\IPython\\core\\async_helpers.py\", line 68, in _pseudo_sync_runner\n    coro.send(None)\n  File \"C:\\Users\\Steph\\Anaconda3\\envs\\neuralnetworks\\lib\\site-packages\\IPython\\core\\interactiveshell.py\", line 3063, in run_cell_async\n    interactivity=interactivity, compiler=compiler, result=result)\n  File \"C:\\Users\\Steph\\Anaconda3\\envs\\neuralnetworks\\lib\\site-packages\\IPython\\core\\interactiveshell.py\", line 3254, in run_ast_nodes\n    if (await self.run_code(code, result,  async_=asy)):\n  File \"C:\\Users\\Steph\\Anaconda3\\envs\\neuralnetworks\\lib\\site-packages\\IPython\\core\\interactiveshell.py\", line 3331, in run_code\n    exec(code_obj, self.user_global_ns, self.user_ns)\n  File \"<ipython-input-38-8428a35c6ae8>\", line 6, in <module>\n    class_weight=class_weight)\n  File \"C:\\Users\\Steph\\Anaconda3\\envs\\neuralnetworks\\lib\\site-packages\\tensorflow\\python\\keras\\engine\\training.py\", line 1761, in fit_generator\n    initial_epoch=initial_epoch)\n  File \"C:\\Users\\Steph\\Anaconda3\\envs\\neuralnetworks\\lib\\site-packages\\tensorflow\\python\\keras\\engine\\training_generator.py\", line 190, in fit_generator\n    x, y, sample_weight=sample_weight, class_weight=class_weight)\n  File \"C:\\Users\\Steph\\Anaconda3\\envs\\neuralnetworks\\lib\\site-packages\\tensorflow\\python\\keras\\engine\\training.py\", line 1536, in train_on_batch\n    self._make_train_function()\n  File \"C:\\Users\\Steph\\Anaconda3\\envs\\neuralnetworks\\lib\\site-packages\\tensorflow\\python\\keras\\engine\\training.py\", line 588, in _make_train_function\n    params=self._collected_trainable_weights, loss=self.total_loss)\n  File \"C:\\Users\\Steph\\Anaconda3\\envs\\neuralnetworks\\lib\\site-packages\\tensorflow\\python\\keras\\optimizers.py\", line 503, in get_updates\n    vs = [K.zeros(K.int_shape(p), dtype=K.dtype(p)) for p in params]\n  File \"C:\\Users\\Steph\\Anaconda3\\envs\\neuralnetworks\\lib\\site-packages\\tensorflow\\python\\keras\\optimizers.py\", line 503, in <listcomp>\n    vs = [K.zeros(K.int_shape(p), dtype=K.dtype(p)) for p in params]\n  File \"C:\\Users\\Steph\\Anaconda3\\envs\\neuralnetworks\\lib\\site-packages\\tensorflow\\python\\keras\\backend.py\", line 970, in zeros\n    return variable(v, dtype=dtype, name=name)\n  File \"C:\\Users\\Steph\\Anaconda3\\envs\\neuralnetworks\\lib\\site-packages\\tensorflow\\python\\keras\\backend.py\", line 647, in variable\n    constraint=constraint)\n  File \"C:\\Users\\Steph\\Anaconda3\\envs\\neuralnetworks\\lib\\site-packages\\tensorflow\\python\\ops\\resource_variable_ops.py\", line 312, in __init__\n    constraint=constraint)\n  File \"C:\\Users\\Steph\\Anaconda3\\envs\\neuralnetworks\\lib\\site-packages\\tensorflow\\python\\ops\\resource_variable_ops.py\", line 478, in _init_from_args\n    name=n))\n  File \"C:\\Users\\Steph\\Anaconda3\\envs\\neuralnetworks\\lib\\site-packages\\tensorflow\\python\\ops\\gen_resource_variable_ops.py\", line 156, in assign_variable_op\n    \"AssignVariableOp\", resource=resource, value=value, name=name)\n  File \"C:\\Users\\Steph\\Anaconda3\\envs\\neuralnetworks\\lib\\site-packages\\tensorflow\\python\\framework\\op_def_library.py\", line 787, in _apply_op_helper\n    op_def=op_def)\n  File \"C:\\Users\\Steph\\Anaconda3\\envs\\neuralnetworks\\lib\\site-packages\\tensorflow\\python\\framework\\ops.py\", line 3414, in create_op\n    op_def=op_def)\n  File \"C:\\Users\\Steph\\Anaconda3\\envs\\neuralnetworks\\lib\\site-packages\\tensorflow\\python\\framework\\ops.py\", line 1740, in __init__\n    self._traceback = self._graph._extract_stack()  # pylint: disable=protected-access\n\nResourceExhaustedError (see above for traceback): OOM when allocating tensor with shape[18432,1024] and type float on /job:localhost/replica:0/task:0/device:GPU:0 by allocator GPU_0_bfc\n\t [[Node: training_4/Adam/Variable_10/Assign = AssignVariableOp[_grappler_relax_allocator_constraints=true, dtype=DT_FLOAT, _device=\"/job:localhost/replica:0/task:0/device:GPU:0\"](training_4/Adam/Variable_10, training_4/Adam/zeros)]]\nHint: If you want to see a list of allocated tensors when OOM happens, add report_tensor_allocations_upon_oom to RunOptions for current allocation info.\n\n"
     ]
    }
   ],
   "source": [
    "inception_model.fit_generator(\n",
    "    train_generator, epochs=EPOCHS, steps_per_epoch=steps_train,\n",
    "    verbose=1, shuffle=True, \n",
    "    validation_data=validation_generator, \n",
    "    validation_steps=steps_validation,\n",
    "    class_weight=class_weight)"
   ]
  },
  {
   "cell_type": "code",
   "execution_count": null,
   "metadata": {},
   "outputs": [],
   "source": [
    "inception_model.save(\"models/inception.h5\")"
   ]
  },
  {
   "cell_type": "code",
   "execution_count": null,
   "metadata": {},
   "outputs": [],
   "source": [
    "from tensorflow.keras.applications.vgg16 import VGG19\n",
    "\n",
    "vgg19 = VGG19(\n",
    "    include_top=False,\n",
    "    weights='imagenet',\n",
    "    input_shape=(160, 160, 3)\n",
    ")"
   ]
  },
  {
   "cell_type": "code",
   "execution_count": null,
   "metadata": {},
   "outputs": [],
   "source": [
    "vgg19_model = build_imagenet_model(vgg19)\n",
    "\n",
    "for layer in vgg_model.layers[:len(vgg.layers)]:\n",
    "    layer.trainable = False"
   ]
  },
  {
   "cell_type": "code",
   "execution_count": 19,
   "metadata": {},
   "outputs": [
    {
     "ename": "ValueError",
     "evalue": "Input size must be at least 197x197; got `input_shape=(160, 160, 3)`",
     "output_type": "error",
     "traceback": [
      "\u001b[1;31m---------------------------------------------------------------------------\u001b[0m",
      "\u001b[1;31mValueError\u001b[0m                                Traceback (most recent call last)",
      "\u001b[1;32m<ipython-input-19-0b618ec63daa>\u001b[0m in \u001b[0;36m<module>\u001b[1;34m\u001b[0m\n\u001b[0;32m      4\u001b[0m     \u001b[0minclude_top\u001b[0m\u001b[1;33m=\u001b[0m\u001b[1;32mFalse\u001b[0m\u001b[1;33m,\u001b[0m\u001b[1;33m\u001b[0m\u001b[1;33m\u001b[0m\u001b[0m\n\u001b[0;32m      5\u001b[0m     \u001b[0mweights\u001b[0m\u001b[1;33m=\u001b[0m\u001b[1;34m'imagenet'\u001b[0m\u001b[1;33m,\u001b[0m\u001b[1;33m\u001b[0m\u001b[1;33m\u001b[0m\u001b[0m\n\u001b[1;32m----> 6\u001b[1;33m     \u001b[0minput_shape\u001b[0m\u001b[1;33m=\u001b[0m\u001b[1;33m(\u001b[0m\u001b[1;36m160\u001b[0m\u001b[1;33m,\u001b[0m \u001b[1;36m160\u001b[0m\u001b[1;33m,\u001b[0m \u001b[1;36m3\u001b[0m\u001b[1;33m)\u001b[0m\u001b[1;33m\u001b[0m\u001b[1;33m\u001b[0m\u001b[0m\n\u001b[0m\u001b[0;32m      7\u001b[0m )\n\u001b[0;32m      8\u001b[0m \u001b[1;33m\u001b[0m\u001b[0m\n",
      "\u001b[1;32m~\\Anaconda3\\envs\\neuralnetworks\\lib\\site-packages\\tensorflow\\python\\keras\\applications\\resnet50.py\u001b[0m in \u001b[0;36mResNet50\u001b[1;34m(include_top, weights, input_tensor, input_shape, pooling, classes)\u001b[0m\n\u001b[0;32m    224\u001b[0m       \u001b[0mdata_format\u001b[0m\u001b[1;33m=\u001b[0m\u001b[0mK\u001b[0m\u001b[1;33m.\u001b[0m\u001b[0mimage_data_format\u001b[0m\u001b[1;33m(\u001b[0m\u001b[1;33m)\u001b[0m\u001b[1;33m,\u001b[0m\u001b[1;33m\u001b[0m\u001b[1;33m\u001b[0m\u001b[0m\n\u001b[0;32m    225\u001b[0m       \u001b[0mrequire_flatten\u001b[0m\u001b[1;33m=\u001b[0m\u001b[0minclude_top\u001b[0m\u001b[1;33m,\u001b[0m\u001b[1;33m\u001b[0m\u001b[1;33m\u001b[0m\u001b[0m\n\u001b[1;32m--> 226\u001b[1;33m       weights=weights)\n\u001b[0m\u001b[0;32m    227\u001b[0m \u001b[1;33m\u001b[0m\u001b[0m\n\u001b[0;32m    228\u001b[0m   \u001b[1;32mif\u001b[0m \u001b[0minput_tensor\u001b[0m \u001b[1;32mis\u001b[0m \u001b[1;32mNone\u001b[0m\u001b[1;33m:\u001b[0m\u001b[1;33m\u001b[0m\u001b[1;33m\u001b[0m\u001b[0m\n",
      "\u001b[1;32m~\\Anaconda3\\envs\\neuralnetworks\\lib\\site-packages\\tensorflow\\python\\keras\\applications\\imagenet_utils.py\u001b[0m in \u001b[0;36m_obtain_input_shape\u001b[1;34m(input_shape, default_size, min_size, data_format, require_flatten, weights)\u001b[0m\n\u001b[0;32m    323\u001b[0m           raise ValueError('Input size must be at least ' + str(min_size) +\n\u001b[0;32m    324\u001b[0m                            \u001b[1;34m'x'\u001b[0m \u001b[1;33m+\u001b[0m \u001b[0mstr\u001b[0m\u001b[1;33m(\u001b[0m\u001b[0mmin_size\u001b[0m\u001b[1;33m)\u001b[0m \u001b[1;33m+\u001b[0m \u001b[1;34m'; got '\u001b[0m\u001b[1;33m\u001b[0m\u001b[1;33m\u001b[0m\u001b[0m\n\u001b[1;32m--> 325\u001b[1;33m                            '`input_shape=' + str(input_shape) + '`')\n\u001b[0m\u001b[0;32m    326\u001b[0m   \u001b[1;32melse\u001b[0m\u001b[1;33m:\u001b[0m\u001b[1;33m\u001b[0m\u001b[1;33m\u001b[0m\u001b[0m\n\u001b[0;32m    327\u001b[0m     \u001b[1;32mif\u001b[0m \u001b[0mrequire_flatten\u001b[0m\u001b[1;33m:\u001b[0m\u001b[1;33m\u001b[0m\u001b[1;33m\u001b[0m\u001b[0m\n",
      "\u001b[1;31mValueError\u001b[0m: Input size must be at least 197x197; got `input_shape=(160, 160, 3)`"
     ]
    }
   ],
   "source": [
    "from tensorflow.keras.applications.resnet50 import ResNet50\n",
    "\n",
    "resnet = ResNet50(\n",
    "    include_top=False,\n",
    "    weights='imagenet',\n",
    "    input_shape=(160, 160, 3)\n",
    ")\n",
    "\n",
    "resnet_model = build_imagenet_model(resnet)\n",
    "\n",
    "for layer in resnet_model.layers[:]:\n",
    "    layer.trainable = False"
   ]
  },
  {
   "cell_type": "code",
   "execution_count": null,
   "metadata": {},
   "outputs": [],
   "source": []
  },
  {
   "cell_type": "code",
   "execution_count": null,
   "metadata": {},
   "outputs": [],
   "source": []
  },
  {
   "cell_type": "markdown",
   "metadata": {},
   "source": [
    "### TimeDistributed CNN with LSTM"
   ]
  },
  {
   "cell_type": "code",
   "execution_count": null,
   "metadata": {},
   "outputs": [],
   "source": [
    "# 3D convolution will merge frames together, which may not be desirable.\n",
    "# https://medium.com/smileinnovation/how-to-work-with-time-distributed-data-in-a-neural-network-b8b39aa4ce00"
   ]
  },
  {
   "cell_type": "markdown",
   "metadata": {},
   "source": [
    "---"
   ]
  },
  {
   "cell_type": "code",
   "execution_count": 16,
   "metadata": {
    "scrolled": false
   },
   "outputs": [
    {
     "ename": "AttributeError",
     "evalue": "'tuple' object has no attribute 'as_list'",
     "output_type": "error",
     "traceback": [
      "\u001b[1;31m---------------------------------------------------------------------------\u001b[0m",
      "\u001b[1;31mAttributeError\u001b[0m                            Traceback (most recent call last)",
      "\u001b[1;32m<ipython-input-16-cc2ec0e27bdb>\u001b[0m in \u001b[0;36m<module>\u001b[1;34m\u001b[0m\n\u001b[0;32m      4\u001b[0m \u001b[1;33m\u001b[0m\u001b[0m\n\u001b[0;32m      5\u001b[0m model.add(\n\u001b[1;32m----> 6\u001b[1;33m     \u001b[0mTimeDistributed\u001b[0m\u001b[1;33m(\u001b[0m\u001b[0mvgg\u001b[0m\u001b[1;33m,\u001b[0m \u001b[0minput_shape\u001b[0m\u001b[1;33m=\u001b[0m\u001b[1;33m(\u001b[0m\u001b[1;36m30\u001b[0m\u001b[1;33m,\u001b[0m\u001b[1;36m160\u001b[0m\u001b[1;33m,\u001b[0m\u001b[1;36m160\u001b[0m\u001b[1;33m,\u001b[0m\u001b[1;36m3\u001b[0m\u001b[1;33m)\u001b[0m\u001b[1;33m)\u001b[0m\u001b[1;33m\u001b[0m\u001b[1;33m\u001b[0m\u001b[0m\n\u001b[0m\u001b[0;32m      7\u001b[0m )\n\u001b[0;32m      8\u001b[0m \u001b[1;33m\u001b[0m\u001b[0m\n",
      "\u001b[1;32m~\\Anaconda3\\envs\\neuralnetworks\\lib\\site-packages\\tensorflow\\python\\keras\\engine\\sequential.py\u001b[0m in \u001b[0;36madd\u001b[1;34m(self, layer)\u001b[0m\n\u001b[0;32m    161\u001b[0m           \u001b[1;31m# and create the node connecting the current layer\u001b[0m\u001b[1;33m\u001b[0m\u001b[1;33m\u001b[0m\u001b[1;33m\u001b[0m\u001b[0m\n\u001b[0;32m    162\u001b[0m           \u001b[1;31m# to the input layer we just created.\u001b[0m\u001b[1;33m\u001b[0m\u001b[1;33m\u001b[0m\u001b[1;33m\u001b[0m\u001b[0m\n\u001b[1;32m--> 163\u001b[1;33m           \u001b[0mlayer\u001b[0m\u001b[1;33m(\u001b[0m\u001b[0mx\u001b[0m\u001b[1;33m)\u001b[0m\u001b[1;33m\u001b[0m\u001b[1;33m\u001b[0m\u001b[0m\n\u001b[0m\u001b[0;32m    164\u001b[0m           \u001b[0mset_inputs\u001b[0m \u001b[1;33m=\u001b[0m \u001b[1;32mTrue\u001b[0m\u001b[1;33m\u001b[0m\u001b[1;33m\u001b[0m\u001b[0m\n\u001b[0;32m    165\u001b[0m         \u001b[1;32melse\u001b[0m\u001b[1;33m:\u001b[0m\u001b[1;33m\u001b[0m\u001b[1;33m\u001b[0m\u001b[0m\n",
      "\u001b[1;32m~\\Anaconda3\\envs\\neuralnetworks\\lib\\site-packages\\tensorflow\\python\\keras\\engine\\base_layer.py\u001b[0m in \u001b[0;36m__call__\u001b[1;34m(self, inputs, *args, **kwargs)\u001b[0m\n\u001b[0;32m    701\u001b[0m \u001b[1;33m\u001b[0m\u001b[0m\n\u001b[0;32m    702\u001b[0m       \u001b[1;32mif\u001b[0m \u001b[1;32mnot\u001b[0m \u001b[0min_deferred_mode\u001b[0m\u001b[1;33m:\u001b[0m\u001b[1;33m\u001b[0m\u001b[1;33m\u001b[0m\u001b[0m\n\u001b[1;32m--> 703\u001b[1;33m         \u001b[0moutputs\u001b[0m \u001b[1;33m=\u001b[0m \u001b[0mself\u001b[0m\u001b[1;33m.\u001b[0m\u001b[0mcall\u001b[0m\u001b[1;33m(\u001b[0m\u001b[0minputs\u001b[0m\u001b[1;33m,\u001b[0m \u001b[1;33m*\u001b[0m\u001b[0margs\u001b[0m\u001b[1;33m,\u001b[0m \u001b[1;33m**\u001b[0m\u001b[0mkwargs\u001b[0m\u001b[1;33m)\u001b[0m\u001b[1;33m\u001b[0m\u001b[1;33m\u001b[0m\u001b[0m\n\u001b[0m\u001b[0;32m    704\u001b[0m         \u001b[1;32mif\u001b[0m \u001b[0moutputs\u001b[0m \u001b[1;32mis\u001b[0m \u001b[1;32mNone\u001b[0m\u001b[1;33m:\u001b[0m\u001b[1;33m\u001b[0m\u001b[1;33m\u001b[0m\u001b[0m\n\u001b[0;32m    705\u001b[0m           raise ValueError('A layer\\'s `call` method should return a Tensor '\n",
      "\u001b[1;32m~\\Anaconda3\\envs\\neuralnetworks\\lib\\site-packages\\tensorflow\\python\\keras\\layers\\wrappers.py\u001b[0m in \u001b[0;36mcall\u001b[1;34m(self, inputs, training, mask)\u001b[0m\n\u001b[0;32m    223\u001b[0m         \u001b[0muses_learning_phase\u001b[0m \u001b[1;33m=\u001b[0m \u001b[0my\u001b[0m\u001b[1;33m.\u001b[0m\u001b[0m_uses_learning_phase\u001b[0m\u001b[1;33m\u001b[0m\u001b[1;33m\u001b[0m\u001b[0m\n\u001b[0;32m    224\u001b[0m       \u001b[1;31m# Shape: (num_samples, timesteps, ...)\u001b[0m\u001b[1;33m\u001b[0m\u001b[1;33m\u001b[0m\u001b[1;33m\u001b[0m\u001b[0m\n\u001b[1;32m--> 225\u001b[1;33m       \u001b[0moutput_shape\u001b[0m \u001b[1;33m=\u001b[0m \u001b[0mself\u001b[0m\u001b[1;33m.\u001b[0m\u001b[0mcompute_output_shape\u001b[0m\u001b[1;33m(\u001b[0m\u001b[0minput_shape\u001b[0m\u001b[1;33m)\u001b[0m\u001b[1;33m.\u001b[0m\u001b[0mas_list\u001b[0m\u001b[1;33m(\u001b[0m\u001b[1;33m)\u001b[0m\u001b[1;33m\u001b[0m\u001b[1;33m\u001b[0m\u001b[0m\n\u001b[0m\u001b[0;32m    226\u001b[0m       \u001b[0my\u001b[0m \u001b[1;33m=\u001b[0m \u001b[0marray_ops\u001b[0m\u001b[1;33m.\u001b[0m\u001b[0mreshape\u001b[0m\u001b[1;33m(\u001b[0m\u001b[0my\u001b[0m\u001b[1;33m,\u001b[0m \u001b[1;33m(\u001b[0m\u001b[1;33m-\u001b[0m\u001b[1;36m1\u001b[0m\u001b[1;33m,\u001b[0m \u001b[0minput_length\u001b[0m\u001b[1;33m)\u001b[0m \u001b[1;33m+\u001b[0m \u001b[0mtuple\u001b[0m\u001b[1;33m(\u001b[0m\u001b[0moutput_shape\u001b[0m\u001b[1;33m[\u001b[0m\u001b[1;36m2\u001b[0m\u001b[1;33m:\u001b[0m\u001b[1;33m]\u001b[0m\u001b[1;33m)\u001b[0m\u001b[1;33m)\u001b[0m\u001b[1;33m\u001b[0m\u001b[1;33m\u001b[0m\u001b[0m\n\u001b[0;32m    227\u001b[0m \u001b[1;33m\u001b[0m\u001b[0m\n",
      "\u001b[1;32m~\\Anaconda3\\envs\\neuralnetworks\\lib\\site-packages\\tensorflow\\python\\keras\\layers\\wrappers.py\u001b[0m in \u001b[0;36mcompute_output_shape\u001b[1;34m(self, input_shape)\u001b[0m\n\u001b[0;32m    177\u001b[0m                                                  input_shape[2:])\n\u001b[0;32m    178\u001b[0m     child_output_shape = self.layer.compute_output_shape(\n\u001b[1;32m--> 179\u001b[1;33m         child_input_shape).as_list()\n\u001b[0m\u001b[0;32m    180\u001b[0m     \u001b[0mtimesteps\u001b[0m \u001b[1;33m=\u001b[0m \u001b[0minput_shape\u001b[0m\u001b[1;33m[\u001b[0m\u001b[1;36m1\u001b[0m\u001b[1;33m]\u001b[0m\u001b[1;33m\u001b[0m\u001b[1;33m\u001b[0m\u001b[0m\n\u001b[0;32m    181\u001b[0m     return tensor_shape.TensorShape([child_output_shape[0], timesteps] +\n",
      "\u001b[1;31mAttributeError\u001b[0m: 'tuple' object has no attribute 'as_list'"
     ]
    }
   ],
   "source": [
    "num_classes = 2\n",
    "\n",
    "model = Sequential()\n",
    "\n",
    "model.add(\n",
    "    TimeDistributed(vgg)()\n",
    ")\n",
    "\n",
    "model.add(\n",
    "    TimeDistributed(\n",
    "        Flatten()\n",
    "    )\n",
    ")\n",
    "\n",
    "model.add(LSTM(256, activation='relu', return_sequences=False))\n",
    "\n",
    "model.add(Dense(64, activation='relu'))\n",
    "model.add(Dropout(.5))\n",
    "model.add(Dense(num_classes, activation='softmax'))"
   ]
  },
  {
   "cell_type": "code",
   "execution_count": 8,
   "metadata": {},
   "outputs": [],
   "source": [
    "model.compile(loss = 'sparse_categorical_crossentropy',\n",
    "              optimizer = 'Adam',\n",
    "              metrics = ['accuracy'])"
   ]
  },
  {
   "cell_type": "code",
   "execution_count": 15,
   "metadata": {},
   "outputs": [
    {
     "data": {
      "text/plain": [
       "[<tensorflow.python.keras.layers.wrappers.TimeDistributed at 0x188000634a8>,\n",
       " <tensorflow.python.keras.layers.wrappers.TimeDistributed at 0x18800063160>,\n",
       " <tensorflow.python.keras.layers.recurrent.LSTM at 0x18800063208>,\n",
       " <tensorflow.python.keras.layers.core.Dense at 0x18800063128>,\n",
       " <tensorflow.python.keras.layers.core.Dropout at 0x18800063710>,\n",
       " <tensorflow.python.keras.layers.core.Dense at 0x18800063898>]"
      ]
     },
     "execution_count": 15,
     "metadata": {},
     "output_type": "execute_result"
    }
   ],
   "source": [
    "model._layers"
   ]
  },
  {
   "cell_type": "code",
   "execution_count": null,
   "metadata": {},
   "outputs": [],
   "source": [
    "X_train = a\n",
    "y_train = np.array([0, 1])"
   ]
  },
  {
   "cell_type": "code",
   "execution_count": 15,
   "metadata": {},
   "outputs": [
    {
     "name": "stdout",
     "output_type": "stream",
     "text": [
      "Epoch 1/2\n",
      "2/2 [==============================] - 14s 7s/step - loss: 0.6726 - acc: 1.0000\n",
      "Epoch 2/2\n",
      "2/2 [==============================] - 9s 5s/step - loss: 1.1921e-07 - acc: 1.0000\n"
     ]
    },
    {
     "data": {
      "text/plain": [
       "<tensorflow.python.keras.callbacks.History at 0x2777329cdd8>"
      ]
     },
     "execution_count": 15,
     "metadata": {},
     "output_type": "execute_result"
    }
   ],
   "source": [
    "model.fit(X_train, y_train, epochs = 2, verbose = 1)"
   ]
  },
  {
   "cell_type": "code",
   "execution_count": 70,
   "metadata": {},
   "outputs": [],
   "source": [
    "sample_frame = imageio.imread(\"data_30/aakkdgsmvl/000.png\")\n",
    "sample_frame2 = imageio.imread(\"data_30/aassnaulhq/000.png\")"
   ]
  },
  {
   "cell_type": "code",
   "execution_count": 35,
   "metadata": {},
   "outputs": [
    {
     "name": "stdout",
     "output_type": "stream",
     "text": [
      "(2, 160, 160, 3)\n",
      "(2, 160, 160, 3)\n"
     ]
    }
   ],
   "source": [
    "a = np.array([sample_frame, sample_frame2])\n",
    "\n",
    "img_rows, img_cols = 160, 160\n",
    "\n",
    "# scale pixel values to be between 0 and 1\n",
    "a_scaled = a.astype('float32')\n",
    "a_scaled /= 255"
   ]
  },
  {
   "cell_type": "code",
   "execution_count": 44,
   "metadata": {},
   "outputs": [
    {
     "data": {
      "text/plain": [
       "(2,)"
      ]
     },
     "execution_count": 44,
     "metadata": {},
     "output_type": "execute_result"
    }
   ],
   "source": [
    "y_train.shape"
   ]
  },
  {
   "cell_type": "code",
   "execution_count": 24,
   "metadata": {},
   "outputs": [
    {
     "data": {
      "text/plain": [
       "(160, 160, 3)"
      ]
     },
     "execution_count": 24,
     "metadata": {},
     "output_type": "execute_result"
    }
   ],
   "source": [
    "a = np.zeros(shape=(160,160,3))\n",
    "a.shape"
   ]
  },
  {
   "cell_type": "code",
   "execution_count": 25,
   "metadata": {},
   "outputs": [
    {
     "data": {
      "image/png": "[encoded data removed]",
      "text/plain": [
       "<Figure size 432x288 with 1 Axes>"
      ]
     },
     "metadata": {
      "needs_background": "light"
     },
     "output_type": "display_data"
    }
   ],
   "source": [
    "plt.imshow(a);\n",
    "plt.show()"
   ]
  },
  {
   "cell_type": "code",
   "execution_count": 16,
   "metadata": {},
   "outputs": [],
   "source": [
    "from tensorflow.keras.applications import Xception"
   ]
  },
  {
   "cell_type": "code",
   "execution_count": 17,
   "metadata": {},
   "outputs": [
    {
     "name": "stdout",
     "output_type": "stream",
     "text": [
      "Downloading data from https://github.com/fchollet/deep-learning-models/releases/download/v0.4/xception_weights_tf_dim_ordering_tf_kernels.h5\n",
      "91889664/91884032 [==============================] - 9s 0us/step\n"
     ]
    }
   ],
   "source": [
    "model = Xception(weights='imagenet')"
   ]
  },
  {
   "cell_type": "code",
   "execution_count": 18,
   "metadata": {},
   "outputs": [
    {
     "data": {
      "text/plain": [
       "[<tensorflow.python.keras.engine.input_layer.InputLayer at 0x2770b689358>,\n",
       " <tensorflow.python.keras.layers.convolutional.Conv2D at 0x2770b689978>,\n",
       " <tensorflow.python.keras.layers.normalization.BatchNormalization at 0x2770b689940>,\n",
       " <tensorflow.python.keras.layers.core.Activation at 0x2770b689898>,\n",
       " <tensorflow.python.keras.layers.convolutional.Conv2D at 0x2770b78ed30>,\n",
       " <tensorflow.python.keras.layers.normalization.BatchNormalization at 0x2770b7baba8>,\n",
       " <tensorflow.python.keras.layers.core.Activation at 0x2770b6fc9b0>,\n",
       " <tensorflow.python.keras.layers.convolutional.SeparableConv2D at 0x2770b7fdf60>,\n",
       " <tensorflow.python.keras.layers.normalization.BatchNormalization at 0x2770b8a9240>,\n",
       " <tensorflow.python.keras.layers.core.Activation at 0x2770b8bceb8>,\n",
       " <tensorflow.python.keras.layers.convolutional.SeparableConv2D at 0x2770b97cfd0>,\n",
       " <tensorflow.python.keras.layers.normalization.BatchNormalization at 0x2770b9afda0>,\n",
       " <tensorflow.python.keras.layers.convolutional.Conv2D at 0x2770b7e4c88>,\n",
       " <tensorflow.python.keras.layers.pooling.MaxPooling2D at 0x2770b941a20>,\n",
       " <tensorflow.python.keras.layers.normalization.BatchNormalization at 0x2770b8616a0>,\n",
       " <tensorflow.python.keras.layers.merge.Add at 0x2770ba575c0>,\n",
       " <tensorflow.python.keras.layers.core.Activation at 0x2770bad7fd0>,\n",
       " <tensorflow.python.keras.layers.convolutional.SeparableConv2D at 0x2770bb025c0>,\n",
       " <tensorflow.python.keras.layers.normalization.BatchNormalization at 0x2770bb366a0>,\n",
       " <tensorflow.python.keras.layers.core.Activation at 0x2770bb148d0>,\n",
       " <tensorflow.python.keras.layers.convolutional.SeparableConv2D at 0x2770bbd0978>,\n",
       " <tensorflow.python.keras.layers.normalization.BatchNormalization at 0x2770bc57978>,\n",
       " <tensorflow.python.keras.layers.convolutional.Conv2D at 0x2770ba57da0>,\n",
       " <tensorflow.python.keras.layers.pooling.MaxPooling2D at 0x2770bbbe6d8>,\n",
       " <tensorflow.python.keras.layers.normalization.BatchNormalization at 0x2770bad7b00>,\n",
       " <tensorflow.python.keras.layers.merge.Add at 0x2770bc9a630>,\n",
       " <tensorflow.python.keras.layers.core.Activation at 0x2770bd4ffd0>,\n",
       " <tensorflow.python.keras.layers.convolutional.SeparableConv2D at 0x2770bd7e9e8>,\n",
       " <tensorflow.python.keras.layers.normalization.BatchNormalization at 0x2770bdede80>,\n",
       " <tensorflow.python.keras.layers.core.Activation at 0x2770bd89ba8>,\n",
       " <tensorflow.python.keras.layers.convolutional.SeparableConv2D at 0x2770be51470>,\n",
       " <tensorflow.python.keras.layers.normalization.BatchNormalization at 0x2770becc5c0>,\n",
       " <tensorflow.python.keras.layers.convolutional.Conv2D at 0x2770bc9a6d8>,\n",
       " <tensorflow.python.keras.layers.pooling.MaxPooling2D at 0x2770be6a1d0>,\n",
       " <tensorflow.python.keras.layers.normalization.BatchNormalization at 0x2770bcd5860>,\n",
       " <tensorflow.python.keras.layers.merge.Add at 0x27775cd0e80>,\n",
       " <tensorflow.python.keras.layers.core.Activation at 0x277749dbf98>,\n",
       " <tensorflow.python.keras.layers.convolutional.SeparableConv2D at 0x2770b60f2e8>,\n",
       " <tensorflow.python.keras.layers.normalization.BatchNormalization at 0x2770b69f048>,\n",
       " <tensorflow.python.keras.layers.core.Activation at 0x2770bfbcd30>,\n",
       " <tensorflow.python.keras.layers.convolutional.SeparableConv2D at 0x2770bfbcda0>,\n",
       " <tensorflow.python.keras.layers.normalization.BatchNormalization at 0x2770c0676d8>,\n",
       " <tensorflow.python.keras.layers.core.Activation at 0x2770c00b240>,\n",
       " <tensorflow.python.keras.layers.convolutional.SeparableConv2D at 0x2770c0ae1d0>,\n",
       " <tensorflow.python.keras.layers.normalization.BatchNormalization at 0x2770c0f6cf8>,\n",
       " <tensorflow.python.keras.layers.merge.Add at 0x2770c0cc470>,\n",
       " <tensorflow.python.keras.layers.core.Activation at 0x2770afd4ba8>,\n",
       " <tensorflow.python.keras.layers.convolutional.SeparableConv2D at 0x2770c184400>,\n",
       " <tensorflow.python.keras.layers.normalization.BatchNormalization at 0x2770c1c1470>,\n",
       " <tensorflow.python.keras.layers.core.Activation at 0x2770c1c1358>,\n",
       " <tensorflow.python.keras.layers.convolutional.SeparableConv2D at 0x2770c264198>,\n",
       " <tensorflow.python.keras.layers.normalization.BatchNormalization at 0x2770c2acc50>,\n",
       " <tensorflow.python.keras.layers.core.Activation at 0x2770c29f2e8>,\n",
       " <tensorflow.python.keras.layers.convolutional.SeparableConv2D at 0x2770d324dd8>,\n",
       " <tensorflow.python.keras.layers.normalization.BatchNormalization at 0x2770d35a940>,\n",
       " <tensorflow.python.keras.layers.merge.Add at 0x2770d34a2b0>,\n",
       " <tensorflow.python.keras.layers.core.Activation at 0x2770c198eb8>,\n",
       " <tensorflow.python.keras.layers.convolutional.SeparableConv2D at 0x2770d3edef0>,\n",
       " <tensorflow.python.keras.layers.normalization.BatchNormalization at 0x2770d3ccda0>,\n",
       " <tensorflow.python.keras.layers.core.Activation at 0x2770d4264e0>,\n",
       " <tensorflow.python.keras.layers.convolutional.SeparableConv2D at 0x2770d4ab860>,\n",
       " <tensorflow.python.keras.layers.normalization.BatchNormalization at 0x2770d51f9b0>,\n",
       " <tensorflow.python.keras.layers.core.Activation at 0x2770d507d30>,\n",
       " <tensorflow.python.keras.layers.convolutional.SeparableConv2D at 0x2770d5a5be0>,\n",
       " <tensorflow.python.keras.layers.normalization.BatchNormalization at 0x2770d5fbf60>,\n",
       " <tensorflow.python.keras.layers.merge.Add at 0x2770d587b00>,\n",
       " <tensorflow.python.keras.layers.core.Activation at 0x2770d402978>,\n",
       " <tensorflow.python.keras.layers.convolutional.SeparableConv2D at 0x2770d680c18>,\n",
       " <tensorflow.python.keras.layers.normalization.BatchNormalization at 0x2770d6a0438>,\n",
       " <tensorflow.python.keras.layers.core.Activation at 0x2770d6dcfd0>,\n",
       " <tensorflow.python.keras.layers.convolutional.SeparableConv2D at 0x2770d74df28>,\n",
       " <tensorflow.python.keras.layers.normalization.BatchNormalization at 0x2770d77ef60>,\n",
       " <tensorflow.python.keras.layers.core.Activation at 0x2770d77eb38>,\n",
       " <tensorflow.python.keras.layers.convolutional.SeparableConv2D at 0x2770d83cba8>,\n",
       " <tensorflow.python.keras.layers.normalization.BatchNormalization at 0x2770d858c18>,\n",
       " <tensorflow.python.keras.layers.merge.Add at 0x2770d877278>,\n",
       " <tensorflow.python.keras.layers.core.Activation at 0x2770d6678d0>,\n",
       " <tensorflow.python.keras.layers.convolutional.SeparableConv2D at 0x2770d9199e8>,\n",
       " <tensorflow.python.keras.layers.normalization.BatchNormalization at 0x2770d9b7cc0>,\n",
       " <tensorflow.python.keras.layers.core.Activation at 0x2770d9076a0>,\n",
       " <tensorflow.python.keras.layers.convolutional.SeparableConv2D at 0x2770da14be0>,\n",
       " <tensorflow.python.keras.layers.normalization.BatchNormalization at 0x2770da32f28>,\n",
       " <tensorflow.python.keras.layers.core.Activation at 0x2770d9e4358>,\n",
       " <tensorflow.python.keras.layers.convolutional.SeparableConv2D at 0x2770dad3940>,\n",
       " <tensorflow.python.keras.layers.normalization.BatchNormalization at 0x2770db74c18>,\n",
       " <tensorflow.python.keras.layers.merge.Add at 0x2770db2f6d8>,\n",
       " <tensorflow.python.keras.layers.core.Activation at 0x2770d93cc88>,\n",
       " <tensorflow.python.keras.layers.convolutional.SeparableConv2D at 0x2770dbb0390>,\n",
       " <tensorflow.python.keras.layers.normalization.BatchNormalization at 0x2770dc57048>,\n",
       " <tensorflow.python.keras.layers.core.Activation at 0x2770dbdad68>,\n",
       " <tensorflow.python.keras.layers.convolutional.SeparableConv2D at 0x2770dcb7ba8>,\n",
       " <tensorflow.python.keras.layers.normalization.BatchNormalization at 0x2770db0fa20>,\n",
       " <tensorflow.python.keras.layers.core.Activation at 0x2770dc82b38>,\n",
       " <tensorflow.python.keras.layers.convolutional.SeparableConv2D at 0x2770dd70f98>,\n",
       " <tensorflow.python.keras.layers.normalization.BatchNormalization at 0x2770dd9f908>,\n",
       " <tensorflow.python.keras.layers.merge.Add at 0x2770dd93cf8>,\n",
       " <tensorflow.python.keras.layers.core.Activation at 0x2770dbb0a90>,\n",
       " <tensorflow.python.keras.layers.convolutional.SeparableConv2D at 0x2770deccda0>,\n",
       " <tensorflow.python.keras.layers.normalization.BatchNormalization at 0x2770de6c9b0>,\n",
       " <tensorflow.python.keras.layers.core.Activation at 0x2770de6cd68>,\n",
       " <tensorflow.python.keras.layers.convolutional.SeparableConv2D at 0x2770df2a630>,\n",
       " <tensorflow.python.keras.layers.normalization.BatchNormalization at 0x2770dfaa6a0>,\n",
       " <tensorflow.python.keras.layers.core.Activation at 0x2770df4ebe0>,\n",
       " <tensorflow.python.keras.layers.convolutional.SeparableConv2D at 0x2770dff83c8>,\n",
       " <tensorflow.python.keras.layers.normalization.BatchNormalization at 0x2770e08b588>,\n",
       " <tensorflow.python.keras.layers.merge.Add at 0x2770e028208>,\n",
       " <tensorflow.python.keras.layers.core.Activation at 0x2770de3f7f0>,\n",
       " <tensorflow.python.keras.layers.convolutional.SeparableConv2D at 0x2770e11cb38>,\n",
       " <tensorflow.python.keras.layers.normalization.BatchNormalization at 0x2770e111748>,\n",
       " <tensorflow.python.keras.layers.core.Activation at 0x2770e111b00>,\n",
       " <tensorflow.python.keras.layers.convolutional.SeparableConv2D at 0x2770e1c8da0>,\n",
       " <tensorflow.python.keras.layers.normalization.BatchNormalization at 0x2770e2445c0>,\n",
       " <tensorflow.python.keras.layers.core.Activation at 0x2770e1e30b8>,\n",
       " <tensorflow.python.keras.layers.convolutional.SeparableConv2D at 0x2770e2a4e80>,\n",
       " <tensorflow.python.keras.layers.normalization.BatchNormalization at 0x2770e2d8a90>,\n",
       " <tensorflow.python.keras.layers.merge.Add at 0x2770e2cb3c8>,\n",
       " <tensorflow.python.keras.layers.core.Activation at 0x2770e3a8240>,\n",
       " <tensorflow.python.keras.layers.convolutional.SeparableConv2D at 0x2770e449e48>,\n",
       " <tensorflow.python.keras.layers.normalization.BatchNormalization at 0x2770e468240>,\n",
       " <tensorflow.python.keras.layers.core.Activation at 0x2770e428e10>,\n",
       " <tensorflow.python.keras.layers.convolutional.SeparableConv2D at 0x2770e5162e8>,\n",
       " <tensorflow.python.keras.layers.normalization.BatchNormalization at 0x2770e5a8550>,\n",
       " <tensorflow.python.keras.layers.convolutional.Conv2D at 0x2770e36cef0>,\n",
       " <tensorflow.python.keras.layers.pooling.MaxPooling2D at 0x2770e546198>,\n",
       " <tensorflow.python.keras.layers.normalization.BatchNormalization at 0x2770e3bd4a8>,\n",
       " <tensorflow.python.keras.layers.merge.Add at 0x2770e606da0>,\n",
       " <tensorflow.python.keras.layers.convolutional.SeparableConv2D at 0x2770e669e48>,\n",
       " <tensorflow.python.keras.layers.normalization.BatchNormalization at 0x2770e6a7c88>,\n",
       " <tensorflow.python.keras.layers.core.Activation at 0x2770e62e0f0>,\n",
       " <tensorflow.python.keras.layers.convolutional.SeparableConv2D at 0x2770e6d3e80>,\n",
       " <tensorflow.python.keras.layers.normalization.BatchNormalization at 0x2770e789be0>,\n",
       " <tensorflow.python.keras.layers.core.Activation at 0x2770e7046d8>,\n",
       " <tensorflow.python.keras.layers.pooling.GlobalAveragePooling2D at 0x2770e7e6240>,\n",
       " <tensorflow.python.keras.layers.core.Dense at 0x2770e7e6da0>]"
      ]
     },
     "execution_count": 18,
     "metadata": {},
     "output_type": "execute_result"
    }
   ],
   "source": [
    "model.layers"
   ]
  },
  {
   "cell_type": "code",
   "execution_count": 19,
   "metadata": {},
   "outputs": [
    {
     "data": {
      "text/plain": [
       "<tf.Tensor 'predictions/Softmax:0' shape=(?, 1000) dtype=float32>"
      ]
     },
     "execution_count": 19,
     "metadata": {},
     "output_type": "execute_result"
    }
   ],
   "source": [
    "model.layers[-1].output"
   ]
  }
 ],
 "metadata": {
  "kernelspec": {
   "display_name": "Python 3",
   "language": "python",
   "name": "python3"
  },
  "language_info": {
   "codemirror_mode": {
    "name": "ipython",
    "version": 3
   },
   "file_extension": ".py",
   "mimetype": "text/x-python",
   "name": "python",
   "nbconvert_exporter": "python",
   "pygments_lexer": "ipython3",
   "version": "3.7.0"
  }
 },
 "nbformat": 4,
 "nbformat_minor": 4
}
