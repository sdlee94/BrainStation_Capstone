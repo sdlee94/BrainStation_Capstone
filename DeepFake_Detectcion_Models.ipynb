{
  "nbformat": 4,
  "nbformat_minor": 0,
  "metadata": {
    "colab": {
      "name": "DeepFake Detectcion Models.ipynb",
      "provenance": [],
      "collapsed_sections": [],
      "machine_shape": "hm"
    },
    "kernelspec": {
      "name": "python3",
      "display_name": "Python 3"
    },
    "accelerator": "GPU"
  },
  "cells": [
    {
      "cell_type": "code",
      "metadata": {
        "id": "hFlbs2V7o_Ca",
        "colab_type": "code",
        "colab": {}
      },
      "source": [
        "import numpy as np\n",
        "import pandas as pd\n",
        "import matplotlib.pyplot as plt\n",
        "import os, imageio, pickle, h5py\n",
        "\n",
        "import warnings\n",
        "warnings.filterwarnings('ignore')\n",
        "\n",
        "plt.rcParams['figure.figsize'] = (10.0, 5.0)\n",
        "\n",
        "# change working directory\n",
        "os.chdir('/content/drive/My Drive/brainstation_capstone')"
      ],
      "execution_count": 0,
      "outputs": []
    },
    {
      "cell_type": "code",
      "metadata": {
        "id": "g18NgC_upYy1",
        "colab_type": "code",
        "colab": {}
      },
      "source": [
        "# use tensorflow version 2\n",
        "%tensorflow_version 2.x\n",
        "import tensorflow.keras.metrics as tf_metrics\n",
        "from tensorflow.keras.utils import Sequence\n",
        "from tensorflow.keras.constraints import MaxNorm\n",
        "from tensorflow.keras.optimizers import Adam\n",
        "from tensorflow.keras.callbacks import EarlyStopping, ModelCheckpoint\n",
        "from tensorflow.keras.models import Model, Sequential, load_model\n",
        "from tensorflow.keras.layers import Input, Dense, Dropout, BatchNormalization, \\\n",
        "MaxPooling2D, Conv2D, Flatten, TimeDistributed, LSTM, Masking"
      ],
      "execution_count": 0,
      "outputs": []
    },
    {
      "cell_type": "markdown",
      "metadata": {
        "id": "p8ndsBYI-QxW",
        "colab_type": "text"
      },
      "source": [
        "## Helper Functions"
      ]
    },
    {
      "cell_type": "markdown",
      "metadata": {
        "id": "3wUK6jGk9ih6",
        "colab_type": "text"
      },
      "source": [
        "The size of the data is too large to load into memory all at once. Thus, I need to make use of batch generators which allow for a subset of my data to be loaded at a time."
      ]
    },
    {
      "cell_type": "code",
      "metadata": {
        "id": "HbtPqHK-WUYM",
        "colab_type": "code",
        "colab": {}
      },
      "source": [
        "# Custom frame generator which inherits from the Sequence class from Keras\n",
        "# modified from https://stanford.edu/~shervine/blog/keras-how-to-generate-data-on-the-fly\n",
        "class frame_generator(Sequence):\n",
        "    'Generates data for Keras'\n",
        "    def __init__(self, filenames, labels, subset, batch_size=64, dim=(160,160), n_channels=3,\n",
        "                 n_classes=2, shuffle=True):\n",
        "        'Initialization'\n",
        "        self.filenames = filenames\n",
        "        self.labels = labels\n",
        "        self.subset = subset\n",
        "        self.batch_size = batch_size\n",
        "        self.dim = dim    \n",
        "        self.n_channels = n_channels\n",
        "        self.n_classes = n_classes\n",
        "        self.shuffle = shuffle\n",
        "        self.on_epoch_end()\n",
        "\n",
        "    def __len__(self):\n",
        "        'Denotes the number of batches per epoch'\n",
        "        return int(np.ceil(len(self.filenames) / self.batch_size))\n",
        "\n",
        "    def __getitem__(self, index):\n",
        "        'Generate one batch of data'\n",
        "        # Generate indexes of the batch\n",
        "        index_min = index*self.batch_size\n",
        "        # Adjust for smaller final batch\n",
        "        index_max = min(index_min + self.batch_size, len(self.filenames))\n",
        "        indexes = self.indexes[index_min:index_max]\n",
        "\n",
        "        # Find list of IDs\n",
        "        filenames_temp = [self.filenames[k] for k in indexes]\n",
        "        labels_temp = [self.labels[k] for k in indexes]\n",
        "\n",
        "        # Generate data\n",
        "        X, y = self.__data_generation(filenames_temp, labels_temp)\n",
        "\n",
        "        return X, y\n",
        "\n",
        "    def on_epoch_end(self):\n",
        "        'Updates indexes after each epoch'\n",
        "        self.indexes = np.arange(len(self.filenames))\n",
        "        if self.shuffle == True:\n",
        "            np.random.shuffle(self.indexes)\n",
        "\n",
        "    def __data_generation(self, filenames_temp, labels_temp):\n",
        "        'Generates data containing batch_size samples' # X : (n_samples, *dim, n_channels)\n",
        "        # Initialization\n",
        "        X = np.empty((self.batch_size, *self.dim, self.n_channels))\n",
        "        y = np.empty((self.batch_size), dtype=int)\n",
        "\n",
        "        # Generate data\n",
        "        for i, (ID, label) in enumerate(zip(filenames_temp, labels_temp)):\n",
        "            # Store sample\n",
        "            # print(ID)\n",
        "            X[i,] = self._load_image(ID)\n",
        "\n",
        "            # Store class\n",
        "            y[i] = labels_temp[i]\n",
        "\n",
        "        return X, y\n",
        "\n",
        "    def _load_image(self, filename):\n",
        "        file_path = self.subset + '/' + filename\n",
        "        try:\n",
        "            frame_path = file_path + '/' + os.listdir(file_path)[14]\n",
        "        #if 15th frame does not exist, use first frame\n",
        "        except IndexError:\n",
        "            frame_path = file_path + '/' + os.listdir(file_path)[0]\n",
        "        \n",
        "        frame = imageio.imread(frame_path)\n",
        "        frame = np.array(frame)\n",
        "        frame = frame.astype('float32')\n",
        "        frame /= 255\n",
        "        \n",
        "        return frame"
      ],
      "execution_count": 0,
      "outputs": []
    },
    {
      "cell_type": "code",
      "metadata": {
        "id": "cWXzTUus-mgQ",
        "colab_type": "code",
        "colab": {}
      },
      "source": [
        "# function to build a CNN from a pre-trained model (transfer learning)\n",
        "def build_imagenet_model(pretrained_model):\n",
        "\n",
        "    base_model_out = pretrained_model.output\n",
        "\n",
        "    # Add flatten layer\n",
        "    base_model_out = Flatten()(base_model_out)\n",
        "\n",
        "    # Add 2 dense layers with dropout and batch normalization\n",
        "    base_model_out = Dense(1024, activation='relu')(base_model_out) #kernel_constraint=MaxNorm(3)\n",
        "    base_model_out = Dropout(0.5)(base_model_out)\n",
        "    base_model_out = BatchNormalization()(base_model_out)\n",
        "    \n",
        "    base_model_out = Dense(512, activation='relu')(base_model_out) #kernel_constraint=MaxNorm(3)\n",
        "    base_model_out = Dropout(0.25)(base_model_out)\n",
        "    base_model_out = BatchNormalization()(base_model_out)\n",
        "\n",
        "    # Add final 1 neuron layer, using sigmoid activation for binary classification\n",
        "    preds = Dense(1, activation='sigmoid')(base_model_out)\n",
        "\n",
        "    # Instantiate final model and specify input and ouput\n",
        "    model = Model(inputs = pretrained_model.input, outputs = preds)\n",
        "    \n",
        "    return model"
      ],
      "execution_count": 0,
      "outputs": []
    },
    {
      "cell_type": "code",
      "metadata": {
        "id": "31BTX6VzDB0x",
        "colab_type": "code",
        "colab": {}
      },
      "source": [
        "# custom metric functions for recall, precision and f1 to obtain during training\n",
        "# code from https://datascience.stackexchange.com/questions/45165/how-to-get-accuracy-f1-precision-and-recall-for-a-keras-model\n",
        "from tensorflow.keras import backend as K\n",
        "\n",
        "def recall_m(y_true, y_pred):\n",
        "    true_positives = K.sum(K.round(K.clip(y_true * y_pred, 0, 1)))\n",
        "    possible_positives = K.sum(K.round(K.clip(y_true, 0, 1)))\n",
        "    recall = true_positives / (possible_positives + K.epsilon())\n",
        "    return recall\n",
        "\n",
        "def precision_m(y_true, y_pred):\n",
        "    true_positives = K.sum(K.round(K.clip(y_true * y_pred, 0, 1)))\n",
        "    predicted_positives = K.sum(K.round(K.clip(y_pred, 0, 1)))\n",
        "    precision = true_positives / (predicted_positives + K.epsilon())\n",
        "    return precision\n",
        "\n",
        "def f1_m(y_true, y_pred):\n",
        "    precision = precision_m(y_true, y_pred)\n",
        "    recall = recall_m(y_true, y_pred)\n",
        "    return 2*((precision*recall)/(precision+recall+K.epsilon()))"
      ],
      "execution_count": 0,
      "outputs": []
    },
    {
      "cell_type": "code",
      "metadata": {
        "id": "XbmvxAMW_MYn",
        "colab_type": "code",
        "colab": {}
      },
      "source": [
        "# function to plot loss and accuracy history for train and validation \n",
        "def plot_metrics(model_history):\n",
        "    train_losses = model_history['loss']\n",
        "    train_accuracies = model_history['binary_accuracy']\n",
        "\n",
        "    val_losses = model_history['val_loss']\n",
        "    val_accuracies = model_history['val_binary_accuracy']\n",
        "    \n",
        "    n_epochs = np.arange(1, len(train_losses) + 1)\n",
        "\n",
        "    plt.subplots(1,2)\n",
        "    \n",
        "    plt.subplot(1,2,1)\n",
        "    plt.plot(n_epochs, train_losses, c='darkorange', label='Train')\n",
        "    plt.plot(n_epochs, val_losses, c='darkblue', label='Validation')\n",
        "    plt.ylabel('Loss', fontdict={'size':16})\n",
        "    plt.xlabel('Epoch', fontdict={'size':16})\n",
        "    plt.axis(ymin=0)\n",
        "    #plt.legend()\n",
        "    \n",
        "    plt.subplot(1,2,2)\n",
        "    plt.plot(n_epochs, train_accuracies, c='darkorange', label='Train')\n",
        "    plt.plot(n_epochs, val_accuracies, c='darkblue', label='Validation')\n",
        "    plt.plot(n_epochs, [0.88]*len(train_losses), c='red', linestyle=\"--\", label='Proportion of Fakes')\n",
        "    plt.ylabel('Accuracy', fontdict={'size':16})\n",
        "    plt.xlabel('Epoch', fontdict={'size':16})\n",
        "    plt.axis(ymin=0, ymax=1)\n",
        "    \n",
        "    plt.tight_layout(pad=3)\n",
        "    plt.show()"
      ],
      "execution_count": 0,
      "outputs": []
    },
    {
      "cell_type": "code",
      "metadata": {
        "id": "2mTqgWvcBqCD",
        "colab_type": "code",
        "colab": {}
      },
      "source": [
        "from sklearn.metrics import roc_auc_score\n",
        "# function to obtain performance metrics based on predictions\n",
        "def get_metrics(pred):\n",
        "    hard_pred = np.where(pred<0.5, 0, 1).reshape(len(pred))\n",
        "    hard_pred = hard_pred[:len(test)]\n",
        "    df = pd.DataFrame({'true_labels':test['label'], 'pred_labels':hard_pred})\n",
        "\n",
        "    TP = sum((df['true_labels']==1) & (df['pred_labels']==1))\n",
        "    TN = sum((df['true_labels']==0) & (df['pred_labels']==0))\n",
        "    FP = sum((df['true_labels']==0) & (df['pred_labels']==1))\n",
        "    FN = sum((df['true_labels']==1) & (df['pred_labels']==0))\n",
        "\n",
        "    print(f'TP = {TP}, TN = {TN}, FP = {FP}, FN = {FN}\\n')\n",
        "\n",
        "    recall = TP / (TP + FN) # true positive rate\n",
        "    precision = TP / (TP + FP)\n",
        "    specificity = TN / (TN + FP) # true negative rate\n",
        "    roc = roc_auc_score(test['label'], hard_pred)\n",
        "    \n",
        "    print(f'recall={recall}, precision={precision}, specificity={specificity}, roc={roc}')"
      ],
      "execution_count": 0,
      "outputs": []
    },
    {
      "cell_type": "code",
      "metadata": {
        "id": "RXOhEul8_X9a",
        "colab_type": "code",
        "colab": {}
      },
      "source": [
        "# read in metadata files and remove 'data_30' from filenames\n",
        "metadata_train = pd.read_csv('metadata_train.csv')\n",
        "metadata_train['filename'] = metadata_train['filename'].str.replace('data_30/', '')\n",
        "\n",
        "metadata_validation = pd.read_csv('metadata_validation.csv')\n",
        "metadata_validation['filename'] = metadata_validation['filename'].str.replace('data_30/', '')\n",
        "\n",
        "metadata_test = pd.read_csv('metadata_test.csv')\n",
        "metadata_test['filename'] = metadata_test['filename'].str.replace('data_30/', '')\n",
        "\n",
        "metadata_train.to_csv('train.csv', index=False)\n",
        "metadata_validation.to_csv('validation.csv', index=False)\n",
        "metadata_test.to_csv('test.csv', index=False)"
      ],
      "execution_count": 0,
      "outputs": []
    },
    {
      "cell_type": "markdown",
      "metadata": {
        "id": "1zSMgZFicGFB",
        "colab_type": "text"
      },
      "source": [
        "# DeepFake Detection using 1 frame per video"
      ]
    },
    {
      "cell_type": "code",
      "metadata": {
        "id": "z2Tncjd6c1h0",
        "colab_type": "code",
        "colab": {}
      },
      "source": [
        "### Hyperparameters\n",
        "EPOCHS = 50\n",
        "BATCH_SIZE = 64\n",
        "\n",
        "# metadata files with clean filenames\n",
        "train = pd.read_csv('train.csv')\n",
        "validation = pd.read_csv('validation.csv')\n",
        "test = pd.read_csv('test.csv')\n",
        "\n",
        "# number of steps (number of batches) for each data split\n",
        "steps_train = int(np.ceil(train.shape[0]/BATCH_SIZE))\n",
        "steps_validation = int(np.ceil(validation.shape[0]/BATCH_SIZE))\n",
        "steps_test = int(np.ceil(test.shape[0]/BATCH_SIZE))"
      ],
      "execution_count": 0,
      "outputs": []
    },
    {
      "cell_type": "code",
      "metadata": {
        "id": "nyVBgCzZ2JLI",
        "colab_type": "code",
        "colab": {}
      },
      "source": [
        "# ADAM optimizers with varying learning rates and decays\n",
        "opt_1 = Adam(lr=0.1, decay = 0.01)\n",
        "opt_01 = Adam(lr=0.01, decay = 0.001)\n",
        "opt_001 = Adam(lr=0.001, decay = 0.0001)\n",
        "opt_0001 = Adam(lr=0.0001, decay = 0.00001)\n",
        "\n",
        "# early stopping if no improvement (at least 0.001) in validation loss is observed for 20 epochs\n",
        "es = EarlyStopping(monitor='val_loss', min_delta=0.001, mode='min', verbose=1, patience=20)"
      ],
      "execution_count": 0,
      "outputs": []
    },
    {
      "cell_type": "code",
      "metadata": {
        "id": "fMm8La4Mc4Ao",
        "colab_type": "code",
        "outputId": "9100a020-8649-4a19-d677-209188b4bbc1",
        "colab": {
          "base_uri": "https://localhost:8080/",
          "height": 34
        }
      },
      "source": [
        "# set weights for each class to reflect their imbalance\n",
        "real, fake = np.bincount(train['label'])\n",
        "total = real + fake\n",
        "\n",
        "weight_real = (1 / real)*(total)/2.0 \n",
        "weight_fake = (1 / fake)*(total)/2.0\n",
        "\n",
        "class_weight = {0: weight_real, 1: weight_fake}\n",
        "print(class_weight)"
      ],
      "execution_count": 0,
      "outputs": [
        {
          "output_type": "stream",
          "text": [
            "{0: 4.023775216138328, 1: 0.5709466366796156}\n"
          ],
          "name": "stdout"
        }
      ]
    },
    {
      "cell_type": "code",
      "metadata": {
        "id": "OBC90OyceVV9",
        "colab_type": "code",
        "colab": {}
      },
      "source": [
        "# setup up batch generators for each data split\n",
        "train_x, train_y = np.asarray(train['filename']), np.asarray(train['label'])\n",
        "validation_x, validation_y = np.asarray(validation['filename']), np.asarray(validation['label'])\n",
        "test_x, test_y = np.asarray(test['filename']), np.asarray(test['label'])\n",
        "\n",
        "train_frame_gen = frame_generator(train_x, train_y, 'train', batch_size=BATCH_SIZE)\n",
        "validation_frame_gen = frame_generator(validation_x, validation_y, 'validation', batch_size=BATCH_SIZE, shuffle=False)\n",
        "test_frame_gen = frame_generator(test_x, test_y, 'test', batch_size=BATCH_SIZE, shuffle=False)"
      ],
      "execution_count": 0,
      "outputs": []
    },
    {
      "cell_type": "markdown",
      "metadata": {
        "id": "O8CVNhnIL1Zb",
        "colab_type": "text"
      },
      "source": [
        "## Simple CNN from Scratch"
      ]
    },
    {
      "cell_type": "code",
      "metadata": {
        "id": "uNDu9qySM7u3",
        "colab_type": "code",
        "outputId": "8fe3dd6a-18b6-4ef4-f8d9-b11e1a0d18f6",
        "colab": {
          "base_uri": "https://localhost:8080/",
          "height": 1000
        }
      },
      "source": [
        "# Build relatively simple CNN architechture\n",
        "my_cnn = Sequential([\n",
        "    # 3 sets of 2x conv2d and max pooling\n",
        "    # set padding='same' to retain information at image boundaries\n",
        "    Conv2D(32, kernel_size=(3, 3), activation='relu', padding = 'same', input_shape=(160, 160, 3)),\n",
        "    Conv2D(32, kernel_size=(3, 3), activation='relu', padding = 'same'),\n",
        "    MaxPooling2D(pool_size=(2, 2)),\n",
        "    Conv2D(64, kernel_size=(3, 3), activation='relu', padding = 'same'),\n",
        "    Conv2D(64, kernel_size=(3, 3), activation='relu', padding = 'same'),\n",
        "    MaxPooling2D(pool_size=(2, 2)),\n",
        "    Conv2D(128, kernel_size=(3, 3), activation='relu', padding = 'same'),\n",
        "    Conv2D(128, kernel_size=(3, 3), activation='relu', padding = 'same'),\n",
        "    MaxPooling2D(pool_size=(2, 2)),\n",
        "    Flatten(),\n",
        "\n",
        "    # 2x dense layers to learn from features extracted from convolutions\n",
        "    Dense(128, activation='relu'),\n",
        "    Dense(256, activation='relu'),\n",
        "\n",
        "    # output layer of 1 neuron with sigmoid activation for binary classification\n",
        "    Dense(1, activation='sigmoid')\n",
        "])\n",
        "\n",
        "# compile model\n",
        "my_cnn.compile(loss='binary_crossentropy', \n",
        "               optimizer=opt_001, \n",
        "               metrics=['binary_accuracy', recall_m, precision_m, f1_m])\n",
        "\n",
        "# save best model weights throughout training based on validation loss\n",
        "mc = ModelCheckpoint('models/my_cnn.001.h5', monitor='val_loss', mode='min', verbose=1, save_best_only=True)\n",
        "\n",
        "# train model\n",
        "my_cnn_history = my_cnn.fit(\n",
        "    train_generator, epochs=EPOCHS, steps_per_epoch=steps_train,\n",
        "    verbose=1, shuffle=True, \n",
        "    validation_data=validation_generator,\n",
        "    validation_steps=steps_validation,\n",
        "    max_queue_size=50,\n",
        "    class_weight=class_weight,\n",
        "    callbacks=[es, mc])"
      ],
      "execution_count": 0,
      "outputs": [
        {
          "output_type": "stream",
          "text": [
            "WARNING:tensorflow:sample_weight modes were coerced from\n",
            "  ...\n",
            "    to  \n",
            "  ['...']\n",
            "WARNING:tensorflow:sample_weight modes were coerced from\n",
            "  ...\n",
            "    to  \n",
            "  ['...']\n",
            "Train for 87 steps, validate for 21 steps\n",
            "Epoch 1/50\n",
            "86/87 [============================>.] - ETA: 0s - loss: 0.6797 - binary_accuracy: 0.6268\n",
            "Epoch 00001: val_loss improved from inf to 0.66521, saving model to models/my_cnn.001.h5\n",
            "87/87 [==============================] - 36s 408ms/step - loss: 0.6814 - binary_accuracy: 0.6218 - val_loss: 0.6652 - val_binary_accuracy: 0.1101\n",
            "Epoch 2/50\n",
            "86/87 [============================>.] - ETA: 0s - loss: 0.6882 - binary_accuracy: 0.4537\n",
            "Epoch 00002: val_loss did not improve from 0.66521\n",
            "87/87 [==============================] - 36s 409ms/step - loss: 0.6898 - binary_accuracy: 0.4506 - val_loss: 0.6711 - val_binary_accuracy: 0.1101\n",
            "Epoch 3/50\n",
            "86/87 [============================>.] - ETA: 0s - loss: 0.6962 - binary_accuracy: 0.3309\n",
            "Epoch 00003: val_loss did not improve from 0.66521\n",
            "87/87 [==============================] - 32s 373ms/step - loss: 0.6978 - binary_accuracy: 0.3292 - val_loss: 0.6656 - val_binary_accuracy: 0.1101\n",
            "Epoch 4/50\n",
            "86/87 [============================>.] - ETA: 0s - loss: 0.6864 - binary_accuracy: 0.4290\n",
            "Epoch 00004: val_loss did not improve from 0.66521\n",
            "87/87 [==============================] - 34s 391ms/step - loss: 0.6880 - binary_accuracy: 0.4262 - val_loss: 0.6730 - val_binary_accuracy: 0.1101\n",
            "Epoch 5/50\n",
            "86/87 [============================>.] - ETA: 0s - loss: 0.6815 - binary_accuracy: 0.4313\n",
            "Epoch 00005: val_loss did not improve from 0.66521\n",
            "87/87 [==============================] - 31s 361ms/step - loss: 0.6830 - binary_accuracy: 0.4285 - val_loss: 0.7141 - val_binary_accuracy: 0.1101\n",
            "Epoch 6/50\n",
            "86/87 [============================>.] - ETA: 0s - loss: 0.6933 - binary_accuracy: 0.3158\n",
            "Epoch 00006: val_loss did not improve from 0.66521\n",
            "87/87 [==============================] - 33s 378ms/step - loss: 0.6947 - binary_accuracy: 0.3143 - val_loss: 0.6832 - val_binary_accuracy: 0.1101\n",
            "Epoch 7/50\n",
            "86/87 [============================>.] - ETA: 0s - loss: 0.6938 - binary_accuracy: 0.2900\n",
            "Epoch 00007: val_loss did not improve from 0.66521\n",
            "87/87 [==============================] - 33s 384ms/step - loss: 0.6951 - binary_accuracy: 0.2888 - val_loss: 0.6996 - val_binary_accuracy: 0.1101\n",
            "Epoch 8/50\n",
            "86/87 [============================>.] - ETA: 0s - loss: 0.6930 - binary_accuracy: 0.3550\n",
            "Epoch 00008: val_loss did not improve from 0.66521\n",
            "87/87 [==============================] - 42s 484ms/step - loss: 0.6946 - binary_accuracy: 0.3531 - val_loss: 0.6664 - val_binary_accuracy: 0.1101\n",
            "Epoch 9/50\n",
            "86/87 [============================>.] - ETA: 0s - loss: 0.6926 - binary_accuracy: 0.4288\n",
            "Epoch 00009: val_loss improved from 0.66521 to 0.66066, saving model to models/my_cnn.001.h5\n",
            "87/87 [==============================] - 37s 427ms/step - loss: 0.6943 - binary_accuracy: 0.4260 - val_loss: 0.6607 - val_binary_accuracy: 0.1101\n",
            "Epoch 10/50\n",
            "86/87 [============================>.] - ETA: 0s - loss: 0.6909 - binary_accuracy: 0.3866\n",
            "Epoch 00010: val_loss improved from 0.66066 to 0.65991, saving model to models/my_cnn.001.h5\n",
            "87/87 [==============================] - 37s 422ms/step - loss: 0.6926 - binary_accuracy: 0.3843 - val_loss: 0.6599 - val_binary_accuracy: 0.1101\n",
            "Epoch 11/50\n",
            "86/87 [============================>.] - ETA: 0s - loss: 0.6903 - binary_accuracy: 0.4953\n",
            "Epoch 00011: val_loss improved from 0.65991 to 0.65978, saving model to models/my_cnn.001.h5\n",
            "87/87 [==============================] - 39s 449ms/step - loss: 0.6921 - binary_accuracy: 0.4917 - val_loss: 0.6598 - val_binary_accuracy: 0.1101\n",
            "Epoch 12/50\n",
            "86/87 [============================>.] - ETA: 0s - loss: 0.6902 - binary_accuracy: 0.5509\n",
            "Epoch 00012: val_loss improved from 0.65978 to 0.65970, saving model to models/my_cnn.001.h5\n",
            "87/87 [==============================] - 40s 455ms/step - loss: 0.6920 - binary_accuracy: 0.5467 - val_loss: 0.6597 - val_binary_accuracy: 0.1101\n",
            "Epoch 13/50\n",
            "86/87 [============================>.] - ETA: 0s - loss: 0.6902 - binary_accuracy: 0.5709\n",
            "Epoch 00013: val_loss improved from 0.65970 to 0.65965, saving model to models/my_cnn.001.h5\n",
            "87/87 [==============================] - 36s 415ms/step - loss: 0.6920 - binary_accuracy: 0.5665 - val_loss: 0.6597 - val_binary_accuracy: 0.1101\n",
            "Epoch 14/50\n",
            "86/87 [============================>.] - ETA: 0s - loss: 0.6902 - binary_accuracy: 0.5887\n",
            "Epoch 00014: val_loss improved from 0.65965 to 0.65960, saving model to models/my_cnn.001.h5\n",
            "87/87 [==============================] - 34s 395ms/step - loss: 0.6919 - binary_accuracy: 0.5841 - val_loss: 0.6596 - val_binary_accuracy: 0.1101\n",
            "Epoch 15/50\n",
            "86/87 [============================>.] - ETA: 0s - loss: 0.6901 - binary_accuracy: 0.6047\n",
            "Epoch 00015: val_loss improved from 0.65960 to 0.65958, saving model to models/my_cnn.001.h5\n",
            "87/87 [==============================] - 40s 461ms/step - loss: 0.6919 - binary_accuracy: 0.5999 - val_loss: 0.6596 - val_binary_accuracy: 0.1101\n",
            "Epoch 16/50\n",
            "86/87 [============================>.] - ETA: 0s - loss: 0.6901 - binary_accuracy: 0.6112\n",
            "Epoch 00016: val_loss improved from 0.65958 to 0.65953, saving model to models/my_cnn.001.h5\n",
            "87/87 [==============================] - 41s 472ms/step - loss: 0.6919 - binary_accuracy: 0.6063 - val_loss: 0.6595 - val_binary_accuracy: 0.1101\n",
            "Epoch 17/50\n",
            "86/87 [============================>.] - ETA: 0s - loss: 0.6901 - binary_accuracy: 0.6210\n",
            "Epoch 00017: val_loss improved from 0.65953 to 0.65952, saving model to models/my_cnn.001.h5\n",
            "87/87 [==============================] - 38s 441ms/step - loss: 0.6918 - binary_accuracy: 0.6160 - val_loss: 0.6595 - val_binary_accuracy: 0.1101\n",
            "Epoch 18/50\n",
            "86/87 [============================>.] - ETA: 0s - loss: 0.6901 - binary_accuracy: 0.6210\n",
            "Epoch 00018: val_loss improved from 0.65952 to 0.65951, saving model to models/my_cnn.001.h5\n",
            "87/87 [==============================] - 37s 424ms/step - loss: 0.6918 - binary_accuracy: 0.6160 - val_loss: 0.6595 - val_binary_accuracy: 0.1101\n",
            "Epoch 19/50\n",
            "86/87 [============================>.] - ETA: 0s - loss: 0.6901 - binary_accuracy: 0.6283\n",
            "Epoch 00019: val_loss improved from 0.65951 to 0.65950, saving model to models/my_cnn.001.h5\n",
            "87/87 [==============================] - 45s 519ms/step - loss: 0.6918 - binary_accuracy: 0.6232 - val_loss: 0.6595 - val_binary_accuracy: 0.1101\n",
            "Epoch 20/50\n",
            "86/87 [============================>.] - ETA: 0s - loss: 0.6901 - binary_accuracy: 0.6283\n",
            "Epoch 00020: val_loss improved from 0.65950 to 0.65948, saving model to models/my_cnn.001.h5\n",
            "87/87 [==============================] - 38s 439ms/step - loss: 0.6918 - binary_accuracy: 0.6232 - val_loss: 0.6595 - val_binary_accuracy: 0.1101\n",
            "Epoch 21/50\n",
            "86/87 [============================>.] - ETA: 0s - loss: 0.6900 - binary_accuracy: 0.6381\n",
            "Epoch 00021: val_loss improved from 0.65948 to 0.65947, saving model to models/my_cnn.001.h5\n",
            "87/87 [==============================] - 37s 429ms/step - loss: 0.6918 - binary_accuracy: 0.6329 - val_loss: 0.6595 - val_binary_accuracy: 0.1101\n",
            "Epoch 22/50\n",
            "86/87 [============================>.] - ETA: 0s - loss: 0.6900 - binary_accuracy: 0.6381\n",
            "Epoch 00022: val_loss improved from 0.65947 to 0.65947, saving model to models/my_cnn.001.h5\n",
            "87/87 [==============================] - 37s 426ms/step - loss: 0.6918 - binary_accuracy: 0.6329 - val_loss: 0.6595 - val_binary_accuracy: 0.1101\n",
            "Epoch 23/50\n",
            "86/87 [============================>.] - ETA: 0s - loss: 0.6900 - binary_accuracy: 0.6446\n",
            "Epoch 00023: val_loss improved from 0.65947 to 0.65946, saving model to models/my_cnn.001.h5\n",
            "87/87 [==============================] - 39s 450ms/step - loss: 0.6918 - binary_accuracy: 0.6394 - val_loss: 0.6595 - val_binary_accuracy: 0.1101\n",
            "Epoch 24/50\n",
            "86/87 [============================>.] - ETA: 0s - loss: 0.6900 - binary_accuracy: 0.6446\n",
            "Epoch 00024: val_loss improved from 0.65946 to 0.65945, saving model to models/my_cnn.001.h5\n",
            "87/87 [==============================] - 39s 446ms/step - loss: 0.6918 - binary_accuracy: 0.6394 - val_loss: 0.6595 - val_binary_accuracy: 0.1101\n",
            "Epoch 25/50\n",
            "86/87 [============================>.] - ETA: 0s - loss: 0.6900 - binary_accuracy: 0.6446\n",
            "Epoch 00025: val_loss improved from 0.65945 to 0.65945, saving model to models/my_cnn.001.h5\n",
            "87/87 [==============================] - 36s 408ms/step - loss: 0.6918 - binary_accuracy: 0.6394 - val_loss: 0.6594 - val_binary_accuracy: 0.1101\n",
            "Epoch 26/50\n",
            "86/87 [============================>.] - ETA: 0s - loss: 0.6900 - binary_accuracy: 0.6446\n",
            "Epoch 00026: val_loss improved from 0.65945 to 0.65944, saving model to models/my_cnn.001.h5\n",
            "87/87 [==============================] - 39s 445ms/step - loss: 0.6918 - binary_accuracy: 0.6394 - val_loss: 0.6594 - val_binary_accuracy: 0.1101\n",
            "Epoch 27/50\n",
            "86/87 [============================>.] - ETA: 0s - loss: 0.6900 - binary_accuracy: 0.6548\n",
            "Epoch 00027: val_loss improved from 0.65944 to 0.65943, saving model to models/my_cnn.001.h5\n",
            "87/87 [==============================] - 42s 480ms/step - loss: 0.6918 - binary_accuracy: 0.6494 - val_loss: 0.6594 - val_binary_accuracy: 0.1101\n",
            "Epoch 28/50\n",
            "86/87 [============================>.] - ETA: 0s - loss: 0.6900 - binary_accuracy: 0.6548\n",
            "Epoch 00028: val_loss improved from 0.65943 to 0.65943, saving model to models/my_cnn.001.h5\n",
            "87/87 [==============================] - 36s 416ms/step - loss: 0.6918 - binary_accuracy: 0.6494 - val_loss: 0.6594 - val_binary_accuracy: 0.1101\n",
            "Epoch 29/50\n",
            "86/87 [============================>.] - ETA: 0s - loss: 0.6900 - binary_accuracy: 0.6632\n",
            "Epoch 00029: val_loss improved from 0.65943 to 0.65942, saving model to models/my_cnn.001.h5\n",
            "87/87 [==============================] - 36s 409ms/step - loss: 0.6917 - binary_accuracy: 0.6577 - val_loss: 0.6594 - val_binary_accuracy: 0.1101\n",
            "Epoch 30/50\n",
            "86/87 [============================>.] - ETA: 0s - loss: 0.6900 - binary_accuracy: 0.6632\n",
            "Epoch 00030: val_loss improved from 0.65942 to 0.65942, saving model to models/my_cnn.001.h5\n",
            "87/87 [==============================] - 38s 442ms/step - loss: 0.6917 - binary_accuracy: 0.6577 - val_loss: 0.6594 - val_binary_accuracy: 0.1101\n",
            "Epoch 31/50\n",
            "86/87 [============================>.] - ETA: 0s - loss: 0.6900 - binary_accuracy: 0.6632\n",
            "Epoch 00031: val_loss improved from 0.65942 to 0.65941, saving model to models/my_cnn.001.h5\n",
            "87/87 [==============================] - 36s 412ms/step - loss: 0.6917 - binary_accuracy: 0.6577 - val_loss: 0.6594 - val_binary_accuracy: 0.1101\n",
            "Epoch 32/50\n",
            "86/87 [============================>.] - ETA: 0s - loss: 0.6900 - binary_accuracy: 0.6737\n",
            "Epoch 00032: val_loss improved from 0.65941 to 0.65940, saving model to models/my_cnn.001.h5\n",
            "87/87 [==============================] - 41s 472ms/step - loss: 0.6917 - binary_accuracy: 0.6681 - val_loss: 0.6594 - val_binary_accuracy: 0.1101\n",
            "Epoch 33/50\n",
            "86/87 [============================>.] - ETA: 0s - loss: 0.6900 - binary_accuracy: 0.6737\n",
            "Epoch 00033: val_loss improved from 0.65940 to 0.65940, saving model to models/my_cnn.001.h5\n",
            "87/87 [==============================] - 40s 458ms/step - loss: 0.6917 - binary_accuracy: 0.6681 - val_loss: 0.6594 - val_binary_accuracy: 0.1101\n",
            "Epoch 34/50\n",
            "86/87 [============================>.] - ETA: 0s - loss: 0.6900 - binary_accuracy: 0.6820\n",
            "Epoch 00034: val_loss improved from 0.65940 to 0.65939, saving model to models/my_cnn.001.h5\n",
            "87/87 [==============================] - 39s 452ms/step - loss: 0.6917 - binary_accuracy: 0.6764 - val_loss: 0.6594 - val_binary_accuracy: 0.1101\n",
            "Epoch 35/50\n",
            "86/87 [============================>.] - ETA: 0s - loss: 0.6903 - binary_accuracy: 0.7555\n",
            "Epoch 00035: val_loss improved from 0.65939 to 0.65925, saving model to models/my_cnn.001.h5\n",
            "87/87 [==============================] - 38s 434ms/step - loss: 0.6920 - binary_accuracy: 0.7561 - val_loss: 0.6592 - val_binary_accuracy: 0.8899\n",
            "Epoch 36/50\n",
            "86/87 [============================>.] - ETA: 0s - loss: 0.6900 - binary_accuracy: 0.8772\n",
            "Epoch 00036: val_loss did not improve from 0.65925\n",
            "87/87 [==============================] - 34s 385ms/step - loss: 0.6918 - binary_accuracy: 0.8764 - val_loss: 0.6593 - val_binary_accuracy: 0.8899\n",
            "Epoch 37/50\n",
            "86/87 [============================>.] - ETA: 0s - loss: 0.6900 - binary_accuracy: 0.7871\n",
            "Epoch 00037: val_loss did not improve from 0.65925\n",
            "87/87 [==============================] - 33s 377ms/step - loss: 0.6918 - binary_accuracy: 0.7874 - val_loss: 0.6593 - val_binary_accuracy: 0.1101\n",
            "Epoch 38/50\n",
            "86/87 [============================>.] - ETA: 0s - loss: 0.6900 - binary_accuracy: 0.7555\n",
            "Epoch 00038: val_loss did not improve from 0.65925\n",
            "87/87 [==============================] - 40s 463ms/step - loss: 0.6918 - binary_accuracy: 0.7489 - val_loss: 0.6593 - val_binary_accuracy: 0.1101\n",
            "Epoch 39/50\n",
            "86/87 [============================>.] - ETA: 0s - loss: 0.6900 - binary_accuracy: 0.7453\n",
            "Epoch 00039: val_loss did not improve from 0.65925\n",
            "87/87 [==============================] - 37s 421ms/step - loss: 0.6917 - binary_accuracy: 0.7389 - val_loss: 0.6593 - val_binary_accuracy: 0.1101\n",
            "Epoch 40/50\n",
            "86/87 [============================>.] - ETA: 0s - loss: 0.6900 - binary_accuracy: 0.7271\n",
            "Epoch 00040: val_loss did not improve from 0.65925\n",
            "87/87 [==============================] - 38s 436ms/step - loss: 0.6917 - binary_accuracy: 0.7209 - val_loss: 0.6594 - val_binary_accuracy: 0.1101\n",
            "Epoch 41/50\n",
            "86/87 [============================>.] - ETA: 0s - loss: 0.6900 - binary_accuracy: 0.7169\n",
            "Epoch 00041: val_loss did not improve from 0.65925\n",
            "87/87 [==============================] - 38s 441ms/step - loss: 0.6917 - binary_accuracy: 0.7108 - val_loss: 0.6594 - val_binary_accuracy: 0.1101\n",
            "Epoch 42/50\n",
            "86/87 [============================>.] - ETA: 0s - loss: 0.6900 - binary_accuracy: 0.7093\n",
            "Epoch 00042: val_loss did not improve from 0.65925\n",
            "87/87 [==============================] - 40s 456ms/step - loss: 0.6917 - binary_accuracy: 0.7033 - val_loss: 0.6594 - val_binary_accuracy: 0.1101\n",
            "Epoch 43/50\n",
            "86/87 [============================>.] - ETA: 0s - loss: 0.6900 - binary_accuracy: 0.7093\n",
            "Epoch 00043: val_loss did not improve from 0.65925\n",
            "87/87 [==============================] - 36s 409ms/step - loss: 0.6917 - binary_accuracy: 0.7033 - val_loss: 0.6594 - val_binary_accuracy: 0.1101\n",
            "Epoch 44/50\n",
            "86/87 [============================>.] - ETA: 0s - loss: 0.6899 - binary_accuracy: 0.7093\n",
            "Epoch 00044: val_loss did not improve from 0.65925\n",
            "87/87 [==============================] - 39s 446ms/step - loss: 0.6917 - binary_accuracy: 0.7033 - val_loss: 0.6594 - val_binary_accuracy: 0.1101\n",
            "Epoch 45/50\n",
            "86/87 [============================>.] - ETA: 0s - loss: 0.6899 - binary_accuracy: 0.7093\n",
            "Epoch 00045: val_loss did not improve from 0.65925\n",
            "87/87 [==============================] - 39s 445ms/step - loss: 0.6917 - binary_accuracy: 0.7033 - val_loss: 0.6594 - val_binary_accuracy: 0.1101\n",
            "Epoch 46/50\n",
            "86/87 [============================>.] - ETA: 0s - loss: 0.6899 - binary_accuracy: 0.7093\n",
            "Epoch 00046: val_loss did not improve from 0.65925\n",
            "87/87 [==============================] - 37s 425ms/step - loss: 0.6917 - binary_accuracy: 0.7033 - val_loss: 0.6594 - val_binary_accuracy: 0.1101\n",
            "Epoch 47/50\n",
            "86/87 [============================>.] - ETA: 0s - loss: 0.6899 - binary_accuracy: 0.7093\n",
            "Epoch 00047: val_loss did not improve from 0.65925\n",
            "87/87 [==============================] - 34s 394ms/step - loss: 0.6917 - binary_accuracy: 0.7033 - val_loss: 0.6594 - val_binary_accuracy: 0.1101\n",
            "Epoch 48/50\n",
            "86/87 [============================>.] - ETA: 0s - loss: 0.6899 - binary_accuracy: 0.7093\n",
            "Epoch 00048: val_loss did not improve from 0.65925\n",
            "87/87 [==============================] - 34s 390ms/step - loss: 0.6917 - binary_accuracy: 0.7033 - val_loss: 0.6594 - val_binary_accuracy: 0.1101\n",
            "Epoch 49/50\n",
            "86/87 [============================>.] - ETA: 0s - loss: 0.6899 - binary_accuracy: 0.7093\n",
            "Epoch 00049: val_loss did not improve from 0.65925\n",
            "87/87 [==============================] - 39s 453ms/step - loss: 0.6917 - binary_accuracy: 0.7033 - val_loss: 0.6594 - val_binary_accuracy: 0.1101\n",
            "Epoch 50/50\n",
            "86/87 [============================>.] - ETA: 0s - loss: 0.6899 - binary_accuracy: 0.7093\n",
            "Epoch 00050: val_loss did not improve from 0.65925\n",
            "87/87 [==============================] - 35s 398ms/step - loss: 0.6917 - binary_accuracy: 0.7033 - val_loss: 0.6594 - val_binary_accuracy: 0.1101\n"
          ],
          "name": "stdout"
        }
      ]
    },
    {
      "cell_type": "code",
      "metadata": {
        "id": "-CW9pwEpOJqW",
        "colab_type": "code",
        "outputId": "10bfab0d-40e7-4a02-e30c-beba3d6fc534",
        "colab": {
          "base_uri": "https://localhost:8080/",
          "height": 331
        }
      },
      "source": [
        "plot_metrics(my_cnn_history.history)"
      ],
      "execution_count": 0,
      "outputs": [
        {
          "output_type": "display_data",
          "data": {
            "image/png": "[encoded data removed]",
            "text/plain": [
              "<Figure size 720x360 with 2 Axes>"
            ]
          },
          "metadata": {
            "tags": []
          }
        }
      ]
    },
    {
      "cell_type": "code",
      "metadata": {
        "id": "n8gfVtfby1vw",
        "colab_type": "code",
        "outputId": "09f0d7df-0a99-41cc-dd6a-f21b51441eab",
        "colab": {
          "base_uri": "https://localhost:8080/",
          "height": 34
        }
      },
      "source": [
        "# get predictions on test set\n",
        "test_pred = my_cnn.predict(test_frame_gen,\n",
        "    verbose = 1,\n",
        "    max_queue_size = 50)"
      ],
      "execution_count": 0,
      "outputs": [
        {
          "output_type": "stream",
          "text": [
            "25/25 [==============================] - 66s 3s/step\n"
          ],
          "name": "stdout"
        }
      ]
    },
    {
      "cell_type": "code",
      "metadata": {
        "id": "6LJJhcK7MTdu",
        "colab_type": "code",
        "outputId": "d304dfc1-c7ed-4555-e241-ff36db98e0a9",
        "colab": {
          "base_uri": "https://localhost:8080/",
          "height": 70
        }
      },
      "source": [
        "# evaluate model based on recall, precision, specificity and ROC AUC\n",
        "get_metrics(test_pred)"
      ],
      "execution_count": 0,
      "outputs": [
        {
          "output_type": "stream",
          "text": [
            "TP = 1375, TN = 0, FP = 193, FN = 0\n",
            "\n",
            "recall = 1.0, precision = 0.8769132653061225, specificity = 0.0\n"
          ],
          "name": "stdout"
        }
      ]
    },
    {
      "cell_type": "code",
      "metadata": {
        "id": "vJCJU7ULvkGV",
        "colab_type": "code",
        "colab": {
          "base_uri": "https://localhost:8080/",
          "height": 34
        },
        "outputId": "fb5f7952-5ba5-41a7-bb35-0500eb418efa"
      },
      "source": [
        "# run this to load saved model\n",
        "custom_objects = {'recall_m':None, 'precision_m':None, 'f1_m':None}\n",
        "\n",
        "my_cnn = load_model('models/my_cnn.001.h5', custom_objects=custom_objects)"
      ],
      "execution_count": 13,
      "outputs": [
        {
          "output_type": "stream",
          "text": [
            "WARNING:tensorflow:Error in loading the saved optimizer state. As a result, your model is starting with a freshly initialized optimizer.\n"
          ],
          "name": "stdout"
        }
      ]
    },
    {
      "cell_type": "markdown",
      "metadata": {
        "id": "NkUg2EclEwB4",
        "colab_type": "text"
      },
      "source": [
        ""
      ]
    },
    {
      "cell_type": "markdown",
      "metadata": {
        "id": "CHXvFSXnMDgx",
        "colab_type": "text"
      },
      "source": [
        "## Transfer Learning with ImageNet Models"
      ]
    },
    {
      "cell_type": "markdown",
      "metadata": {
        "id": "qEM1RAs4F7iM",
        "colab_type": "text"
      },
      "source": [
        "#### Xception"
      ]
    },
    {
      "cell_type": "code",
      "metadata": {
        "id": "_G7joa9qeZ0V",
        "colab_type": "code",
        "colab": {}
      },
      "source": [
        "# import Xception model, apply transfer learning and fit on training data\n",
        "from tensorflow.keras.applications.xception import Xception\n",
        "\n",
        "xception = Xception(\n",
        "    include_top=False,\n",
        "    weights='imagenet',\n",
        "    input_shape=(160, 160, 3)\n",
        ")\n",
        "\n",
        "xception_model = build_imagenet_model(xception)\n",
        "\n",
        "for layer in xception_model.layers[:len(xception.layers)]:\n",
        "    layer.trainable = False\n",
        "\n",
        "xception_model.compile(\n",
        "    loss='binary_crossentropy', optimizer=opt_001, \n",
        "    metrics=['binary_accuracy', recall_m, precision_m, f1_m])\n",
        "\n",
        "mc = ModelCheckpoint('models/xception_model.001.h5', monitor='val_loss', mode='min', verbose=1, save_best_only=True)\n",
        "\n",
        "xception_history = xception_model.fit( \n",
        "    train_generator, epochs=EPOCHS, steps_per_epoch=steps_train,\n",
        "    verbose=1, shuffle=True, \n",
        "    validation_data=validation_generator, \n",
        "    validation_steps=steps_validation,\n",
        "    class_weight=class_weight,\n",
        "    max_queue_size=50,\n",
        "    callbacks=[es, mc])"
      ],
      "execution_count": 0,
      "outputs": []
    },
    {
      "cell_type": "code",
      "metadata": {
        "id": "ARtzZCx545eZ",
        "colab_type": "code",
        "colab": {}
      },
      "source": [
        "# to save training history, can write training dictionary as a pickle file\n",
        "with open('histories/xception_history', 'wb') as filter:\n",
        "        pickle.dump(xception_history.history, f)\n",
        "\n",
        "# load saved training history\n",
        "with open('histories/xception_history', 'rb') as f:\n",
        "    xception_model_history = pickle.load(f)"
      ],
      "execution_count": 0,
      "outputs": []
    },
    {
      "cell_type": "code",
      "metadata": {
        "id": "hUkKelWCJKKk",
        "colab_type": "code",
        "outputId": "26b1add5-1d2f-43d8-a547-04dc55e97b9b",
        "colab": {
          "base_uri": "https://localhost:8080/",
          "height": 331
        }
      },
      "source": [
        "plot_metrics(xception_model_history)"
      ],
      "execution_count": 0,
      "outputs": [
        {
          "output_type": "display_data",
          "data": {
            "image/png": "[encoded data removed]",
            "text/plain": [
              "<Figure size 720x360 with 2 Axes>"
            ]
          },
          "metadata": {
            "tags": []
          }
        }
      ]
    },
    {
      "cell_type": "code",
      "metadata": {
        "id": "AbB3vn_bLno8",
        "colab_type": "code",
        "outputId": "bc96023f-4306-4a45-8880-6900d5f2b403",
        "colab": {
          "base_uri": "https://localhost:8080/",
          "height": 34
        }
      },
      "source": [
        "xception_test_pred = xception_model.predict(\n",
        "    test_frame_gen,\n",
        "    verbose = 1,\n",
        "    max_queue_size = 50)"
      ],
      "execution_count": 0,
      "outputs": [
        {
          "output_type": "stream",
          "text": [
            "25/25 [==============================] - 167s 7s/step\n"
          ],
          "name": "stdout"
        }
      ]
    },
    {
      "cell_type": "code",
      "metadata": {
        "id": "zeVD_77QHRXY",
        "colab_type": "code",
        "outputId": "b1307edb-ee31-49cd-ced7-89b4cca18e06",
        "colab": {
          "base_uri": "https://localhost:8080/",
          "height": 70
        }
      },
      "source": [
        "get_metrics(xception_test_pred)"
      ],
      "execution_count": 0,
      "outputs": [
        {
          "output_type": "stream",
          "text": [
            "TP = 359, TN = 150, FP = 43, FN = 1016\n",
            "\n",
            "recall = 0.2610909090909091, precision = 0.8930348258706468, specificity = 0.7772020725388601\n"
          ],
          "name": "stdout"
        }
      ]
    },
    {
      "cell_type": "markdown",
      "metadata": {
        "id": "61GWMpoyGA92",
        "colab_type": "text"
      },
      "source": [
        "#### VGG16"
      ]
    },
    {
      "cell_type": "markdown",
      "metadata": {
        "id": "GVOLpnEAGAa1",
        "colab_type": "text"
      },
      "source": [
        ""
      ]
    },
    {
      "cell_type": "code",
      "metadata": {
        "id": "AMxJb-hFDVkB",
        "colab_type": "code",
        "outputId": "0e8eaa7b-bd06-44a6-ef9f-e20cd2a4e434",
        "colab": {
          "base_uri": "https://localhost:8080/",
          "height": 72
        }
      },
      "source": [
        "from tensorflow.keras.applications.vgg16 import VGG16\n",
        "\n",
        "vgg16 = VGG16(\n",
        "    include_top=False,\n",
        "    weights='imagenet',\n",
        "    input_shape=(160, 160, 3)\n",
        ")\n",
        "\n",
        "vgg16_model = build_imagenet_model(vgg16)\n",
        "\n",
        "for layer in vgg16_model.layers[:len(vgg16.layers)]:\n",
        "    layer.trainable = False\n",
        "\n",
        "vgg16_model.compile(\n",
        "    loss='binary_crossentropy', \n",
        "    optimizer=opt_001, \n",
        "    metrics=['binary_accuracy', recall_m, precision_m, f1_m])\n",
        "\n",
        "mc = ModelCheckpoint('vgg16_model.01.h5', monitor='val_loss', mode='min', verbose=1, save_best_only=True)\n",
        "\n",
        "vgg16_history = vgg16_model.fit(\n",
        "    train_generator, epochs=EPOCHS, steps_per_epoch=steps_train, verbose=1, \n",
        "    validation_data=validation_generator,\n",
        "    validation_steps=steps_validation,\n",
        "    class_weight=class_weight,\n",
        "    max_queue_size=50,\n",
        "    callbacks=[es, mc])"
      ],
      "execution_count": 0,
      "outputs": [
        {
          "output_type": "stream",
          "text": [
            "Downloading data from https://github.com/fchollet/deep-learning-models/releases/download/v0.1/vgg16_weights_tf_dim_ordering_tf_kernels_notop.h5\n",
            "58892288/58889256 [==============================] - 2s 0us/step\n"
          ],
          "name": "stdout"
        }
      ]
    },
    {
      "cell_type": "code",
      "metadata": {
        "id": "-XMqNbHGxpG2",
        "colab_type": "code",
        "colab": {}
      },
      "source": [
        "with open('histories/vgg16_history', 'wb') as file_pi:\n",
        "    pickle.dump(vgg16_history.history, file_pi)"
      ],
      "execution_count": 0,
      "outputs": []
    },
    {
      "cell_type": "code",
      "metadata": {
        "id": "CgsrArDApxbm",
        "colab_type": "code",
        "outputId": "8d366b2f-a3a2-48d2-e12d-dace3f5d2afd",
        "colab": {
          "base_uri": "https://localhost:8080/",
          "height": 331
        }
      },
      "source": [
        "with open('histories/vgg16_history', 'rb') as f:\n",
        "    vgg16_history = pickle.load(f)\n",
        "\n",
        "plot_metrics(vgg16_history)"
      ],
      "execution_count": 0,
      "outputs": [
        {
          "output_type": "display_data",
          "data": {
            "image/png": "[encoded data removed]",
            "text/plain": [
              "<Figure size 720x360 with 2 Axes>"
            ]
          },
          "metadata": {
            "tags": []
          }
        }
      ]
    },
    {
      "cell_type": "code",
      "metadata": {
        "colab_type": "code",
        "id": "ovMGfG15GcbN",
        "colab": {}
      },
      "source": [
        "# custom function to obtain auc metric\n",
        "# https://stackoverflow.com/questions/41032551/how-to-compute-receiving-operating-characteristic-roc-and-auc-in-keras\n",
        "def auc(y_true, y_pred):\n",
        "    auc = K.sum(K.round(K.clip(y_true * y_pred, 0, 1)))\n",
        "    return auc"
      ],
      "execution_count": 0,
      "outputs": []
    },
    {
      "cell_type": "code",
      "metadata": {
        "id": "oShyMLhlZP2h",
        "colab_type": "code",
        "outputId": "f7f6f2f4-399f-4cb4-8c94-d9c09944e448",
        "colab": {
          "base_uri": "https://localhost:8080/",
          "height": 34
        }
      },
      "source": [
        "# this was a model built on top of VGG16 trained on my local machine\n",
        "vgg16_model = load_model('models/vgg16.h5', custom_objects={'auc':auc})\n",
        "vgg16_test_pred = vgg16_model.predict(test_frame_gen,\n",
        "    verbose = 1,\n",
        "    max_queue_size = 50)"
      ],
      "execution_count": 0,
      "outputs": [
        {
          "output_type": "stream",
          "text": [
            "25/25 [==============================] - 409s 16s/step\n"
          ],
          "name": "stdout"
        }
      ]
    },
    {
      "cell_type": "code",
      "metadata": {
        "id": "98oENExXbcnP",
        "colab_type": "code",
        "outputId": "51ae75d8-49c9-49fb-f060-91196e328936",
        "colab": {
          "base_uri": "https://localhost:8080/",
          "height": 70
        }
      },
      "source": [
        "get_metrics(vgg16_test_pred)"
      ],
      "execution_count": 0,
      "outputs": [
        {
          "output_type": "stream",
          "text": [
            "TP = 809, TN = 159, FP = 34, FN = 566\n",
            "\n",
            "recall = 0.5883636363636363, precision = 0.9596678529062871, specificity = 0.8238341968911918\n"
          ],
          "name": "stdout"
        }
      ]
    },
    {
      "cell_type": "markdown",
      "metadata": {
        "id": "xYDZ_dzbGgaY",
        "colab_type": "text"
      },
      "source": [
        "#### InceptionV3"
      ]
    },
    {
      "cell_type": "code",
      "metadata": {
        "id": "GZjWUvOmV7Gk",
        "colab_type": "code",
        "outputId": "e466abe8-5b60-4fa6-f5b5-03408af909c0",
        "colab": {
          "base_uri": "https://localhost:8080/",
          "height": 72
        }
      },
      "source": [
        "from tensorflow.keras.applications.inception_v3 import InceptionV3\n",
        "\n",
        "inception = InceptionV3(\n",
        "    include_top=False,\n",
        "    weights='imagenet',\n",
        "    input_shape=(160, 160, 3)\n",
        ")\n",
        "\n",
        "inception_model = build_imagenet_model(inception)\n",
        "\n",
        "for layer in inception_model.layers[:len(inception.layers)]:\n",
        "    layer.trainable = False\n",
        "\n",
        "inception_model.compile(\n",
        "    loss='binary_crossentropy', optimizer=opt_01,\n",
        "    metrics=['binary_accuracy', recall_m, precision_m, f1_m])\n",
        "\n",
        "mc = ModelCheckpoint('inception_model.01.h5', monitor='val_loss', mode='min', verbose=1, save_best_only=True)\n",
        "\n",
        "inception_history = inception_model.fit(\n",
        "    train_generator, epochs=EPOCHS, steps_per_epoch=steps_train, verbose=1, \n",
        "    validation_data=validation_generator,\n",
        "    validation_steps=steps_validation,\n",
        "    class_weight=class_weight,\n",
        "    max_queue_size=50,\n",
        "    callbacks=[es, mc])"
      ],
      "execution_count": 0,
      "outputs": [
        {
          "output_type": "stream",
          "text": [
            "Downloading data from https://github.com/fchollet/deep-learning-models/releases/download/v0.5/inception_v3_weights_tf_dim_ordering_tf_kernels_notop.h5\n",
            "87916544/87910968 [==============================] - 3s 0us/step\n"
          ],
          "name": "stdout"
        }
      ]
    },
    {
      "cell_type": "code",
      "metadata": {
        "id": "Csf87FOUWQr_",
        "colab_type": "code",
        "colab": {}
      },
      "source": [
        "with open('histories/inception_history', 'wb') as file_pi:\n",
        "    pickle.dump(inception_history.history, file_pi)"
      ],
      "execution_count": 0,
      "outputs": []
    },
    {
      "cell_type": "code",
      "metadata": {
        "id": "1yOas-xIGwh7",
        "colab_type": "code",
        "colab": {
          "base_uri": "https://localhost:8080/",
          "height": 331
        },
        "outputId": "484ce4a9-4048-45a6-9bf1-7e7c91ed63d0"
      },
      "source": [
        "with open('histories/inception_history', 'rb') as f:\n",
        "    inception_history = pickle.load(f)\n",
        "\n",
        "plot_metrics(inception_history)"
      ],
      "execution_count": 19,
      "outputs": [
        {
          "output_type": "display_data",
          "data": {
            "image/png": "[encoded data removed]",
            "text/plain": [
              "<Figure size 720x360 with 2 Axes>"
            ]
          },
          "metadata": {
            "tags": []
          }
        }
      ]
    },
    {
      "cell_type": "code",
      "metadata": {
        "id": "twPameybebUC",
        "colab_type": "code",
        "outputId": "f3dd8e68-6156-4383-bf20-1236b9228175",
        "colab": {
          "base_uri": "https://localhost:8080/",
          "height": 52
        }
      },
      "source": [
        "inception_test_pred = inception_model.predict(\n",
        "    test_frame_gen,\n",
        "    verbose = 1,\n",
        "    max_queue_size = 50)"
      ],
      "execution_count": 0,
      "outputs": [
        {
          "output_type": "stream",
          "text": [
            "WARNING:tensorflow:Error in loading the saved optimizer state. As a result, your model is starting with a freshly initialized optimizer.\n",
            "25/25 [==============================] - 78s 3s/step\n"
          ],
          "name": "stdout"
        }
      ]
    },
    {
      "cell_type": "code",
      "metadata": {
        "id": "SPukteZ-epX4",
        "colab_type": "code",
        "outputId": "040336c4-3f82-4701-b25b-40068ff6ec7a",
        "colab": {
          "base_uri": "https://localhost:8080/",
          "height": 70
        }
      },
      "source": [
        "get_metrics(inception_test_pred)"
      ],
      "execution_count": 0,
      "outputs": [
        {
          "output_type": "stream",
          "text": [
            "TP = 947, TN = 66, FP = 127, FN = 428\n",
            "\n",
            "recall = 0.6887272727272727, precision = 0.8817504655493482, specificity = 0.34196891191709844\n"
          ],
          "name": "stdout"
        }
      ]
    },
    {
      "cell_type": "markdown",
      "metadata": {
        "id": "rTLacTFSHJYM",
        "colab_type": "text"
      },
      "source": [
        "#### ResNet50V2"
      ]
    },
    {
      "cell_type": "code",
      "metadata": {
        "id": "jxXGsoLV2jZi",
        "colab_type": "code",
        "outputId": "f6b87f3c-edbe-47db-af70-1e40bb519f67",
        "colab": {
          "base_uri": "https://localhost:8080/",
          "height": 72
        }
      },
      "source": [
        "from tensorflow.keras.applications.resnet_v2 import ResNet50V2\n",
        "\n",
        "resnet50v2 = ResNet50V2(\n",
        "    include_top=False,\n",
        "    weights='imagenet',\n",
        "    input_shape=(160, 160, 3)\n",
        ")\n",
        "\n",
        "resnet50v2_model = build_imagenet_model(resnet50v2)\n",
        "\n",
        "for layer in resnet50v2_model.layers[:len(resnet50v2.layers)]:\n",
        "    layer.trainable = False\n",
        "\n",
        "resnet50v2_model.compile(\n",
        "    loss='binary_crossentropy', optimizer=opt_01, \n",
        "    metrics=['binary_accuracy', recall_m, precision_m, f1_m])\n",
        "\n",
        "mc = ModelCheckpoint('models/resnet50v2_model.01.h5', monitor='val_loss', mode='min', verbose=1, save_best_only=True)\n",
        "\n",
        "resnet50v2_history = resnet50v2_model.fit(\n",
        "    train_generator, epochs=EPOCHS, steps_per_epoch=steps_train, verbose=1, \n",
        "    validation_data=validation_generator,\n",
        "    validation_steps=steps_validation,\n",
        "    class_weight=class_weight,\n",
        "    max_queue_size=50,\n",
        "    callbacks=[es, mc])"
      ],
      "execution_count": 0,
      "outputs": [
        {
          "output_type": "stream",
          "text": [
            "Downloading data from https://github.com/keras-team/keras-applications/releases/download/resnet/resnet50v2_weights_tf_dim_ordering_tf_kernels_notop.h5\n",
            "94674944/94668760 [==============================] - 3s 0us/step\n"
          ],
          "name": "stdout"
        }
      ]
    },
    {
      "cell_type": "code",
      "metadata": {
        "id": "BWML0lB85JrJ",
        "colab_type": "code",
        "colab": {}
      },
      "source": [
        "with open('histories/resnet50v2_history', 'wb') as file_pi:\n",
        "    pickle.dump(resnet50v2_history.history, file_pi)"
      ],
      "execution_count": 0,
      "outputs": []
    },
    {
      "cell_type": "code",
      "metadata": {
        "id": "tHHpV4RYoDF0",
        "colab_type": "code",
        "outputId": "cf22d9c9-887a-4a22-94e1-5ddc91fa4461",
        "colab": {
          "base_uri": "https://localhost:8080/",
          "height": 52
        }
      },
      "source": [
        "resnet50v2_test_pred = resnet50v2_model.predict(\n",
        "    test_frame_gen,\n",
        "    verbose = 1,\n",
        "    max_queue_size = 50)"
      ],
      "execution_count": 0,
      "outputs": [
        {
          "output_type": "stream",
          "text": [
            "WARNING:tensorflow:Error in loading the saved optimizer state. As a result, your model is starting with a freshly initialized optimizer.\n",
            "25/25 [==============================] - 113s 5s/step\n"
          ],
          "name": "stdout"
        }
      ]
    },
    {
      "cell_type": "code",
      "metadata": {
        "id": "vLbkvhPpoSA5",
        "colab_type": "code",
        "outputId": "52de5983-af61-436a-ea1e-6da5dc5c8cd1",
        "colab": {
          "base_uri": "https://localhost:8080/",
          "height": 70
        }
      },
      "source": [
        "get_metrics(resnet50v2_test_pred)"
      ],
      "execution_count": 0,
      "outputs": [
        {
          "output_type": "stream",
          "text": [
            "TP = 1375, TN = 1, FP = 192, FN = 0\n",
            "\n",
            "recall = 1.0, precision = 0.8774728781110402, specificity = 0.0051813471502590676\n"
          ],
          "name": "stdout"
        }
      ]
    },
    {
      "cell_type": "markdown",
      "metadata": {
        "id": "kxAuCWecw0mN",
        "colab_type": "text"
      },
      "source": [
        "## Time Distributed CNN Passed to a RNN"
      ]
    },
    {
      "cell_type": "markdown",
      "metadata": {
        "id": "QM0QwNvl_kmB",
        "colab_type": "text"
      },
      "source": [
        "Reading in raw images caches too much memory and drastically contributes to the time required for training (I was encountering > 14 hours for just a single epoch). To optimize the speed of reading in files, I loaded my data as h5 files in batches of 32 videos."
      ]
    },
    {
      "cell_type": "code",
      "metadata": {
        "id": "-8xNUT19_g8K",
        "colab_type": "code",
        "colab": {}
      },
      "source": [
        "# function to create batches of h5 files\n",
        "def h5_batches(metadata, subset, batch_n, batch_size=32):\n",
        "    index_min = batch_n*batch_size\n",
        "    # Adjust for smaller final batch\n",
        "    index_max = min(index_min + batch_size, len(metadata))\n",
        "    df = metadata[index_min:index_max]\n",
        "\n",
        "    with h5py.File(f'{subset}_h5/{batch_n}.h5', \"w\") as f:\n",
        "        X_train = f.create_dataset(\"X_train\", (len(df),30,160,160,3), dtype='float32') # , maxshape=(None,30,160,160,3)\n",
        "        y_train = f.create_dataset(\"y_train\",(len(df),),dtype='u1')\n",
        "\n",
        "        videos = []\n",
        "        count = 0\n",
        "        for dir in df['filename']:\n",
        "            vid_path = subset + '/' + dir\n",
        "\n",
        "            frames=[]\n",
        "            # read frames in order\n",
        "            for file in sorted(os.scandir(vid_path), key=lambda vid: vid.name):\n",
        "                frame = imageio.imread(vid_path + '/' + file.name)\n",
        "                frames.append(frame)\n",
        "\n",
        "            # pad videos with zero matrices if less than 30 frames\n",
        "            if len(frames) < 30:\n",
        "                n_pads = 30 - len(frames)\n",
        "                zero_pads = np.zeros((n_pads, 160, 160, 3))\n",
        "                frames = np.concatenate((frames, zero_pads))\n",
        "\n",
        "            videos.append(frames)\n",
        "            print(f'batch number={batch_n}, vid_number={count}, vid_id={dir}\\r')\n",
        "            count += 1\n",
        "\n",
        "        videos = np.array(videos)\n",
        "        x = videos.astype('float32')\n",
        "        x /= 255\n",
        "\n",
        "        X_train[:,] = x\n",
        "\n",
        "        y_train[:,] = np.array(df['label'])\n",
        "        f.close()"
      ],
      "execution_count": 0,
      "outputs": []
    },
    {
      "cell_type": "code",
      "metadata": {
        "id": "3-uwvrQoA8Ox",
        "colab_type": "code",
        "colab": {}
      },
      "source": [
        "# CODE TAKES EXTREMELY LONG\n",
        "# generate batches of h5 files, each with 32 videos of 30 frames each\n",
        "for i in range(0, int(np.ceil(len(train)/32)) + 1):\n",
        "    h5_batches(train, 'train', batch_n=i)\n",
        "\n",
        "for i in range(0, int(np.ceil(len(validation)/32)) + 1):\n",
        "    h5_batches(validation, 'validation', batch_n=i)\n",
        "\n",
        "for i in range(0, int(np.ceil(len(test)/32)) + 1):\n",
        "    h5_batches(test, 'test', batch_n=i)"
      ],
      "execution_count": 0,
      "outputs": []
    },
    {
      "cell_type": "code",
      "metadata": {
        "id": "0z4ZchW9-i5Z",
        "colab_type": "code",
        "colab": {}
      },
      "source": [
        "# functions to create custom batch generators for videos\n",
        "def load_frames(batch_n, subset):\n",
        "    with h5py.File(f'{subset}_h5/{batch_n}.h5', \"r\") as f:\n",
        "        x = f['X_train'][:]\n",
        "        y = f['y_train'][:]\n",
        "        f.close()\n",
        "    \n",
        "    return (x, y)\n",
        "\n",
        "def vid_batch_generator(batch_n, steps, subset):\n",
        "    batch_n = 1\n",
        "    while True: \n",
        "        yield load_frames(batch_n-1, subset)\n",
        "        if batch_n < steps:\n",
        "            batch_n+=1\n",
        "        else:\n",
        "            batch_n=1"
      ],
      "execution_count": 0,
      "outputs": []
    },
    {
      "cell_type": "code",
      "metadata": {
        "id": "u9RNCjO8S8pi",
        "colab_type": "code",
        "colab": {}
      },
      "source": [
        "# function build NN for transfer learning using multiple frames per video\n",
        "# TimeDistributed ImageNet Model passed to recurrent NN\n",
        "def build_TD_imagenet_model(pretrained_model):\n",
        "    model = Sequential([\n",
        "        TimeDistributed(pretrained_model, input_shape=(30, 160, 160, 3)),\n",
        "        Dropout(0.5),\n",
        "        BatchNormalization(),\n",
        "        TimeDistributed(Flatten()),\n",
        "        \n",
        "        # Masking layer to ignore padded zeroes\n",
        "        Masking(mask_value=0., input_shape=(30, 160, 160, 3)),\n",
        "\n",
        "        LSTM(64, activation='relu', return_sequences=True),\n",
        "        Dropout(0.25),\n",
        "        BatchNormalization(),\n",
        "        LSTM(256, activation='relu'),\n",
        "        Dropout(0.25),\n",
        "        BatchNormalization(),\n",
        "        Dense(512, activation='relu'),\n",
        "        Dropout(0.25),\n",
        "        BatchNormalization(),\n",
        "        Dense(1, activation='sigmoid')\n",
        "    ])\n",
        "    \n",
        "    return model"
      ],
      "execution_count": 0,
      "outputs": []
    },
    {
      "cell_type": "code",
      "metadata": {
        "id": "D9Ocl9QQZbLU",
        "colab_type": "code",
        "colab": {}
      },
      "source": [
        "# Hyperparameters and generators for video classification\n",
        "EPOCHS=20\n",
        "BATCH_SIZE = 32\n",
        "\n",
        "train_vid_generator = vid_batch_generator(\n",
        "    BATCH_SIZE, steps_train, subset='train')\n",
        "\n",
        "validation_vid_generator = vid_batch_generator(\n",
        "    BATCH_SIZE, steps_validation, subset='validation')\n",
        "\n",
        "test_vid_generator = vid_batch_generator(\n",
        "    BATCH_SIZE, steps_validation, subset='test')"
      ],
      "execution_count": 0,
      "outputs": []
    },
    {
      "cell_type": "markdown",
      "metadata": {
        "id": "aEnlTjbgIUyJ",
        "colab_type": "text"
      },
      "source": [
        "#### Xception"
      ]
    },
    {
      "cell_type": "code",
      "metadata": {
        "id": "z32wUctSw608",
        "colab_type": "code",
        "outputId": "db057b20-879d-4350-9495-61a9d59a5927",
        "colab": {
          "base_uri": "https://localhost:8080/",
          "height": 52
        }
      },
      "source": [
        "from tensorflow.keras.applications.xception import Xception\n",
        "\n",
        "xception = Xception(\n",
        "    include_top=False,\n",
        "    weights='imagenet',\n",
        "    input_shape=(160, 160, 3)\n",
        ")\n",
        "\n",
        "xception_TD_model = build_TD_imagenet_model(xception)\n",
        "\n",
        "for layer in xception_TD_model.layers[:1]:\n",
        "    layer.trainable = False\n",
        "\n",
        "xception_TD_model.compile(\n",
        "    loss='binary_crossentropy', optimizer=opt_01, \n",
        "    metrics=['binary_accuracy', recall_m, precision_m, f1_m])\n",
        "\n",
        "mc = ModelCheckpoint('models/xception_TD_model.01.h5', monitor='val_loss', mode='min', verbose=1, save_best_only=True)\n",
        "\n",
        "xception_TD_history = xception_TD_model.fit(\n",
        "    train_vid_generator, epochs=EPOCHS, \n",
        "    steps_per_epoch=steps_train, \n",
        "    validation_data=validation_vid_generator,\n",
        "    validation_steps=steps_validation,\n",
        "    class_weight=class_weight,\n",
        "    max_queue_size=50,\n",
        "    callbacks=[es, mc],\n",
        "    verbose=1)"
      ],
      "execution_count": 0,
      "outputs": [
        {
          "output_type": "stream",
          "text": [
            "Downloading data from https://github.com/fchollet/deep-learning-models/releases/download/v0.4/xception_weights_tf_dim_ordering_tf_kernels_notop.h5\n",
            "83689472/83683744 [==============================] - 1s 0us/step\n"
          ],
          "name": "stdout"
        }
      ]
    },
    {
      "cell_type": "markdown",
      "metadata": {
        "id": "RR-VOfy8IXcx",
        "colab_type": "text"
      },
      "source": [
        "#### VGG19"
      ]
    },
    {
      "cell_type": "code",
      "metadata": {
        "id": "MVj7YOn-TiHD",
        "colab_type": "code",
        "outputId": "435cb5b9-6f4d-4c9e-e795-6e4f2d9705d6",
        "colab": {
          "base_uri": "https://localhost:8080/",
          "height": 52
        }
      },
      "source": [
        "from tensorflow.keras.applications.vgg19 import VGG19\n",
        "\n",
        "vgg19 = VGG19(\n",
        "    include_top=False,\n",
        "    weights='imagenet',\n",
        "    input_shape=(160, 160, 3)\n",
        ")\n",
        "\n",
        "vgg19_TD_model = build_TD_imagenet_model(vgg19)\n",
        "\n",
        "for layer in vgg19_TD_model.layers[:1]:\n",
        "    layer.trainable = False"
      ],
      "execution_count": 0,
      "outputs": [
        {
          "output_type": "stream",
          "text": [
            "Downloading data from https://github.com/fchollet/deep-learning-models/releases/download/v0.1/vgg19_weights_tf_dim_ordering_tf_kernels_notop.h5\n",
            "80142336/80134624 [==============================] - 1s 0us/step\n"
          ],
          "name": "stdout"
        }
      ]
    },
    {
      "cell_type": "code",
      "metadata": {
        "id": "pCr4UBpbT11x",
        "colab_type": "code",
        "colab": {}
      },
      "source": [
        "vgg19_TD_model.compile(\n",
        "    loss='binary_crossentropy', optimizer=opt_01, \n",
        "    metrics=['binary_accuracy', recall_m, precision_m, f1_m])\n",
        "\n",
        "mc = ModelCheckpoint('models/vgg19_TD_model.01.h5', monitor='val_loss', mode='min', verbose=1, save_best_only=True)"
      ],
      "execution_count": 0,
      "outputs": []
    },
    {
      "cell_type": "code",
      "metadata": {
        "id": "8jLajOaCUP5c",
        "colab_type": "code",
        "outputId": "12ab86f3-9d79-4de6-b7e4-fde962fd57bd",
        "colab": {
          "base_uri": "https://localhost:8080/",
          "height": 761
        }
      },
      "source": [
        "vgg19_TD_history = vgg19_TD_model.fit(\n",
        "    train_vid_generator, epochs=20, \n",
        "    steps_per_epoch=steps_train, \n",
        "    validation_data=validation_vid_generator,\n",
        "    validation_steps=steps_validation,\n",
        "    class_weight=class_weight,\n",
        "    max_queue_size=50,\n",
        "    callbacks=[es, mc],\n",
        "    verbose=1)"
      ],
      "execution_count": 0,
      "outputs": [
        {
          "output_type": "stream",
          "text": [
            "WARNING:tensorflow:sample_weight modes were coerced from\n",
            "  ...\n",
            "    to  \n",
            "  ['...']\n",
            "WARNING:tensorflow:sample_weight modes were coerced from\n",
            "  ...\n",
            "    to  \n",
            "  ['...']\n",
            "Train for 175 steps, validate for 44 steps\n",
            "Epoch 1/20\n",
            "  1/175 [..............................] - ETA: 1:06:01WARNING:tensorflow:Early stopping conditioned on metric `val_loss` which is not available. Available metrics are: \n",
            "WARNING:tensorflow:Can save best model only with val_loss available, skipping.\n"
          ],
          "name": "stdout"
        },
        {
          "output_type": "error",
          "ename": "ResourceExhaustedError",
          "evalue": "ignored",
          "traceback": [
            "\u001b[0;31m---------------------------------------------------------------------------\u001b[0m",
            "\u001b[0;31mResourceExhaustedError\u001b[0m                    Traceback (most recent call last)",
            "\u001b[0;32m<ipython-input-25-730a7db9e914>\u001b[0m in \u001b[0;36m<module>\u001b[0;34m()\u001b[0m\n\u001b[1;32m      7\u001b[0m     \u001b[0mmax_queue_size\u001b[0m\u001b[0;34m=\u001b[0m\u001b[0;36m50\u001b[0m\u001b[0;34m,\u001b[0m\u001b[0;34m\u001b[0m\u001b[0;34m\u001b[0m\u001b[0m\n\u001b[1;32m      8\u001b[0m     \u001b[0mcallbacks\u001b[0m\u001b[0;34m=\u001b[0m\u001b[0;34m[\u001b[0m\u001b[0mes\u001b[0m\u001b[0;34m,\u001b[0m \u001b[0mmc\u001b[0m\u001b[0;34m]\u001b[0m\u001b[0;34m,\u001b[0m\u001b[0;34m\u001b[0m\u001b[0;34m\u001b[0m\u001b[0m\n\u001b[0;32m----> 9\u001b[0;31m     verbose=1)\n\u001b[0m",
            "\u001b[0;32m/usr/local/lib/python3.6/dist-packages/tensorflow_core/python/keras/engine/training.py\u001b[0m in \u001b[0;36mfit\u001b[0;34m(self, x, y, batch_size, epochs, verbose, callbacks, validation_split, validation_data, shuffle, class_weight, sample_weight, initial_epoch, steps_per_epoch, validation_steps, validation_freq, max_queue_size, workers, use_multiprocessing, **kwargs)\u001b[0m\n\u001b[1;32m    817\u001b[0m         \u001b[0mmax_queue_size\u001b[0m\u001b[0;34m=\u001b[0m\u001b[0mmax_queue_size\u001b[0m\u001b[0;34m,\u001b[0m\u001b[0;34m\u001b[0m\u001b[0;34m\u001b[0m\u001b[0m\n\u001b[1;32m    818\u001b[0m         \u001b[0mworkers\u001b[0m\u001b[0;34m=\u001b[0m\u001b[0mworkers\u001b[0m\u001b[0;34m,\u001b[0m\u001b[0;34m\u001b[0m\u001b[0;34m\u001b[0m\u001b[0m\n\u001b[0;32m--> 819\u001b[0;31m         use_multiprocessing=use_multiprocessing)\n\u001b[0m\u001b[1;32m    820\u001b[0m \u001b[0;34m\u001b[0m\u001b[0m\n\u001b[1;32m    821\u001b[0m   def evaluate(self,\n",
            "\u001b[0;32m/usr/local/lib/python3.6/dist-packages/tensorflow_core/python/keras/engine/training_v2.py\u001b[0m in \u001b[0;36mfit\u001b[0;34m(self, model, x, y, batch_size, epochs, verbose, callbacks, validation_split, validation_data, shuffle, class_weight, sample_weight, initial_epoch, steps_per_epoch, validation_steps, validation_freq, max_queue_size, workers, use_multiprocessing, **kwargs)\u001b[0m\n\u001b[1;32m    340\u001b[0m                 \u001b[0mmode\u001b[0m\u001b[0;34m=\u001b[0m\u001b[0mModeKeys\u001b[0m\u001b[0;34m.\u001b[0m\u001b[0mTRAIN\u001b[0m\u001b[0;34m,\u001b[0m\u001b[0;34m\u001b[0m\u001b[0;34m\u001b[0m\u001b[0m\n\u001b[1;32m    341\u001b[0m                 \u001b[0mtraining_context\u001b[0m\u001b[0;34m=\u001b[0m\u001b[0mtraining_context\u001b[0m\u001b[0;34m,\u001b[0m\u001b[0;34m\u001b[0m\u001b[0;34m\u001b[0m\u001b[0m\n\u001b[0;32m--> 342\u001b[0;31m                 total_epochs=epochs)\n\u001b[0m\u001b[1;32m    343\u001b[0m             \u001b[0mcbks\u001b[0m\u001b[0;34m.\u001b[0m\u001b[0mmake_logs\u001b[0m\u001b[0;34m(\u001b[0m\u001b[0mmodel\u001b[0m\u001b[0;34m,\u001b[0m \u001b[0mepoch_logs\u001b[0m\u001b[0;34m,\u001b[0m \u001b[0mtraining_result\u001b[0m\u001b[0;34m,\u001b[0m \u001b[0mModeKeys\u001b[0m\u001b[0;34m.\u001b[0m\u001b[0mTRAIN\u001b[0m\u001b[0;34m)\u001b[0m\u001b[0;34m\u001b[0m\u001b[0;34m\u001b[0m\u001b[0m\n\u001b[1;32m    344\u001b[0m \u001b[0;34m\u001b[0m\u001b[0m\n",
            "\u001b[0;32m/usr/local/lib/python3.6/dist-packages/tensorflow_core/python/keras/engine/training_v2.py\u001b[0m in \u001b[0;36mrun_one_epoch\u001b[0;34m(model, iterator, execution_function, dataset_size, batch_size, strategy, steps_per_epoch, num_samples, mode, training_context, total_epochs)\u001b[0m\n\u001b[1;32m    126\u001b[0m         step=step, mode=mode, size=current_batch_size) as batch_logs:\n\u001b[1;32m    127\u001b[0m       \u001b[0;32mtry\u001b[0m\u001b[0;34m:\u001b[0m\u001b[0;34m\u001b[0m\u001b[0;34m\u001b[0m\u001b[0m\n\u001b[0;32m--> 128\u001b[0;31m         \u001b[0mbatch_outs\u001b[0m \u001b[0;34m=\u001b[0m \u001b[0mexecution_function\u001b[0m\u001b[0;34m(\u001b[0m\u001b[0miterator\u001b[0m\u001b[0;34m)\u001b[0m\u001b[0;34m\u001b[0m\u001b[0;34m\u001b[0m\u001b[0m\n\u001b[0m\u001b[1;32m    129\u001b[0m       \u001b[0;32mexcept\u001b[0m \u001b[0;34m(\u001b[0m\u001b[0mStopIteration\u001b[0m\u001b[0;34m,\u001b[0m \u001b[0merrors\u001b[0m\u001b[0;34m.\u001b[0m\u001b[0mOutOfRangeError\u001b[0m\u001b[0;34m)\u001b[0m\u001b[0;34m:\u001b[0m\u001b[0;34m\u001b[0m\u001b[0;34m\u001b[0m\u001b[0m\n\u001b[1;32m    130\u001b[0m         \u001b[0;31m# TODO(kaftan): File bug about tf function and errors.OutOfRangeError?\u001b[0m\u001b[0;34m\u001b[0m\u001b[0;34m\u001b[0m\u001b[0;34m\u001b[0m\u001b[0m\n",
            "\u001b[0;32m/usr/local/lib/python3.6/dist-packages/tensorflow_core/python/keras/engine/training_v2_utils.py\u001b[0m in \u001b[0;36mexecution_function\u001b[0;34m(input_fn)\u001b[0m\n\u001b[1;32m     96\u001b[0m     \u001b[0;31m# `numpy` translates Tensors to values in Eager mode.\u001b[0m\u001b[0;34m\u001b[0m\u001b[0;34m\u001b[0m\u001b[0;34m\u001b[0m\u001b[0m\n\u001b[1;32m     97\u001b[0m     return nest.map_structure(_non_none_constant_value,\n\u001b[0;32m---> 98\u001b[0;31m                               distributed_function(input_fn))\n\u001b[0m\u001b[1;32m     99\u001b[0m \u001b[0;34m\u001b[0m\u001b[0m\n\u001b[1;32m    100\u001b[0m   \u001b[0;32mreturn\u001b[0m \u001b[0mexecution_function\u001b[0m\u001b[0;34m\u001b[0m\u001b[0;34m\u001b[0m\u001b[0m\n",
            "\u001b[0;32m/usr/local/lib/python3.6/dist-packages/tensorflow_core/python/eager/def_function.py\u001b[0m in \u001b[0;36m__call__\u001b[0;34m(self, *args, **kwds)\u001b[0m\n\u001b[1;32m    566\u001b[0m         \u001b[0mxla_context\u001b[0m\u001b[0;34m.\u001b[0m\u001b[0mExit\u001b[0m\u001b[0;34m(\u001b[0m\u001b[0;34m)\u001b[0m\u001b[0;34m\u001b[0m\u001b[0;34m\u001b[0m\u001b[0m\n\u001b[1;32m    567\u001b[0m     \u001b[0;32melse\u001b[0m\u001b[0;34m:\u001b[0m\u001b[0;34m\u001b[0m\u001b[0;34m\u001b[0m\u001b[0m\n\u001b[0;32m--> 568\u001b[0;31m       \u001b[0mresult\u001b[0m \u001b[0;34m=\u001b[0m \u001b[0mself\u001b[0m\u001b[0;34m.\u001b[0m\u001b[0m_call\u001b[0m\u001b[0;34m(\u001b[0m\u001b[0;34m*\u001b[0m\u001b[0margs\u001b[0m\u001b[0;34m,\u001b[0m \u001b[0;34m**\u001b[0m\u001b[0mkwds\u001b[0m\u001b[0;34m)\u001b[0m\u001b[0;34m\u001b[0m\u001b[0;34m\u001b[0m\u001b[0m\n\u001b[0m\u001b[1;32m    569\u001b[0m \u001b[0;34m\u001b[0m\u001b[0m\n\u001b[1;32m    570\u001b[0m     \u001b[0;32mif\u001b[0m \u001b[0mtracing_count\u001b[0m \u001b[0;34m==\u001b[0m \u001b[0mself\u001b[0m\u001b[0;34m.\u001b[0m\u001b[0m_get_tracing_count\u001b[0m\u001b[0;34m(\u001b[0m\u001b[0;34m)\u001b[0m\u001b[0;34m:\u001b[0m\u001b[0;34m\u001b[0m\u001b[0;34m\u001b[0m\u001b[0m\n",
            "\u001b[0;32m/usr/local/lib/python3.6/dist-packages/tensorflow_core/python/eager/def_function.py\u001b[0m in \u001b[0;36m_call\u001b[0;34m(self, *args, **kwds)\u001b[0m\n\u001b[1;32m    630\u001b[0m         \u001b[0;31m# Lifting succeeded, so variables are initialized and we can run the\u001b[0m\u001b[0;34m\u001b[0m\u001b[0;34m\u001b[0m\u001b[0;34m\u001b[0m\u001b[0m\n\u001b[1;32m    631\u001b[0m         \u001b[0;31m# stateless function.\u001b[0m\u001b[0;34m\u001b[0m\u001b[0;34m\u001b[0m\u001b[0;34m\u001b[0m\u001b[0m\n\u001b[0;32m--> 632\u001b[0;31m         \u001b[0;32mreturn\u001b[0m \u001b[0mself\u001b[0m\u001b[0;34m.\u001b[0m\u001b[0m_stateless_fn\u001b[0m\u001b[0;34m(\u001b[0m\u001b[0;34m*\u001b[0m\u001b[0margs\u001b[0m\u001b[0;34m,\u001b[0m \u001b[0;34m**\u001b[0m\u001b[0mkwds\u001b[0m\u001b[0;34m)\u001b[0m\u001b[0;34m\u001b[0m\u001b[0;34m\u001b[0m\u001b[0m\n\u001b[0m\u001b[1;32m    633\u001b[0m     \u001b[0;32melse\u001b[0m\u001b[0;34m:\u001b[0m\u001b[0;34m\u001b[0m\u001b[0;34m\u001b[0m\u001b[0m\n\u001b[1;32m    634\u001b[0m       \u001b[0mcanon_args\u001b[0m\u001b[0;34m,\u001b[0m \u001b[0mcanon_kwds\u001b[0m \u001b[0;34m=\u001b[0m\u001b[0;31m \u001b[0m\u001b[0;31m\\\u001b[0m\u001b[0;34m\u001b[0m\u001b[0;34m\u001b[0m\u001b[0m\n",
            "\u001b[0;32m/usr/local/lib/python3.6/dist-packages/tensorflow_core/python/eager/function.py\u001b[0m in \u001b[0;36m__call__\u001b[0;34m(self, *args, **kwargs)\u001b[0m\n\u001b[1;32m   2361\u001b[0m     \u001b[0;32mwith\u001b[0m \u001b[0mself\u001b[0m\u001b[0;34m.\u001b[0m\u001b[0m_lock\u001b[0m\u001b[0;34m:\u001b[0m\u001b[0;34m\u001b[0m\u001b[0;34m\u001b[0m\u001b[0m\n\u001b[1;32m   2362\u001b[0m       \u001b[0mgraph_function\u001b[0m\u001b[0;34m,\u001b[0m \u001b[0margs\u001b[0m\u001b[0;34m,\u001b[0m \u001b[0mkwargs\u001b[0m \u001b[0;34m=\u001b[0m \u001b[0mself\u001b[0m\u001b[0;34m.\u001b[0m\u001b[0m_maybe_define_function\u001b[0m\u001b[0;34m(\u001b[0m\u001b[0margs\u001b[0m\u001b[0;34m,\u001b[0m \u001b[0mkwargs\u001b[0m\u001b[0;34m)\u001b[0m\u001b[0;34m\u001b[0m\u001b[0;34m\u001b[0m\u001b[0m\n\u001b[0;32m-> 2363\u001b[0;31m     \u001b[0;32mreturn\u001b[0m \u001b[0mgraph_function\u001b[0m\u001b[0;34m.\u001b[0m\u001b[0m_filtered_call\u001b[0m\u001b[0;34m(\u001b[0m\u001b[0margs\u001b[0m\u001b[0;34m,\u001b[0m \u001b[0mkwargs\u001b[0m\u001b[0;34m)\u001b[0m  \u001b[0;31m# pylint: disable=protected-access\u001b[0m\u001b[0;34m\u001b[0m\u001b[0;34m\u001b[0m\u001b[0m\n\u001b[0m\u001b[1;32m   2364\u001b[0m \u001b[0;34m\u001b[0m\u001b[0m\n\u001b[1;32m   2365\u001b[0m   \u001b[0;34m@\u001b[0m\u001b[0mproperty\u001b[0m\u001b[0;34m\u001b[0m\u001b[0;34m\u001b[0m\u001b[0m\n",
            "\u001b[0;32m/usr/local/lib/python3.6/dist-packages/tensorflow_core/python/eager/function.py\u001b[0m in \u001b[0;36m_filtered_call\u001b[0;34m(self, args, kwargs)\u001b[0m\n\u001b[1;32m   1609\u001b[0m          if isinstance(t, (ops.Tensor,\n\u001b[1;32m   1610\u001b[0m                            resource_variable_ops.BaseResourceVariable))),\n\u001b[0;32m-> 1611\u001b[0;31m         self.captured_inputs)\n\u001b[0m\u001b[1;32m   1612\u001b[0m \u001b[0;34m\u001b[0m\u001b[0m\n\u001b[1;32m   1613\u001b[0m   \u001b[0;32mdef\u001b[0m \u001b[0m_call_flat\u001b[0m\u001b[0;34m(\u001b[0m\u001b[0mself\u001b[0m\u001b[0;34m,\u001b[0m \u001b[0margs\u001b[0m\u001b[0;34m,\u001b[0m \u001b[0mcaptured_inputs\u001b[0m\u001b[0;34m,\u001b[0m \u001b[0mcancellation_manager\u001b[0m\u001b[0;34m=\u001b[0m\u001b[0;32mNone\u001b[0m\u001b[0;34m)\u001b[0m\u001b[0;34m:\u001b[0m\u001b[0;34m\u001b[0m\u001b[0;34m\u001b[0m\u001b[0m\n",
            "\u001b[0;32m/usr/local/lib/python3.6/dist-packages/tensorflow_core/python/eager/function.py\u001b[0m in \u001b[0;36m_call_flat\u001b[0;34m(self, args, captured_inputs, cancellation_manager)\u001b[0m\n\u001b[1;32m   1690\u001b[0m       \u001b[0;31m# No tape is watching; skip to running the function.\u001b[0m\u001b[0;34m\u001b[0m\u001b[0;34m\u001b[0m\u001b[0;34m\u001b[0m\u001b[0m\n\u001b[1;32m   1691\u001b[0m       return self._build_call_outputs(self._inference_function.call(\n\u001b[0;32m-> 1692\u001b[0;31m           ctx, args, cancellation_manager=cancellation_manager))\n\u001b[0m\u001b[1;32m   1693\u001b[0m     forward_backward = self._select_forward_and_backward_functions(\n\u001b[1;32m   1694\u001b[0m         \u001b[0margs\u001b[0m\u001b[0;34m,\u001b[0m\u001b[0;34m\u001b[0m\u001b[0;34m\u001b[0m\u001b[0m\n",
            "\u001b[0;32m/usr/local/lib/python3.6/dist-packages/tensorflow_core/python/eager/function.py\u001b[0m in \u001b[0;36mcall\u001b[0;34m(self, ctx, args, cancellation_manager)\u001b[0m\n\u001b[1;32m    543\u001b[0m               \u001b[0minputs\u001b[0m\u001b[0;34m=\u001b[0m\u001b[0margs\u001b[0m\u001b[0;34m,\u001b[0m\u001b[0;34m\u001b[0m\u001b[0;34m\u001b[0m\u001b[0m\n\u001b[1;32m    544\u001b[0m               \u001b[0mattrs\u001b[0m\u001b[0;34m=\u001b[0m\u001b[0;34m(\u001b[0m\u001b[0;34m\"executor_type\"\u001b[0m\u001b[0;34m,\u001b[0m \u001b[0mexecutor_type\u001b[0m\u001b[0;34m,\u001b[0m \u001b[0;34m\"config_proto\"\u001b[0m\u001b[0;34m,\u001b[0m \u001b[0mconfig\u001b[0m\u001b[0;34m)\u001b[0m\u001b[0;34m,\u001b[0m\u001b[0;34m\u001b[0m\u001b[0;34m\u001b[0m\u001b[0m\n\u001b[0;32m--> 545\u001b[0;31m               ctx=ctx)\n\u001b[0m\u001b[1;32m    546\u001b[0m         \u001b[0;32melse\u001b[0m\u001b[0;34m:\u001b[0m\u001b[0;34m\u001b[0m\u001b[0;34m\u001b[0m\u001b[0m\n\u001b[1;32m    547\u001b[0m           outputs = execute.execute_with_cancellation(\n",
            "\u001b[0;32m/usr/local/lib/python3.6/dist-packages/tensorflow_core/python/eager/execute.py\u001b[0m in \u001b[0;36mquick_execute\u001b[0;34m(op_name, num_outputs, inputs, attrs, ctx, name)\u001b[0m\n\u001b[1;32m     65\u001b[0m     \u001b[0;32melse\u001b[0m\u001b[0;34m:\u001b[0m\u001b[0;34m\u001b[0m\u001b[0;34m\u001b[0m\u001b[0m\n\u001b[1;32m     66\u001b[0m       \u001b[0mmessage\u001b[0m \u001b[0;34m=\u001b[0m \u001b[0me\u001b[0m\u001b[0;34m.\u001b[0m\u001b[0mmessage\u001b[0m\u001b[0;34m\u001b[0m\u001b[0;34m\u001b[0m\u001b[0m\n\u001b[0;32m---> 67\u001b[0;31m     \u001b[0msix\u001b[0m\u001b[0;34m.\u001b[0m\u001b[0mraise_from\u001b[0m\u001b[0;34m(\u001b[0m\u001b[0mcore\u001b[0m\u001b[0;34m.\u001b[0m\u001b[0m_status_to_exception\u001b[0m\u001b[0;34m(\u001b[0m\u001b[0me\u001b[0m\u001b[0;34m.\u001b[0m\u001b[0mcode\u001b[0m\u001b[0;34m,\u001b[0m \u001b[0mmessage\u001b[0m\u001b[0;34m)\u001b[0m\u001b[0;34m,\u001b[0m \u001b[0;32mNone\u001b[0m\u001b[0;34m)\u001b[0m\u001b[0;34m\u001b[0m\u001b[0;34m\u001b[0m\u001b[0m\n\u001b[0m\u001b[1;32m     68\u001b[0m   \u001b[0;32mexcept\u001b[0m \u001b[0mTypeError\u001b[0m \u001b[0;32mas\u001b[0m \u001b[0me\u001b[0m\u001b[0;34m:\u001b[0m\u001b[0;34m\u001b[0m\u001b[0;34m\u001b[0m\u001b[0m\n\u001b[1;32m     69\u001b[0m     keras_symbolic_tensors = [\n",
            "\u001b[0;32m/usr/local/lib/python3.6/dist-packages/six.py\u001b[0m in \u001b[0;36mraise_from\u001b[0;34m(value, from_value)\u001b[0m\n",
            "\u001b[0;31mResourceExhaustedError\u001b[0m: 2 root error(s) found.\n  (0) Resource exhausted:  OOM when allocating tensor with shape[960,64,160,160] and type float on /job:localhost/replica:0/task:0/device:GPU:0 by allocator GPU_0_bfc\n\t [[node sequential_1/time_distributed_2/vgg19/block1_conv2/Conv2D (defined at <ipython-input-25-730a7db9e914>:9) ]]\nHint: If you want to see a list of allocated tensors when OOM happens, add report_tensor_allocations_upon_oom to RunOptions for current allocation info.\n\n\t [[loss/dense_3_loss/weighted_loss/broadcast_weights/assert_broadcastable/is_valid_shape/else/_359/has_valid_nonscalar_shape/then/_1257/has_invalid_dims/concat/_44]]\nHint: If you want to see a list of allocated tensors when OOM happens, add report_tensor_allocations_upon_oom to RunOptions for current allocation info.\n\n  (1) Resource exhausted:  OOM when allocating tensor with shape[960,64,160,160] and type float on /job:localhost/replica:0/task:0/device:GPU:0 by allocator GPU_0_bfc\n\t [[node sequential_1/time_distributed_2/vgg19/block1_conv2/Conv2D (defined at <ipython-input-25-730a7db9e914>:9) ]]\nHint: If you want to see a list of allocated tensors when OOM happens, add report_tensor_allocations_upon_oom to RunOptions for current allocation info.\n\n0 successful operations.\n0 derived errors ignored. [Op:__inference_distributed_function_16825]\n\nFunction call stack:\ndistributed_function -> distributed_function\n"
          ]
        }
      ]
    },
    {
      "cell_type": "markdown",
      "metadata": {
        "id": "a4Zmg119IciO",
        "colab_type": "text"
      },
      "source": [
        "#### VGG16"
      ]
    },
    {
      "cell_type": "code",
      "metadata": {
        "id": "Ood9gSAOA056",
        "colab_type": "code",
        "outputId": "111f3c1d-806a-4104-c5cb-b1a8565a245e",
        "colab": {
          "base_uri": "https://localhost:8080/",
          "height": 52
        }
      },
      "source": [
        "from tensorflow.keras.applications.vgg16 import VGG16\n",
        "\n",
        "vgg16 = VGG16(\n",
        "    include_top=False,\n",
        "    weights='imagenet',\n",
        "    input_shape=(160, 160, 3)\n",
        ")\n",
        "\n",
        "vgg16_TD_model = build_TD_imagenet_model(vgg16)\n",
        "\n",
        "for layer in vgg16_TD_model.layers[:1]:\n",
        "    layer.trainable = False"
      ],
      "execution_count": 0,
      "outputs": [
        {
          "output_type": "stream",
          "text": [
            "Downloading data from https://github.com/fchollet/deep-learning-models/releases/download/v0.1/vgg16_weights_tf_dim_ordering_tf_kernels_notop.h5\n",
            "58892288/58889256 [==============================] - 5s 0us/step\n"
          ],
          "name": "stdout"
        }
      ]
    },
    {
      "cell_type": "code",
      "metadata": {
        "id": "5aIjdx2PA7Rt",
        "colab_type": "code",
        "colab": {}
      },
      "source": [
        "vgg16_TD_model.compile(\n",
        "    loss='binary_crossentropy', optimizer=opt_01, \n",
        "    metrics=['binary_accuracy', recall_m, precision_m, f1_m])\n",
        "\n",
        "mc = ModelCheckpoint('models/vgg16_TD_model.01.h5', monitor='val_loss', mode='min', verbose=1, save_best_only=True)"
      ],
      "execution_count": 0,
      "outputs": []
    },
    {
      "cell_type": "code",
      "metadata": {
        "id": "ICd-IyiUBRis",
        "colab_type": "code",
        "outputId": "5deb3c12-ab02-4205-ede5-4ceffa51c539",
        "colab": {
          "base_uri": "https://localhost:8080/",
          "height": 1000
        }
      },
      "source": [
        "vgg16_TD_history = vgg16_TD_model.fit(\n",
        "    train_vid_generator, epochs=20, \n",
        "    steps_per_epoch=steps_train, \n",
        "    validation_data=validation_vid_generator,\n",
        "    validation_steps=steps_validation,\n",
        "    class_weight=class_weight,\n",
        "    max_queue_size=50,\n",
        "    callbacks=[es, mc],\n",
        "    verbose=1)"
      ],
      "execution_count": 0,
      "outputs": [
        {
          "output_type": "stream",
          "text": [
            "WARNING:tensorflow:sample_weight modes were coerced from\n",
            "  ...\n",
            "    to  \n",
            "  ['...']\n",
            "WARNING:tensorflow:sample_weight modes were coerced from\n",
            "  ...\n",
            "    to  \n",
            "  ['...']\n",
            "Train for 175 steps, validate for 44 steps\n",
            "Epoch 1/20\n",
            "174/175 [============================>.] - ETA: 7s - loss: 0.8495 - binary_accuracy: 0.5860 - recall_m: 0.5878 - precision_m: 0.8934 - f1_m: 0.6885 \n",
            "Epoch 00001: val_loss improved from inf to 0.74634, saving model to models/vgg16_TD_model.01.h5\n",
            "175/175 [==============================] - 1670s 10s/step - loss: 0.8547 - binary_accuracy: 0.5853 - recall_m: 0.5865 - precision_m: 0.8912 - f1_m: 0.6870 - val_loss: 0.7463 - val_binary_accuracy: 0.1127 - val_recall_m: 0.0000e+00 - val_precision_m: 0.0000e+00 - val_f1_m: 0.0000e+00\n",
            "Epoch 2/20\n",
            "174/175 [============================>.] - ETA: 7s - loss: 0.7471 - binary_accuracy: 0.5616 - recall_m: 0.5555 - precision_m: 0.8833 - f1_m: 0.6515 \n",
            "Epoch 00002: val_loss improved from 0.74634 to 0.67194, saving model to models/vgg16_TD_model.01.h5\n",
            "175/175 [==============================] - 1680s 10s/step - loss: 0.7499 - binary_accuracy: 0.5610 - recall_m: 0.5533 - precision_m: 0.8811 - f1_m: 0.6493 - val_loss: 0.6719 - val_binary_accuracy: 0.7861 - val_recall_m: 0.8642 - val_precision_m: 0.8948 - val_f1_m: 0.8722\n",
            "Epoch 3/20\n",
            "174/175 [============================>.] - ETA: 7s - loss: 0.6980 - binary_accuracy: 0.6031 - recall_m: 0.6001 - precision_m: 0.9039 - f1_m: 0.6921 \n",
            "Epoch 00003: val_loss did not improve from 0.67194\n",
            "175/175 [==============================] - 1654s 9s/step - loss: 0.7022 - binary_accuracy: 0.6021 - recall_m: 0.5978 - precision_m: 0.9010 - f1_m: 0.6896 - val_loss: 0.7067 - val_binary_accuracy: 0.1127 - val_recall_m: 0.0000e+00 - val_precision_m: 0.0000e+00 - val_f1_m: 0.0000e+00\n",
            "Epoch 4/20\n",
            "174/175 [============================>.] - ETA: 7s - loss: 0.6846 - binary_accuracy: 0.5990 - recall_m: 0.5977 - precision_m: 0.9013 - f1_m: 0.6884 \n",
            "Epoch 00004: val_loss did not improve from 0.67194\n",
            "175/175 [==============================] - 1669s 10s/step - loss: 0.6879 - binary_accuracy: 0.5979 - recall_m: 0.5948 - precision_m: 0.8976 - f1_m: 0.6852 - val_loss: 0.7293 - val_binary_accuracy: 0.1127 - val_recall_m: 0.0000e+00 - val_precision_m: 0.0000e+00 - val_f1_m: 0.0000e+00\n",
            "Epoch 5/20\n",
            "174/175 [============================>.] - ETA: 7s - loss: 0.6851 - binary_accuracy: 0.5968 - recall_m: 0.5959 - precision_m: 0.8991 - f1_m: 0.6876 \n",
            "Epoch 00005: val_loss did not improve from 0.67194\n",
            "175/175 [==============================] - 1668s 10s/step - loss: 0.6875 - binary_accuracy: 0.5964 - recall_m: 0.5945 - precision_m: 0.8977 - f1_m: 0.6864 - val_loss: 0.7548 - val_binary_accuracy: 0.1127 - val_recall_m: 0.0000e+00 - val_precision_m: 0.0000e+00 - val_f1_m: 0.0000e+00\n",
            "Epoch 6/20\n",
            "174/175 [============================>.] - ETA: 7s - loss: 0.6840 - binary_accuracy: 0.5999 - recall_m: 0.5970 - precision_m: 0.8998 - f1_m: 0.6872 \n",
            "Epoch 00006: val_loss did not improve from 0.67194\n",
            "175/175 [==============================] - 1673s 10s/step - loss: 0.6865 - binary_accuracy: 0.5995 - recall_m: 0.5951 - precision_m: 0.8989 - f1_m: 0.6856 - val_loss: 2.8338 - val_binary_accuracy: 0.4978 - val_recall_m: 0.4858 - val_precision_m: 0.9075 - val_f1_m: 0.5841\n",
            "Epoch 7/20\n",
            "174/175 [============================>.] - ETA: 7s - loss: 0.6767 - binary_accuracy: 0.6135 - recall_m: 0.6183 - precision_m: 0.9049 - f1_m: 0.7090 \n",
            "Epoch 00007: val_loss did not improve from 0.67194\n",
            "175/175 [==============================] - 1669s 10s/step - loss: 0.6809 - binary_accuracy: 0.6127 - recall_m: 0.6163 - precision_m: 0.9025 - f1_m: 0.7070 - val_loss: 0.7956 - val_binary_accuracy: 0.1301 - val_recall_m: 0.0183 - val_precision_m: 0.1591 - val_f1_m: 0.0319\n",
            "Epoch 8/20\n",
            "174/175 [============================>.] - ETA: 7s - loss: 0.6737 - binary_accuracy: 0.6130 - recall_m: 0.6180 - precision_m: 0.9083 - f1_m: 0.7102 \n",
            "Epoch 00008: val_loss did not improve from 0.67194\n",
            "175/175 [==============================] - 1670s 10s/step - loss: 0.6756 - binary_accuracy: 0.6125 - recall_m: 0.6166 - precision_m: 0.9069 - f1_m: 0.7089 - val_loss: 0.7858 - val_binary_accuracy: 0.1344 - val_recall_m: 0.0232 - val_precision_m: 0.2500 - val_f1_m: 0.0411\n",
            "Epoch 9/20\n",
            "174/175 [============================>.] - ETA: 7s - loss: 0.6645 - binary_accuracy: 0.6182 - recall_m: 0.6238 - precision_m: 0.9118 - f1_m: 0.7190 \n",
            "Epoch 00009: val_loss did not improve from 0.67194\n",
            "175/175 [==============================] - 1667s 10s/step - loss: 0.6671 - binary_accuracy: 0.6179 - recall_m: 0.6229 - precision_m: 0.9107 - f1_m: 0.7181 - val_loss: 0.7318 - val_binary_accuracy: 0.1322 - val_recall_m: 0.0205 - val_precision_m: 0.1818 - val_f1_m: 0.0357\n",
            "Epoch 10/20\n",
            "174/175 [============================>.] - ETA: 7s - loss: 0.6465 - binary_accuracy: 0.6412 - recall_m: 0.6451 - precision_m: 0.9208 - f1_m: 0.7422 \n",
            "Epoch 00010: val_loss did not improve from 0.67194\n",
            "175/175 [==============================] - 1672s 10s/step - loss: 0.6489 - binary_accuracy: 0.6414 - recall_m: 0.6450 - precision_m: 0.9205 - f1_m: 0.7422 - val_loss: 0.7989 - val_binary_accuracy: 0.1590 - val_recall_m: 0.0503 - val_precision_m: 0.4318 - val_f1_m: 0.0873\n",
            "Epoch 11/20\n",
            "174/175 [============================>.] - ETA: 7s - loss: 0.6388 - binary_accuracy: 0.6620 - recall_m: 0.6686 - precision_m: 0.9250 - f1_m: 0.7647 \n",
            "Epoch 00011: val_loss did not improve from 0.67194\n",
            "175/175 [==============================] - 1669s 10s/step - loss: 0.6414 - binary_accuracy: 0.6618 - recall_m: 0.6679 - precision_m: 0.9240 - f1_m: 0.7639 - val_loss: 0.9173 - val_binary_accuracy: 0.1517 - val_recall_m: 0.0431 - val_precision_m: 0.3636 - val_f1_m: 0.0753\n",
            "Epoch 12/20\n",
            "174/175 [============================>.] - ETA: 7s - loss: 0.6419 - binary_accuracy: 0.6428 - recall_m: 0.6495 - precision_m: 0.9181 - f1_m: 0.7470 \n",
            "Epoch 00012: val_loss did not improve from 0.67194\n",
            "175/175 [==============================] - 1669s 10s/step - loss: 0.6445 - binary_accuracy: 0.6426 - recall_m: 0.6484 - precision_m: 0.9176 - f1_m: 0.7461 - val_loss: 0.7618 - val_binary_accuracy: 0.1496 - val_recall_m: 0.0408 - val_precision_m: 0.4432 - val_f1_m: 0.0724\n",
            "Epoch 13/20\n",
            "174/175 [============================>.] - ETA: 7s - loss: 0.6146 - binary_accuracy: 0.6728 - recall_m: 0.6773 - precision_m: 0.9318 - f1_m: 0.7726 \n",
            "Epoch 00013: val_loss did not improve from 0.67194\n",
            "175/175 [==============================] - 1678s 10s/step - loss: 0.6172 - binary_accuracy: 0.6725 - recall_m: 0.6765 - precision_m: 0.9308 - f1_m: 0.7718 - val_loss: 0.7159 - val_binary_accuracy: 0.2146 - val_recall_m: 0.1215 - val_precision_m: 0.8094 - val_f1_m: 0.2024\n",
            "Epoch 14/20\n",
            "174/175 [============================>.] - ETA: 7s - loss: 0.6082 - binary_accuracy: 0.6638 - recall_m: 0.6655 - precision_m: 0.9358 - f1_m: 0.7645 \n",
            "Epoch 00014: val_loss did not improve from 0.67194\n",
            "175/175 [==============================] - 1666s 10s/step - loss: 0.6113 - binary_accuracy: 0.6632 - recall_m: 0.6643 - precision_m: 0.9341 - f1_m: 0.7631 - val_loss: 3.3038 - val_binary_accuracy: 0.1185 - val_recall_m: 0.0058 - val_precision_m: 0.1136 - val_f1_m: 0.0111\n",
            "Epoch 15/20\n",
            "174/175 [============================>.] - ETA: 7s - loss: 0.5925 - binary_accuracy: 0.6967 - recall_m: 0.6973 - precision_m: 0.9423 - f1_m: 0.7905 \n",
            "Epoch 00015: val_loss did not improve from 0.67194\n",
            "175/175 [==============================] - 1672s 10s/step - loss: 0.5950 - binary_accuracy: 0.6965 - recall_m: 0.6964 - precision_m: 0.9418 - f1_m: 0.7898 - val_loss: 0.7407 - val_binary_accuracy: 0.2825 - val_recall_m: 0.2034 - val_precision_m: 0.8824 - val_f1_m: 0.3054\n",
            "Epoch 16/20\n",
            "174/175 [============================>.] - ETA: 7s - loss: 0.5857 - binary_accuracy: 0.6861 - recall_m: 0.6831 - precision_m: 0.9449 - f1_m: 0.7824 \n",
            "Epoch 00016: val_loss improved from 0.67194 to 0.67120, saving model to models/vgg16_TD_model.01.h5\n",
            "175/175 [==============================] - 1678s 10s/step - loss: 0.5884 - binary_accuracy: 0.6859 - recall_m: 0.6823 - precision_m: 0.9444 - f1_m: 0.7818 - val_loss: 0.6712 - val_binary_accuracy: 0.4603 - val_recall_m: 0.4176 - val_precision_m: 0.9006 - val_f1_m: 0.5344\n",
            "Epoch 17/20\n",
            "174/175 [============================>.] - ETA: 7s - loss: 0.5657 - binary_accuracy: 0.6945 - recall_m: 0.6887 - precision_m: 0.9527 - f1_m: 0.7928 \n",
            "Epoch 00017: val_loss improved from 0.67120 to 0.66793, saving model to models/vgg16_TD_model.01.h5\n",
            "175/175 [==============================] - 1671s 10s/step - loss: 0.5706 - binary_accuracy: 0.6945 - recall_m: 0.6884 - precision_m: 0.9523 - f1_m: 0.7925 - val_loss: 0.6679 - val_binary_accuracy: 0.5918 - val_recall_m: 0.5796 - val_precision_m: 0.9569 - val_f1_m: 0.6948\n",
            "Epoch 18/20\n",
            "174/175 [============================>.] - ETA: 7s - loss: 0.5554 - binary_accuracy: 0.7135 - recall_m: 0.7111 - precision_m: 0.9541 - f1_m: 0.8098 "
          ],
          "name": "stdout"
        }
      ]
    },
    {
      "cell_type": "markdown",
      "metadata": {
        "id": "61uBXNIV_3BE",
        "colab_type": "text"
      },
      "source": [
        "## Archived"
      ]
    },
    {
      "cell_type": "code",
      "metadata": {
        "id": "J-honNlb_rxA",
        "colab_type": "code",
        "colab": {}
      },
      "source": [
        "# modified from https://mc.ai/train-keras-model-with-large-dataset-batch-training/\n",
        "def load_frame(df, batch_n, batch_size, subset):\n",
        "    if batch_n > 0:\n",
        "        batch = pd.read_csv(df, skiprows=batch_n*batch_size+1, nrows=batch_size, names=['filename', 'label'])\n",
        "    else:\n",
        "        batch = pd.read_csv(df, skiprows=batch_n*batch_size, nrows=batch_size)\n",
        "    \n",
        "    frames = []\n",
        "    for dir in batch['filename']:\n",
        "        try:\n",
        "            frame_path = subset + '/' + dir + '/' + os.listdir(subset + '/' + dir)[14]\n",
        "        #if 15th frame does not exist, use first frame\n",
        "        except IndexError:\n",
        "            frame_path = subset + '/' + dir + '/' + os.listdir(subset + '/' + dir)[0]\n",
        "\n",
        "        frame = imageio.imread(frame_path)\n",
        "\n",
        "        frames.append(frame)\n",
        "    \n",
        "    frames = np.array(frames)\n",
        "    x = frames.astype('float32')\n",
        "    x /= 255\n",
        "    \n",
        "    y = np.array(batch['label'])\n",
        "    #print(y)\n",
        "    \n",
        "    #print(f'{batch_n} passed')\n",
        "    return (x, y)\n",
        "\n",
        "def batch_generator(df, batch_size, steps, subset):\n",
        "    batch_n = 1\n",
        "    while True: \n",
        "        yield load_frame(df, batch_n-1, batch_size, subset)\n",
        "        if batch_n < steps:\n",
        "            batch_n+=1\n",
        "        else:\n",
        "            batch_n=1"
      ],
      "execution_count": 0,
      "outputs": []
    },
    {
      "cell_type": "code",
      "metadata": {
        "id": "O9GE82oXBPIV",
        "colab_type": "code",
        "colab": {}
      },
      "source": [
        "def load_frames(df, batch_n, batch_size, subset):\n",
        "    if batch_n > 0:\n",
        "        df = pd.read_csv(df, skiprows=batch_n*batch_size+1, nrows=batch_size, names=['filename', 'label'])\n",
        "    else:\n",
        "        df = pd.read_csv(df, skiprows=batch_n*batch_size, nrows=batch_size)\n",
        "    \n",
        "    videos = []\n",
        "    for dir in df['filename']:\n",
        "        vid_path = subset + '/' + dir\n",
        "\n",
        "        frames=[]\n",
        "        # read frames in order\n",
        "        for file in sorted(os.scandir(vid_path), key=lambda f: f.name):\n",
        "            #print(vid_path + '/' + file.name)\n",
        "            frame = imageio.imread(vid_path + '/' + file.name)\n",
        "            frames.append(frame)\n",
        "\n",
        "        # pad videos with zero matrices if less than 30 frames\n",
        "        if len(frames) < 30:\n",
        "            n_pads = 30 - len(frames)\n",
        "            zero_pads = np.zeros((n_pads, 160, 160, 3))\n",
        "            frames = np.concatenate((frames, zero_pads))\n",
        "        \n",
        "        videos.append(frames)\n",
        "    \n",
        "    videos = np.array(videos)\n",
        "    x = videos.astype('float32')\n",
        "    x /= 255\n",
        "    \n",
        "    y = np.array(df['label'])\n",
        "    #print(y)\n",
        "    \n",
        "    #print(f'{batch_n} passed')\n",
        "    return (x, y)\n",
        "\n",
        "def vid_batch_generator(df, batch_size, steps, subset):\n",
        "    batch_n = 1\n",
        "    while True: \n",
        "        yield load_frames(df, batch_n-1, batch_size, subset)\n",
        "        if batch_n < steps:\n",
        "            batch_n+=1\n",
        "        else:\n",
        "            batch_n=1"
      ],
      "execution_count": 0,
      "outputs": []
    }
  ]
}