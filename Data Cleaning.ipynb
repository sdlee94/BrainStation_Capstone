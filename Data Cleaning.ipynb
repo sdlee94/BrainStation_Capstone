{
 "cells": [
  {
   "cell_type": "markdown",
   "metadata": {},
   "source": [
    "# Data Cleaning"
   ]
  },
  {
   "cell_type": "markdown",
   "metadata": {},
   "source": [
    "---"
   ]
  },
  {
   "cell_type": "code",
   "execution_count": 2,
   "metadata": {},
   "outputs": [],
   "source": [
    "import numpy as np\n",
    "import pandas as pd\n",
    "import matplotlib.pyplot as plt\n",
    "#import seaborn as sns\n",
    "#import altair as alt"
   ]
  },
  {
   "cell_type": "code",
   "execution_count": 3,
   "metadata": {},
   "outputs": [
    {
     "name": "stdout",
     "output_type": "stream",
     "text": [
      "(10420, 4)\n"
     ]
    },
    {
     "data": {
      "text/html": [
       "<div>\n",
       "<style scoped>\n",
       "    .dataframe tbody tr th:only-of-type {\n",
       "        vertical-align: middle;\n",
       "    }\n",
       "\n",
       "    .dataframe tbody tr th {\n",
       "        vertical-align: top;\n",
       "    }\n",
       "\n",
       "    .dataframe thead th {\n",
       "        text-align: right;\n",
       "    }\n",
       "</style>\n",
       "<table border=\"1\" class=\"dataframe\">\n",
       "  <thead>\n",
       "    <tr style=\"text-align: right;\">\n",
       "      <th></th>\n",
       "      <th>filename</th>\n",
       "      <th>split</th>\n",
       "      <th>original</th>\n",
       "      <th>label</th>\n",
       "    </tr>\n",
       "  </thead>\n",
       "  <tbody>\n",
       "    <tr>\n",
       "      <th>0</th>\n",
       "      <td>bztdemptfg.mp4</td>\n",
       "      <td>train</td>\n",
       "      <td>exxqlfpnbz.mp4</td>\n",
       "      <td>FAKE</td>\n",
       "    </tr>\n",
       "    <tr>\n",
       "      <th>1</th>\n",
       "      <td>qarqtkvgby.mp4</td>\n",
       "      <td>train</td>\n",
       "      <td>NaN</td>\n",
       "      <td>REAL</td>\n",
       "    </tr>\n",
       "    <tr>\n",
       "      <th>2</th>\n",
       "      <td>kujvvxpted.mp4</td>\n",
       "      <td>train</td>\n",
       "      <td>fdpisghkmd.mp4</td>\n",
       "      <td>FAKE</td>\n",
       "    </tr>\n",
       "    <tr>\n",
       "      <th>3</th>\n",
       "      <td>avznxuwvbx.mp4</td>\n",
       "      <td>train</td>\n",
       "      <td>dpevefkefv.mp4</td>\n",
       "      <td>FAKE</td>\n",
       "    </tr>\n",
       "    <tr>\n",
       "      <th>4</th>\n",
       "      <td>ehfmarmsvo.mp4</td>\n",
       "      <td>train</td>\n",
       "      <td>jawgcggquk.mp4</td>\n",
       "      <td>FAKE</td>\n",
       "    </tr>\n",
       "  </tbody>\n",
       "</table>\n",
       "</div>"
      ],
      "text/plain": [
       "         filename  split        original label\n",
       "0  bztdemptfg.mp4  train  exxqlfpnbz.mp4  FAKE\n",
       "1  qarqtkvgby.mp4  train             NaN  REAL\n",
       "2  kujvvxpted.mp4  train  fdpisghkmd.mp4  FAKE\n",
       "3  avznxuwvbx.mp4  train  dpevefkefv.mp4  FAKE\n",
       "4  ehfmarmsvo.mp4  train  jawgcggquk.mp4  FAKE"
      ]
     },
     "execution_count": 3,
     "metadata": {},
     "output_type": "execute_result"
    }
   ],
   "source": [
    "metadata = pd.read_csv(\"data/metadata.csv\")\n",
    "print(metadata.shape)\n",
    "metadata.head()"
   ]
  },
  {
   "cell_type": "code",
   "execution_count": 46,
   "metadata": {},
   "outputs": [
    {
     "data": {
      "text/html": [
       "<div>\n",
       "<style scoped>\n",
       "    .dataframe tbody tr th:only-of-type {\n",
       "        vertical-align: middle;\n",
       "    }\n",
       "\n",
       "    .dataframe tbody tr th {\n",
       "        vertical-align: top;\n",
       "    }\n",
       "\n",
       "    .dataframe thead th {\n",
       "        text-align: right;\n",
       "    }\n",
       "</style>\n",
       "<table border=\"1\" class=\"dataframe\">\n",
       "  <thead>\n",
       "    <tr style=\"text-align: right;\">\n",
       "      <th></th>\n",
       "      <th>filename</th>\n",
       "      <th>split</th>\n",
       "      <th>original</th>\n",
       "      <th>label</th>\n",
       "    </tr>\n",
       "  </thead>\n",
       "  <tbody>\n",
       "    <tr>\n",
       "      <th>10415</th>\n",
       "      <td>alrogmblmz.mp4</td>\n",
       "      <td>train</td>\n",
       "      <td>fimhhyetym.mp4</td>\n",
       "      <td>FAKE</td>\n",
       "    </tr>\n",
       "    <tr>\n",
       "      <th>10416</th>\n",
       "      <td>ubxlhztujz.mp4</td>\n",
       "      <td>train</td>\n",
       "      <td>epphrlkqhp.mp4</td>\n",
       "      <td>FAKE</td>\n",
       "    </tr>\n",
       "    <tr>\n",
       "      <th>10417</th>\n",
       "      <td>ucvpzauvoh.mp4</td>\n",
       "      <td>train</td>\n",
       "      <td>vpiqmvxclb.mp4</td>\n",
       "      <td>FAKE</td>\n",
       "    </tr>\n",
       "    <tr>\n",
       "      <th>10418</th>\n",
       "      <td>kjcstjpivk.mp4</td>\n",
       "      <td>train</td>\n",
       "      <td>krifcuqyay.mp4</td>\n",
       "      <td>FAKE</td>\n",
       "    </tr>\n",
       "    <tr>\n",
       "      <th>10419</th>\n",
       "      <td>adcnvlhawy.mp4</td>\n",
       "      <td>train</td>\n",
       "      <td>jswunuyhcq.mp4</td>\n",
       "      <td>FAKE</td>\n",
       "    </tr>\n",
       "  </tbody>\n",
       "</table>\n",
       "</div>"
      ],
      "text/plain": [
       "             filename  split        original label\n",
       "10415  alrogmblmz.mp4  train  fimhhyetym.mp4  FAKE\n",
       "10416  ubxlhztujz.mp4  train  epphrlkqhp.mp4  FAKE\n",
       "10417  ucvpzauvoh.mp4  train  vpiqmvxclb.mp4  FAKE\n",
       "10418  kjcstjpivk.mp4  train  krifcuqyay.mp4  FAKE\n",
       "10419  adcnvlhawy.mp4  train  jswunuyhcq.mp4  FAKE"
      ]
     },
     "execution_count": 46,
     "metadata": {},
     "output_type": "execute_result"
    }
   ],
   "source": [
    "metadata.tail()"
   ]
  },
  {
   "cell_type": "code",
   "execution_count": 4,
   "metadata": {},
   "outputs": [],
   "source": [
    "metadata.drop('split', axis = 1, inplace=True)"
   ]
  },
  {
   "cell_type": "markdown",
   "metadata": {},
   "source": [
    "Based on the original dataset comprising of videos that are all 10 seconds long at 30 frames per second (FPS), I should expect the pre-processed dataset to consist of 300 images or frames of faces for each video. From browsing the pre-processed data, I encountered cases where frames misidentified as faces were present and cases with more than 1 face per frame (video featured more than 1 actor). I thus sought to investigate the number of frames across the whole dataset. Video filenames and their number of frames was obtained using a bash script (get_n_frames.sh) and written into a csv file (n_frames_df.csv)."
   ]
  },
  {
   "cell_type": "code",
   "execution_count": 5,
   "metadata": {},
   "outputs": [
    {
     "data": {
      "text/html": [
       "<div>\n",
       "<style scoped>\n",
       "    .dataframe tbody tr th:only-of-type {\n",
       "        vertical-align: middle;\n",
       "    }\n",
       "\n",
       "    .dataframe tbody tr th {\n",
       "        vertical-align: top;\n",
       "    }\n",
       "\n",
       "    .dataframe thead th {\n",
       "        text-align: right;\n",
       "    }\n",
       "</style>\n",
       "<table border=\"1\" class=\"dataframe\">\n",
       "  <thead>\n",
       "    <tr style=\"text-align: right;\">\n",
       "      <th></th>\n",
       "      <th>filename</th>\n",
       "      <th>n_frames</th>\n",
       "    </tr>\n",
       "  </thead>\n",
       "  <tbody>\n",
       "    <tr>\n",
       "      <th>0</th>\n",
       "      <td>data/aaagqkcdis/</td>\n",
       "      <td>276</td>\n",
       "    </tr>\n",
       "    <tr>\n",
       "      <th>1</th>\n",
       "      <td>data/aaaoqepxnf/</td>\n",
       "      <td>300</td>\n",
       "    </tr>\n",
       "    <tr>\n",
       "      <th>2</th>\n",
       "      <td>data/aabdnomlru/</td>\n",
       "      <td>300</td>\n",
       "    </tr>\n",
       "    <tr>\n",
       "      <th>3</th>\n",
       "      <td>data/aabqyygbaa/</td>\n",
       "      <td>300</td>\n",
       "    </tr>\n",
       "    <tr>\n",
       "      <th>4</th>\n",
       "      <td>data/aafezqchru/</td>\n",
       "      <td>300</td>\n",
       "    </tr>\n",
       "  </tbody>\n",
       "</table>\n",
       "</div>"
      ],
      "text/plain": [
       "           filename  n_frames\n",
       "0  data/aaagqkcdis/       276\n",
       "1  data/aaaoqepxnf/       300\n",
       "2  data/aabdnomlru/       300\n",
       "3  data/aabqyygbaa/       300\n",
       "4  data/aafezqchru/       300"
      ]
     },
     "execution_count": 5,
     "metadata": {},
     "output_type": "execute_result"
    }
   ],
   "source": [
    "n_frames_df = pd.read_csv(\"n_frames.csv\", names=['filename', 'n_frames'])\n",
    "n_frames_df.head()"
   ]
  },
  {
   "cell_type": "code",
   "execution_count": 6,
   "metadata": {},
   "outputs": [],
   "source": [
    "# remove extraneous characters from filename\n",
    "n_frames_df['filename'] = n_frames_df['filename'].str.replace(\"data/\", \"\").str.replace(\"/\", \"\")"
   ]
  },
  {
   "cell_type": "code",
   "execution_count": 21,
   "metadata": {},
   "outputs": [
    {
     "data": {
      "image/png": "[encoded data removed]",
      "text/plain": [
       "<Figure size 432x288 with 1 Axes>"
      ]
     },
     "metadata": {
      "needs_background": "light"
     },
     "output_type": "display_data"
    }
   ],
   "source": [
    "# look at the distribution of n frames in a density plot\n",
    "ax = sns.distplot(n_frames_df['n_frames'], hist=False)\n",
    "ax.set_xlabel('Number of Frames', fontsize = 16)\n",
    "ax.set_ylabel('Density', fontsize = 16)\n",
    "ax.tick_params(labelsize=12)"
   ]
  },
  {
   "cell_type": "code",
   "execution_count": 24,
   "metadata": {},
   "outputs": [],
   "source": [
    "# write histogram as png\n",
    "n_frames_hist = ax.get_figure()\n",
    "n_frames_hist.savefig('figs/n_frames_hist.png')"
   ]
  },
  {
   "cell_type": "markdown",
   "metadata": {},
   "source": [
    "There is some variability in the number of frames that were extracted from each video, with the majority of extracted frames falling between 200 and 400. There is also a noticeable group around 600 frames - these must be the videos that featured 2 actors. \n",
    "\n",
    "Since I will be using keras models which takes a non-variable input shape, I need all of my videos to have the same number of frames. I also need to consider whether 30 frames per second is necessary, as adjacent frames will be nearly identical. Considering my limited resources in time and computation, reducing down to 1 frame per second sounds like a reasonable idea. This also reduces the amount of padding I would need to do. First, I will disregard videos for which less than 200 or more than 400 face frames were extracted (outliers). "
   ]
  },
  {
   "cell_type": "code",
   "execution_count": 7,
   "metadata": {},
   "outputs": [
    {
     "data": {
      "text/plain": [
       "1832"
      ]
     },
     "execution_count": 7,
     "metadata": {},
     "output_type": "execute_result"
    }
   ],
   "source": [
    "# get videos for which over 400 or less than 200 frames were extracted during face detection\n",
    "outliers = n_frames_df.loc[np.where((n_frames_df['n_frames']>400) | (n_frames_df['n_frames']<200))]['filename']\n",
    "len(outliers)"
   ]
  },
  {
   "cell_type": "markdown",
   "metadata": {},
   "source": [
    "Recall that for each original video, several fakes were generated. So, if a real video was identified as an outlier but one or more of its derived fakes were not, those fakes would no longer have an associated original in the dataset. Let's check to see if there are any of these cases."
   ]
  },
  {
   "cell_type": "code",
   "execution_count": 8,
   "metadata": {},
   "outputs": [
    {
     "data": {
      "text/plain": [
       "51"
      ]
     },
     "execution_count": 8,
     "metadata": {},
     "output_type": "execute_result"
    }
   ],
   "source": [
    "# get fakes associated with a real video that was called as an outlier\n",
    "real_outlier_fakes = metadata[metadata['original'].isin(outliers + \".mp4\")]['filename']\n",
    "\n",
    "# from above, get those that were not called an outlier\n",
    "outlier_assoc_fakes = real_outlier_fakes[~real_outlier_fakes.isin(outliers + \".mp4\")].str.replace(\".mp4\", \"\")\n",
    "\n",
    "# how many were not called an outlier\n",
    "len(outlier_assoc_fakes)"
   ]
  },
  {
   "cell_type": "markdown",
   "metadata": {},
   "source": [
    "There are 51 non-outlier fakes whose associated originals were idenfied to be an outlier. Let's add these to the outlier list."
   ]
  },
  {
   "cell_type": "code",
   "execution_count": 9,
   "metadata": {},
   "outputs": [],
   "source": [
    "outliers = outliers.append(outlier_assoc_fakes)"
   ]
  },
  {
   "cell_type": "code",
   "execution_count": 122,
   "metadata": {},
   "outputs": [],
   "source": [
    "# write outlier filenames as txt file\n",
    "outlier_paths = \"data/\" + outliers\n",
    "outlier_paths.to_csv('n_frame_outliers.txt', index=0, header=False)"
   ]
  },
  {
   "cell_type": "markdown",
   "metadata": {},
   "source": [
    "Using the exported n_frame_outliers.txt file, I archived the outliers video directories with the following bash command:\n",
    "\n",
    "`xargs -a n_frame_outliers.txt mv -t data/archived/n_frame_outliers`\n",
    "\n",
    "Can return an error: `mv: cannot stat '<path>'$'\\r': No such file or directory`\n",
    "Had to run the following for the bash command to work\n",
    "\n",
    "`tr -d '\\r' <n_frame_outliers.txt >n_frame_outliers_new.txt && mv n_frame_outliers_new.txt n_frame_outliers.txt`"
   ]
  },
  {
   "cell_type": "markdown",
   "metadata": {},
   "source": [
    "I should also update the metadata file"
   ]
  },
  {
   "cell_type": "code",
   "execution_count": 10,
   "metadata": {},
   "outputs": [
    {
     "data": {
      "text/plain": [
       "5        aahncigwte\n",
       "11       aansscoqsl\n",
       "27       abjgxazkfk\n",
       "30       abterabwrj\n",
       "34       abzamapbpi\n",
       "            ...    \n",
       "10138    bfowhabcyv\n",
       "10295    srbvyvchmm\n",
       "10310    hudmutditr\n",
       "10322    frcluhsyzk\n",
       "10419    adcnvlhawy\n",
       "Name: filename, Length: 1883, dtype: object"
      ]
     },
     "execution_count": 10,
     "metadata": {},
     "output_type": "execute_result"
    }
   ],
   "source": [
    "outliers"
   ]
  },
  {
   "cell_type": "code",
   "execution_count": 30,
   "metadata": {},
   "outputs": [],
   "source": [
    "metadata = pd.read_csv(\"data/metadata.csv\")\n",
    "\n",
    "# encode labels as 0 (real) and 1 (fake)\n",
    "metadata['label'] = metadata['label'].map({'REAL':0, 'FAKE':1})\n",
    "\n",
    "# fill na values in original with value in filename (only relevant for real videos)\n",
    "metadata['original'].fillna(metadata['filename'], inplace=True)\n",
    "\n",
    "# remove '.mp4' from filename\n",
    "metadata['filename'] = metadata['filename'].str.replace('.mp4', '')\n",
    "\n",
    "# remove outliers\n",
    "metadata = metadata[~metadata['filename'].isin(outliers)]\n",
    "\n",
    "# change filename to be path to each image folder\n",
    "metadata['filename'] = 'data_30/' + metadata['filename']"
   ]
  },
  {
   "cell_type": "code",
   "execution_count": 31,
   "metadata": {},
   "outputs": [
    {
     "data": {
      "text/plain": [
       "(8537, 4)"
      ]
     },
     "execution_count": 31,
     "metadata": {},
     "output_type": "execute_result"
    }
   ],
   "source": [
    "metadata.shape"
   ]
  },
  {
   "cell_type": "code",
   "execution_count": 32,
   "metadata": {},
   "outputs": [
    {
     "data": {
      "text/plain": [
       "1    0.877826\n",
       "0    0.122174\n",
       "Name: label, dtype: float64"
      ]
     },
     "execution_count": 32,
     "metadata": {},
     "output_type": "execute_result"
    }
   ],
   "source": [
    "# return proportion of classes\n",
    "metadata['label'].value_counts() / metadata['label'].value_counts().sum()"
   ]
  },
  {
   "cell_type": "markdown",
   "metadata": {},
   "source": [
    "The dataset consists of ~87.8% fake videos and ~12.2% real videos. This means that a model requires an accuracy of greater than 87.8% to be better than just simply guessing 'fake' on every video."
   ]
  },
  {
   "cell_type": "markdown",
   "metadata": {},
   "source": [
    "## Train-Test Split"
   ]
  },
  {
   "cell_type": "markdown",
   "metadata": {},
   "source": [
    "The fact that there are multiple fake videos derived from each original video presents a concern regarding the train-test split. If I were to perform random stratification, videos derived from the same original would be present in both training and testing sets, thus breaking the *golden rule* of machine learning. To elaborate, while no two videos should be exactly the same, the similarity between videos orignating from the same source may bias the model such that it may be able to classify a video more easily if it has learned from related videos during training. Hence, I should ensure that each original and their derivatives or 'family' of videos are stratified such that they are mutually exclusive between the train and test sets."
   ]
  },
  {
   "cell_type": "code",
   "execution_count": 95,
   "metadata": {},
   "outputs": [],
   "source": [
    "np.random.seed(2006)\n",
    "\n",
    "orig_files = metadata['original'].unique()\n",
    "\n",
    "# randomly split original (real) videos \n",
    "mask = np.random.rand(len(orig_files)) < 0.8\n",
    "train_mask = orig_files[mask]\n",
    "test_mask = orig_files[~mask]\n",
    "\n",
    "train = metadata[metadata['original'].isin(train_mask)]\n",
    "test = metadata[metadata['original'].isin(test_mask)]"
   ]
  },
  {
   "cell_type": "code",
   "execution_count": 35,
   "metadata": {},
   "outputs": [
    {
     "name": "stdout",
     "output_type": "stream",
     "text": [
      "6888 1649\n"
     ]
    }
   ],
   "source": [
    "print(train.shape[0], test.shape[0])"
   ]
  },
  {
   "cell_type": "code",
   "execution_count": 96,
   "metadata": {},
   "outputs": [
    {
     "name": "stdout",
     "output_type": "stream",
     "text": [
      "1    0.878031\n",
      "0    0.121969\n",
      "Name: label, dtype: float64\n",
      "1    0.876913\n",
      "0    0.123087\n",
      "Name: label, dtype: float64\n"
     ]
    }
   ],
   "source": [
    "print(train['label'].value_counts() / train['label'].value_counts().sum())\n",
    "print(test['label'].value_counts() / test['label'].value_counts().sum())"
   ]
  },
  {
   "cell_type": "code",
   "execution_count": 101,
   "metadata": {},
   "outputs": [
    {
     "name": "stderr",
     "output_type": "stream",
     "text": [
      "C:\\Users\\Steph\\Anaconda3\\envs\\neuralnetworks\\lib\\site-packages\\pandas\\core\\frame.py:3997: SettingWithCopyWarning: \n",
      "A value is trying to be set on a copy of a slice from a DataFrame\n",
      "\n",
      "See the caveats in the documentation: https://pandas.pydata.org/pandas-docs/stable/user_guide/indexing.html#returning-a-view-versus-a-copy\n",
      "  errors=errors,\n"
     ]
    }
   ],
   "source": [
    "train.drop(['split','original'], axis = 1, inplace=True)\n",
    "test.drop(['split','original'], axis = 1, inplace=True)"
   ]
  },
  {
   "cell_type": "code",
   "execution_count": 105,
   "metadata": {},
   "outputs": [],
   "source": [
    "train.to_csv('metadata_train.csv', index=False)\n",
    "test.to_csv('metadata_test.csv', index=False)"
   ]
  }
 ],
 "metadata": {
  "kernelspec": {
   "display_name": "Python 3",
   "language": "python",
   "name": "python3"
  },
  "language_info": {
   "codemirror_mode": {
    "name": "ipython",
    "version": 3
   },
   "file_extension": ".py",
   "mimetype": "text/x-python",
   "name": "python",
   "nbconvert_exporter": "python",
   "pygments_lexer": "ipython3",
   "version": "3.6.10"
  }
 },
 "nbformat": 4,
 "nbformat_minor": 4
}
